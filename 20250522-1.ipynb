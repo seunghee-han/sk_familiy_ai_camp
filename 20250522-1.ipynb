{
 "cells": [
  {
   "cell_type": "markdown",
   "id": "4622f282",
   "metadata": {},
   "source": [
    "# 2025-05-22\n",
    "\n",
    "- 웹 크롤링\n",
    "- melon 음악 가사 불러오기\n"
   ]
  },
  {
   "cell_type": "code",
   "execution_count": 1,
   "id": "099a2d52",
   "metadata": {},
   "outputs": [],
   "source": [
    "def test():\n",
    "    return "
   ]
  },
  {
   "cell_type": "code",
   "execution_count": 2,
   "id": "94fa5fab",
   "metadata": {},
   "outputs": [],
   "source": [
    "a = test()"
   ]
  },
  {
   "cell_type": "code",
   "execution_count": null,
   "id": "4a996466",
   "metadata": {},
   "outputs": [
    {
     "data": {
      "text/plain": [
       "False"
      ]
     },
     "execution_count": 5,
     "metadata": {},
     "output_type": "execute_result"
    }
   ],
   "source": [
    "a is not None"
   ]
  },
  {
   "cell_type": "code",
   "execution_count": 6,
   "id": "4d3ccb97",
   "metadata": {},
   "outputs": [],
   "source": [
    "b = \"abc\""
   ]
  },
  {
   "cell_type": "code",
   "execution_count": 9,
   "id": "85fbdc98",
   "metadata": {},
   "outputs": [
    {
     "data": {
      "text/plain": [
       "True"
      ]
     },
     "execution_count": 9,
     "metadata": {},
     "output_type": "execute_result"
    }
   ],
   "source": [
    "type(b) == str"
   ]
  },
  {
   "cell_type": "code",
   "execution_count": 10,
   "id": "c9c7c4d2",
   "metadata": {},
   "outputs": [
    {
     "data": {
      "text/plain": [
       "True"
      ]
     },
     "execution_count": 10,
     "metadata": {},
     "output_type": "execute_result"
    }
   ],
   "source": [
    "isinstance(b, str)"
   ]
  },
  {
   "cell_type": "code",
   "execution_count": null,
   "id": "a64536e4",
   "metadata": {},
   "outputs": [],
   "source": []
  },
  {
   "cell_type": "code",
   "execution_count": null,
   "id": "dec072f4",
   "metadata": {},
   "outputs": [],
   "source": []
  },
  {
   "cell_type": "code",
   "execution_count": 20,
   "id": "7bb9cd10",
   "metadata": {},
   "outputs": [],
   "source": [
    "def func(y, x=10, type_='a'):\n",
    "    if type_ == 'a':\n",
    "        return x + y\n",
    "    if type_ == 'm':\n",
    "        return x * y"
   ]
  },
  {
   "cell_type": "code",
   "execution_count": 22,
   "id": "affb22f5",
   "metadata": {},
   "outputs": [
    {
     "data": {
      "text/plain": [
       "20"
      ]
     },
     "execution_count": 22,
     "metadata": {},
     "output_type": "execute_result"
    }
   ],
   "source": [
    "func(10)"
   ]
  },
  {
   "cell_type": "code",
   "execution_count": 15,
   "id": "2b239fc0",
   "metadata": {},
   "outputs": [
    {
     "data": {
      "text/plain": [
       "['서울시', '금천구', '가산동', '155']"
      ]
     },
     "execution_count": 15,
     "metadata": {},
     "output_type": "execute_result"
    }
   ],
   "source": [
    "\"서울시 금천구 가산동 155\".split()"
   ]
  },
  {
   "cell_type": "code",
   "execution_count": 24,
   "id": "55004c1c",
   "metadata": {},
   "outputs": [
    {
     "name": "stdout",
     "output_type": "stream",
     "text": [
      "a, p, p, l, e, "
     ]
    }
   ],
   "source": [
    "for x in \"apple\":\n",
    "    print(x, end = \", \")"
   ]
  },
  {
   "cell_type": "code",
   "execution_count": 25,
   "id": "d872e6e9",
   "metadata": {},
   "outputs": [
    {
     "name": "stdout",
     "output_type": "stream",
     "text": [
      "Help on built-in function print in module builtins:\n",
      "\n",
      "print(...)\n",
      "    print(value, ..., sep=' ', end='\\n', file=sys.stdout, flush=False)\n",
      "    \n",
      "    Prints the values to a stream, or to sys.stdout by default.\n",
      "    Optional keyword arguments:\n",
      "    file:  a file-like object (stream); defaults to the current sys.stdout.\n",
      "    sep:   string inserted between values, default a space.\n",
      "    end:   string appended after the last value, default a newline.\n",
      "    flush: whether to forcibly flush the stream.\n",
      "\n"
     ]
    }
   ],
   "source": [
    "help(print)"
   ]
  },
  {
   "cell_type": "code",
   "execution_count": 28,
   "id": "f11bacdd",
   "metadata": {},
   "outputs": [
    {
     "name": "stdout",
     "output_type": "stream",
     "text": [
      "2\n",
      "3\n",
      "4\n",
      "5\n",
      "6\n",
      "7\n",
      "8\n",
      "9\n",
      "10\n",
      "11\n",
      "12\n",
      "13\n",
      "14\n",
      "15\n",
      "16\n",
      "17\n",
      "18\n",
      "19\n"
     ]
    }
   ],
   "source": [
    "for x in range(2, 20):\n",
    "    if x < 5:\n",
    "        pass\n",
    "    print(x)"
   ]
  },
  {
   "cell_type": "code",
   "execution_count": 30,
   "id": "ced8cc06",
   "metadata": {},
   "outputs": [],
   "source": [
    "def test():\n",
    "    pass"
   ]
  },
  {
   "cell_type": "code",
   "execution_count": 33,
   "id": "bcf8954c",
   "metadata": {},
   "outputs": [
    {
     "name": "stdout",
     "output_type": "stream",
     "text": [
      "10\n"
     ]
    }
   ],
   "source": [
    "a = 10 \n",
    "while a <= 10:\n",
    "    print(a)\n",
    "    a += 1"
   ]
  },
  {
   "cell_type": "code",
   "execution_count": 34,
   "id": "25fe6769",
   "metadata": {},
   "outputs": [
    {
     "name": "stdout",
     "output_type": "stream",
     "text": [
      "10\n",
      "20\n"
     ]
    }
   ],
   "source": [
    "while(True):\n",
    "    text = input(\"값 입력\")\n",
    "    if text == \"a\":\n",
    "        break\n",
    "    else:\n",
    "        print(text)"
   ]
  },
  {
   "cell_type": "code",
   "execution_count": 35,
   "id": "e26a81cd",
   "metadata": {},
   "outputs": [],
   "source": [
    "a = (1,2,3)"
   ]
  },
  {
   "cell_type": "code",
   "execution_count": 36,
   "id": "e8271b2a",
   "metadata": {},
   "outputs": [
    {
     "data": {
      "text/plain": [
       "tuple"
      ]
     },
     "execution_count": 36,
     "metadata": {},
     "output_type": "execute_result"
    }
   ],
   "source": [
    "type(a)"
   ]
  },
  {
   "cell_type": "code",
   "execution_count": 37,
   "id": "fa86617f",
   "metadata": {},
   "outputs": [],
   "source": [
    "b = [1,2,3]"
   ]
  },
  {
   "cell_type": "code",
   "execution_count": 40,
   "id": "18d162a8",
   "metadata": {},
   "outputs": [],
   "source": [
    "b[1] = 200"
   ]
  },
  {
   "cell_type": "code",
   "execution_count": 41,
   "id": "d98b292a",
   "metadata": {},
   "outputs": [
    {
     "data": {
      "text/plain": [
       "[1, 200, 3]"
      ]
     },
     "execution_count": 41,
     "metadata": {},
     "output_type": "execute_result"
    }
   ],
   "source": [
    "b"
   ]
  },
  {
   "cell_type": "code",
   "execution_count": 43,
   "id": "7ee49a68",
   "metadata": {},
   "outputs": [
    {
     "ename": "TypeError",
     "evalue": "'tuple' object does not support item assignment",
     "output_type": "error",
     "traceback": [
      "\u001b[1;31m---------------------------------------------------------------------------\u001b[0m",
      "\u001b[1;31mTypeError\u001b[0m                                 Traceback (most recent call last)",
      "Cell \u001b[1;32mIn[43], line 1\u001b[0m\n\u001b[1;32m----> 1\u001b[0m \u001b[43ma\u001b[49m\u001b[43m[\u001b[49m\u001b[38;5;241;43m1\u001b[39;49m\u001b[43m]\u001b[49m \u001b[38;5;241m=\u001b[39m \u001b[38;5;241m100\u001b[39m\n",
      "\u001b[1;31mTypeError\u001b[0m: 'tuple' object does not support item assignment"
     ]
    }
   ],
   "source": [
    "a[1] = 100"
   ]
  },
  {
   "cell_type": "code",
   "execution_count": 44,
   "id": "d4fbcdbd",
   "metadata": {},
   "outputs": [],
   "source": [
    "c = {1,2,3,4}"
   ]
  },
  {
   "cell_type": "code",
   "execution_count": 46,
   "id": "de05819b",
   "metadata": {},
   "outputs": [
    {
     "data": {
      "text/plain": [
       "set"
      ]
     },
     "execution_count": 46,
     "metadata": {},
     "output_type": "execute_result"
    }
   ],
   "source": [
    "type(c)"
   ]
  },
  {
   "cell_type": "code",
   "execution_count": 47,
   "id": "59991168",
   "metadata": {},
   "outputs": [],
   "source": [
    "d = {1,2}"
   ]
  },
  {
   "cell_type": "code",
   "execution_count": 51,
   "id": "4b13d22d",
   "metadata": {},
   "outputs": [
    {
     "data": {
      "text/plain": [
       "{1, 2}"
      ]
     },
     "execution_count": 51,
     "metadata": {},
     "output_type": "execute_result"
    }
   ],
   "source": [
    "c.intersection(d)  "
   ]
  },
  {
   "cell_type": "code",
   "execution_count": 52,
   "id": "9ed9308e",
   "metadata": {},
   "outputs": [],
   "source": [
    "e = {1,1,1,2,3,3}"
   ]
  },
  {
   "cell_type": "code",
   "execution_count": 53,
   "id": "505d66b4",
   "metadata": {},
   "outputs": [
    {
     "data": {
      "text/plain": [
       "{1, 2, 3}"
      ]
     },
     "execution_count": 53,
     "metadata": {},
     "output_type": "execute_result"
    }
   ],
   "source": [
    "e"
   ]
  },
  {
   "cell_type": "code",
   "execution_count": 54,
   "id": "60660b88",
   "metadata": {},
   "outputs": [],
   "source": [
    "f = [1,1,1,1,2,3,3,3,3,3,3,3,4,4,4,5,3,3,3,2,2,2]"
   ]
  },
  {
   "cell_type": "code",
   "execution_count": 57,
   "id": "54e6af5a",
   "metadata": {},
   "outputs": [
    {
     "data": {
      "text/plain": [
       "[1, 2, 3, 4, 5]"
      ]
     },
     "execution_count": 57,
     "metadata": {},
     "output_type": "execute_result"
    }
   ],
   "source": [
    "list(set(f))"
   ]
  },
  {
   "cell_type": "code",
   "execution_count": 62,
   "id": "f5896b9d",
   "metadata": {},
   "outputs": [
    {
     "name": "stdout",
     "output_type": "stream",
     "text": [
      "20\n",
      "20\n"
     ]
    }
   ],
   "source": [
    "a = 10 \n",
    "def func():\n",
    "    global kkk\n",
    "    a= 20 \n",
    "    kkk = 20 \n",
    "    print(a)\n",
    "\n",
    "func()\n",
    "print(kkk)"
   ]
  },
  {
   "cell_type": "code",
   "execution_count": 63,
   "id": "c8e16608",
   "metadata": {},
   "outputs": [],
   "source": [
    "import requests \n",
    "url = \"https://www.melon.com/song/detail.htm?songId=37139110\"\n",
    "r = requests.get(url)"
   ]
  },
  {
   "cell_type": "code",
   "execution_count": 66,
   "id": "a0e30aa4",
   "metadata": {},
   "outputs": [],
   "source": [
    "head = {'user-agent' : 'Mozilla/5.0 (Windows NT 10.0; Win64; x64) AppleWebKit/537.36 (KHTML, like Gecko) Chrome/136.0.0.0 Safari/537.36 Edg/136.0.0.0'}"
   ]
  },
  {
   "cell_type": "code",
   "execution_count": 67,
   "id": "7b999171",
   "metadata": {},
   "outputs": [],
   "source": [
    "r = requests.get(url, headers=head)"
   ]
  },
  {
   "cell_type": "code",
   "execution_count": 71,
   "id": "d508f894",
   "metadata": {},
   "outputs": [
    {
     "name": "stdout",
     "output_type": "stream",
     "text": [
      "Collecting bs4\n",
      "  Downloading bs4-0.0.2-py2.py3-none-any.whl.metadata (411 bytes)\n",
      "Collecting beautifulsoup4 (from bs4)\n",
      "  Downloading beautifulsoup4-4.13.4-py3-none-any.whl.metadata (3.8 kB)\n",
      "Collecting soupsieve>1.2 (from beautifulsoup4->bs4)\n",
      "  Downloading soupsieve-2.7-py3-none-any.whl.metadata (4.6 kB)\n",
      "Requirement already satisfied: typing-extensions>=4.0.0 in c:\\users\\play\\miniconda3\\lib\\site-packages (from beautifulsoup4->bs4) (4.12.2)\n",
      "Downloading bs4-0.0.2-py2.py3-none-any.whl (1.2 kB)\n",
      "Downloading beautifulsoup4-4.13.4-py3-none-any.whl (187 kB)\n",
      "Downloading soupsieve-2.7-py3-none-any.whl (36 kB)\n",
      "Installing collected packages: soupsieve, beautifulsoup4, bs4\n",
      "Successfully installed beautifulsoup4-4.13.4 bs4-0.0.2 soupsieve-2.7\n",
      "Note: you may need to restart the kernel to use updated packages.\n"
     ]
    }
   ],
   "source": [
    "pip install bs4"
   ]
  },
  {
   "cell_type": "code",
   "execution_count": 72,
   "id": "51a620b7",
   "metadata": {},
   "outputs": [],
   "source": [
    "from bs4 import BeautifulSoup"
   ]
  },
  {
   "cell_type": "code",
   "execution_count": 73,
   "id": "2cbd03d2",
   "metadata": {},
   "outputs": [],
   "source": [
    "bs = BeautifulSoup(r.text)"
   ]
  },
  {
   "cell_type": "code",
   "execution_count": 74,
   "id": "3e9d69a6",
   "metadata": {},
   "outputs": [
    {
     "data": {
      "text/plain": [
       "bs4.BeautifulSoup"
      ]
     },
     "execution_count": 74,
     "metadata": {},
     "output_type": "execute_result"
    }
   ],
   "source": [
    "type(bs)"
   ]
  },
  {
   "cell_type": "code",
   "execution_count": 75,
   "id": "7a5ee75f",
   "metadata": {},
   "outputs": [
    {
     "data": {
      "text/plain": [
       "<div class=\"song_name\">\n",
       "<strong class=\"none\">곡명</strong>\n",
       "\t\t\t\t\t\t\t\n",
       "\t\t\t\t\t\t\t\n",
       "\t\t\t\t\t\t\t\n",
       "\t\t\t\t\t\t\t\n",
       "\t\t\t\t\t\t\t꿈 (2024 Remastered Ver.)\n",
       "\t\t\t\t\t\t</div>"
      ]
     },
     "execution_count": 75,
     "metadata": {},
     "output_type": "execute_result"
    }
   ],
   "source": [
    "bs.find(\"div\", class_=\"song_name\")"
   ]
  },
  {
   "cell_type": "code",
   "execution_count": 78,
   "id": "538e4f2e",
   "metadata": {},
   "outputs": [
    {
     "name": "stdout",
     "output_type": "stream",
     "text": [
      "\n",
      "\t\t\t\t\t\t\t화려한 도시를 그리며 찾아왔네그 곳은 춥고도 험한 곳여기저기 헤매다 초라한 문턱에서뜨거운 눈물을 먹는다머나먼 길을 찾아 여기에꿈을 찾아 여기에괴롭고도 험한 이 길을 왔는데이 세상 어디가 숲인지 어디가 늪인지그 누구도 말을 않네사람들은 저마다 고향을 찾아가네나는 지금 홀로 남아서빌딩 속을 헤매이다 초라한 골목에서뜨거운 눈물을 먹는다저기 저 별은 나의 마음을 알까나의 꿈을 알까괴로울 땐 슬픈 노래를 부른다슬퍼질 땐 차라리 나 홀로눈을 감고 싶어고향의 향기 들으면서저기 저 별은 나의 마음 알까나의 꿈을 알까괴로울 땐 슬픈 노래를 부른다이 세상 어디가 숲인지 어디가 늪인지그 누구도 말을 않네슬퍼질 땐 차라리 나 홀로눈을 감고 싶어고향의 향기 들으면서고향의 향기 들으면서\n",
      "\t\t\t\t\t\n"
     ]
    }
   ],
   "source": [
    "print(bs.find(\"div\", id=\"d_video_summary\").text)"
   ]
  },
  {
   "cell_type": "code",
   "execution_count": 85,
   "id": "2fa07a59",
   "metadata": {},
   "outputs": [],
   "source": [
    "lyrics = BeautifulSoup(str(bs.find(\"div\", id=\"d_video_summary\")).replace(\"<br/>\", \"\\n\")).text"
   ]
  },
  {
   "cell_type": "code",
   "execution_count": 87,
   "id": "1c5e6b9c",
   "metadata": {},
   "outputs": [
    {
     "data": {
      "text/plain": [
       "'화려한 도시를 그리며 찾아왔네\\n그 곳은 춥고도 험한 곳\\n여기저기 헤매다 초라한 문턱에서\\n뜨거운 눈물을 먹는다\\n\\n머나먼 길을 찾아 여기에\\n꿈을 찾아 여기에\\n괴롭고도 험한 이 길을 왔는데\\n이 세상 어디가 숲인지 어디가 늪인지\\n그 누구도 말을 않네\\n\\n사람들은 저마다 고향을 찾아가네\\n나는 지금 홀로 남아서\\n빌딩 속을 헤매이다 초라한 골목에서\\n뜨거운 눈물을 먹는다\\n\\n저기 저 별은 나의 마음을 알까\\n나의 꿈을 알까\\n괴로울 땐 슬픈 노래를 부른다\\n슬퍼질 땐 차라리 나 홀로\\n눈을 감고 싶어\\n고향의 향기 들으면서\\n\\n저기 저 별은 나의 마음 알까\\n나의 꿈을 알까\\n괴로울 땐 슬픈 노래를 부른다\\n이 세상 어디가 숲인지 어디가 늪인지\\n그 누구도 말을 않네\\n\\n슬퍼질 땐 차라리 나 홀로\\n눈을 감고 싶어\\n고향의 향기 들으면서\\n고향의 향기 들으면서'"
      ]
     },
     "execution_count": 87,
     "metadata": {},
     "output_type": "execute_result"
    }
   ],
   "source": [
    "lyrics.strip()"
   ]
  },
  {
   "cell_type": "code",
   "execution_count": 89,
   "id": "42acb528",
   "metadata": {},
   "outputs": [],
   "source": [
    "import os "
   ]
  },
  {
   "cell_type": "code",
   "execution_count": null,
   "id": "f29c76c2",
   "metadata": {},
   "outputs": [],
   "source": [
    "if not os.path.isdir(\"./lyrics\"):\n",
    "    os.mkdir(\"./lyrics\")\n",
    "f = open(\"./lyrics/a.txt\", 'w', encoding='utf-8')"
   ]
  },
  {
   "cell_type": "code",
   "execution_count": 95,
   "id": "82aab48f",
   "metadata": {},
   "outputs": [
    {
     "data": {
      "text/plain": [
       "'0b1100001'"
      ]
     },
     "execution_count": 95,
     "metadata": {},
     "output_type": "execute_result"
    }
   ],
   "source": [
    "bin(ord('a'))"
   ]
  },
  {
   "cell_type": "code",
   "execution_count": 96,
   "id": "93758100",
   "metadata": {},
   "outputs": [
    {
     "data": {
      "text/plain": [
       "'0b1000001'"
      ]
     },
     "execution_count": 96,
     "metadata": {},
     "output_type": "execute_result"
    }
   ],
   "source": [
    "bin(ord('A'))"
   ]
  },
  {
   "cell_type": "code",
   "execution_count": null,
   "id": "f760b856",
   "metadata": {},
   "outputs": [],
   "source": [
    "1111 1111"
   ]
  },
  {
   "cell_type": "code",
   "execution_count": 99,
   "id": "6d1dea1d",
   "metadata": {},
   "outputs": [
    {
     "data": {
      "text/plain": [
       "'0b1001000'"
      ]
     },
     "execution_count": 99,
     "metadata": {},
     "output_type": "execute_result"
    }
   ],
   "source": [
    "bin(ord(\"H\"))"
   ]
  },
  {
   "cell_type": "code",
   "execution_count": 100,
   "id": "9717862f",
   "metadata": {},
   "outputs": [
    {
     "data": {
      "text/plain": [
       "406"
      ]
     },
     "execution_count": 100,
     "metadata": {},
     "output_type": "execute_result"
    }
   ],
   "source": [
    "f.write(lyrics.strip())"
   ]
  },
  {
   "cell_type": "code",
   "execution_count": 101,
   "id": "7639525b",
   "metadata": {},
   "outputs": [],
   "source": [
    "f.close()"
   ]
  },
  {
   "cell_type": "code",
   "execution_count": null,
   "id": "15b442f5",
   "metadata": {},
   "outputs": [],
   "source": [
    "title = bs.find(\"div\", class_=\"song_name\").text.replace(\"곡명\", \"\").strip()\n",
    "artist = bs.find(\"div\", class_=\"artist\").text.strip()"
   ]
  },
  {
   "cell_type": "code",
   "execution_count": 113,
   "id": "bb06a1e9",
   "metadata": {},
   "outputs": [],
   "source": [
    "f = open(f\"./lyrics/{artist}-{title}.txt\", 'w', encoding='utf-8')"
   ]
  },
  {
   "cell_type": "code",
   "execution_count": 114,
   "id": "04ce27df",
   "metadata": {},
   "outputs": [],
   "source": [
    "f.write(lyrics.strip())\n",
    "f.close()"
   ]
  },
  {
   "cell_type": "code",
   "execution_count": null,
   "id": "c68fbe4e",
   "metadata": {},
   "outputs": [],
   "source": []
  }
 ],
 "metadata": {
  "kernelspec": {
   "display_name": "Python 3 (ipykernel)",
   "language": "python",
   "name": "python3"
  },
  "language_info": {
   "codemirror_mode": {
    "name": "ipython",
    "version": 3
   },
   "file_extension": ".py",
   "mimetype": "text/x-python",
   "name": "python",
   "nbconvert_exporter": "python",
   "pygments_lexer": "ipython3",
   "version": "3.10.16"
  }
 },
 "nbformat": 4,
 "nbformat_minor": 5
}
