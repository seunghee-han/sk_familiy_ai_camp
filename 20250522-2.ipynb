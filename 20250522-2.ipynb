{
 "cells": [
  {
   "cell_type": "markdown",
   "id": "2394a7f0",
   "metadata": {},
   "source": [
    "# 2025-05-22\n",
    "\n",
    "- melon 음악 검색\n",
    "- melon.py\n"
   ]
  },
  {
   "cell_type": "code",
   "execution_count": 1,
   "id": "4ebc722e",
   "metadata": {},
   "outputs": [],
   "source": [
    "import requests "
   ]
  },
  {
   "cell_type": "code",
   "execution_count": 58,
   "id": "ffa9d96e",
   "metadata": {},
   "outputs": [],
   "source": [
    "url = \"https://www.melon.com/search/total/index.htm?q=%EB%84%88%EC%9D%98+%EC%9D%98%EB%AF%B8&section=&searchGnbYn=Y&kkoSpl=Y&kkoDpType=&mwkLogType=T\""
   ]
  },
  {
   "cell_type": "code",
   "execution_count": 59,
   "id": "5c06fb9b",
   "metadata": {},
   "outputs": [],
   "source": [
    "head = {'user-agent' : 'Mozilla/5.0 (Windows NT 10.0; Win64; x64) AppleWebKit/537.36 (KHTML, like Gecko) Chrome/136.0.0.0 Safari/537.36 Edg/136.0.0.0'}"
   ]
  },
  {
   "cell_type": "code",
   "execution_count": 60,
   "id": "bfa6dc05",
   "metadata": {},
   "outputs": [],
   "source": [
    "r = requests.get(url, headers=head)"
   ]
  },
  {
   "cell_type": "code",
   "execution_count": 65,
   "id": "62c92b40",
   "metadata": {},
   "outputs": [],
   "source": [
    "from bs4 import BeautifulSoup"
   ]
  },
  {
   "cell_type": "code",
   "execution_count": 66,
   "id": "d8b69c62",
   "metadata": {},
   "outputs": [],
   "source": [
    "bs= BeautifulSoup(r.text)"
   ]
  },
  {
   "cell_type": "code",
   "execution_count": 71,
   "id": "ff075b27",
   "metadata": {},
   "outputs": [
    {
     "data": {
      "text/plain": [
       "<button class=\"btn_icon play\" onclick=\"searchLog('web_tot','SONG_SONG','SO','너의 의미','4646573');melon.play.playSong('26020101',4646573);\" title=\"재생\" type=\"button\"><span class=\"odd_span\">재생</span></button>"
      ]
     },
     "execution_count": 71,
     "metadata": {},
     "output_type": "execute_result"
    }
   ],
   "source": [
    "bs.find(\"div\", class_=\"tb_list d_song_list songTypeOne\").find_all(\"tr\")[1].find(\"button\",\"btn_icon play\" )"
   ]
  },
  {
   "cell_type": "code",
   "execution_count": 88,
   "id": "dae61436",
   "metadata": {},
   "outputs": [],
   "source": [
    "import re \n",
    "p = re.compile(\"playSong\\(\\'([0-9]+)\\',([0-9]+)\\)\")"
   ]
  },
  {
   "cell_type": "code",
   "execution_count": 89,
   "id": "affaf36a",
   "metadata": {},
   "outputs": [],
   "source": [
    "target = str(bs.find(\"div\", class_=\"tb_list d_song_list songTypeOne\").find_all(\"tr\")[1].find(\"button\",\"btn_icon play\" ))"
   ]
  },
  {
   "cell_type": "code",
   "execution_count": 90,
   "id": "9db40851",
   "metadata": {},
   "outputs": [
    {
     "data": {
      "text/plain": [
       "'<button class=\"btn_icon play\" onclick=\"searchLog(\\'web_tot\\',\\'SONG_SONG\\',\\'SO\\',\\'너의 의미\\',\\'4646573\\');melon.play.playSong(\\'26020101\\',4646573);\" title=\"재생\" type=\"button\"><span class=\"odd_span\">재생</span></button>'"
      ]
     },
     "execution_count": 90,
     "metadata": {},
     "output_type": "execute_result"
    }
   ],
   "source": [
    "target"
   ]
  },
  {
   "cell_type": "code",
   "execution_count": 94,
   "id": "b21f4624",
   "metadata": {},
   "outputs": [
    {
     "data": {
      "text/plain": [
       "'4646573'"
      ]
     },
     "execution_count": 94,
     "metadata": {},
     "output_type": "execute_result"
    }
   ],
   "source": [
    "p.findall(target)[0][1]"
   ]
  },
  {
   "cell_type": "code",
   "execution_count": null,
   "id": "cca79d96",
   "metadata": {},
   "outputs": [],
   "source": []
  },
  {
   "cell_type": "code",
   "execution_count": 64,
   "id": "c180f39e",
   "metadata": {},
   "outputs": [
    {
     "data": {
      "text/plain": [
       "'너의 의미\" name=\"\" id=\"top_search\" style=\"width:374px; ime-mode:auto;\" onkeypres'"
      ]
     },
     "execution_count": 64,
     "metadata": {},
     "output_type": "execute_result"
    }
   ],
   "source": [
    "r.text[14124:14200]"
   ]
  },
  {
   "cell_type": "code",
   "execution_count": 53,
   "id": "cad52577",
   "metadata": {},
   "outputs": [
    {
     "data": {
      "text/plain": [
       "dict_keys(['PLYLSTSEQ', 'SONGLIST'])"
      ]
     },
     "execution_count": 53,
     "metadata": {},
     "output_type": "execute_result"
    }
   ],
   "source": [
    "r.json()['DJSONGLIST'][0].keys()"
   ]
  },
  {
   "cell_type": "code",
   "execution_count": 55,
   "id": "4200772c",
   "metadata": {},
   "outputs": [
    {
     "data": {
      "text/plain": [
       "{'rNum': 0,\n",
       " 'rowNum': 0,\n",
       " 'curRank': 0,\n",
       " 'pastRank': 0,\n",
       " 'songId': 1726823,\n",
       " 'songName': '아파트',\n",
       " 'artistIdBasket': None,\n",
       " 'artistNameBasket': None,\n",
       " 'artistNames': '<a href=\"javascript:melon.link.goArtistDetail(\\'32\\');melon.link.goSearchLog(\\'web_djcoll\\',\\'DJCOLL\\', \\'AR\\', \\'너의 의미\\',\\'100098385\\');\" title=\"윤수일 - 페이지 이동\" class=\"fc_mgray\">윤수일</a>',\n",
       " 'artistList': [{'artistId': '32', 'artistName': '윤수일'}],\n",
       " 'albumId': 0,\n",
       " 'albumName': None,\n",
       " 'albumImgPath': None,\n",
       " 'mvId': 0,\n",
       " 'songSvcInfo': None,\n",
       " 'lyricInfo': None,\n",
       " 'svcTumsFlg': None,\n",
       " 'svcAvailFlg': 0,\n",
       " 'drmFlg': 0,\n",
       " 'diskNo': 0,\n",
       " 'trackNo': 0,\n",
       " 'issueDate': None,\n",
       " 'orderIssueDate': None,\n",
       " 'availCodecType': None,\n",
       " 'playTime': None,\n",
       " 'songClassBasket': None,\n",
       " 'songStyleBasket': None,\n",
       " 'songGnrBasket': None,\n",
       " 'availSvcType': None,\n",
       " 'mlbMusicCode': None,\n",
       " 'strucGrpId': 0,\n",
       " 'targtId': 0,\n",
       " 'targtTypeCode': None,\n",
       " 'targtName': None,\n",
       " 'summCnt': 0,\n",
       " 'listenCnt': 0,\n",
       " 'melonMatchYn': None,\n",
       " 'likeYn': False,\n",
       " 'mv': False,\n",
       " 'nrbn': False,\n",
       " 'titleSong': False,\n",
       " 'subTitleSong': False,\n",
       " 'hotSong': False,\n",
       " 'cdMall': False,\n",
       " 'akbo': False,\n",
       " 'free': False,\n",
       " 'adult': False,\n",
       " 'sellOnlyAlbum': False,\n",
       " 'sellSong': False,\n",
       " 'sellAlbum': False,\n",
       " 'availStreaming': False,\n",
       " 'availOnlyDL': False,\n",
       " 'availMeterRate': False,\n",
       " 'availDownload': False,\n",
       " 'holdBackStreaming': False,\n",
       " 'holdBackDownload': False,\n",
       " 'holdBackMeterRate': False,\n",
       " 'flac': False,\n",
       " 'webLyric': False,\n",
       " 'ldbLyric': False,\n",
       " 'slfLyric': False,\n",
       " 'mlfLyric': False,\n",
       " 'availPhone': False,\n",
       " 'availService': True,\n",
       " 'diff': 0,\n",
       " 'pocChnlDispStartDate': None,\n",
       " 'useStartDate': None,\n",
       " 'useEndDate': None,\n",
       " 'regPathFlg': None,\n",
       " 'isTrackZero': False}"
      ]
     },
     "execution_count": 55,
     "metadata": {},
     "output_type": "execute_result"
    }
   ],
   "source": [
    "r.json()['DJSONGLIST'][0][\"SONGLIST\"][0]"
   ]
  },
  {
   "cell_type": "code",
   "execution_count": null,
   "id": "d1d90cf3",
   "metadata": {},
   "outputs": [],
   "source": [
    "def save_lyrics():\n",
    "    pass"
   ]
  },
  {
   "cell_type": "code",
   "execution_count": null,
   "id": "2ee88285",
   "metadata": {},
   "outputs": [],
   "source": []
  }
 ],
 "metadata": {
  "kernelspec": {
   "display_name": "Python 3 (ipykernel)",
   "language": "python",
   "name": "python3"
  },
  "language_info": {
   "codemirror_mode": {
    "name": "ipython",
    "version": 3
   },
   "file_extension": ".py",
   "mimetype": "text/x-python",
   "name": "python",
   "nbconvert_exporter": "python",
   "pygments_lexer": "ipython3",
   "version": "3.10.16"
  }
 },
 "nbformat": 4,
 "nbformat_minor": 5
}
