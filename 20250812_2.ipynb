{
  "cells": [
    {
      "cell_type": "code",
      "execution_count": null,
      "id": "932ad8e3",
      "metadata": {
        "id": "932ad8e3"
      },
      "outputs": [],
      "source": [
        "import arxiv"
      ]
    },
    {
      "cell_type": "code",
      "execution_count": null,
      "id": "d51c1dd2",
      "metadata": {
        "id": "d51c1dd2"
      },
      "outputs": [],
      "source": [
        "client = arxiv.Client()\n",
        "topic = 'transformers stock'\n",
        "search = arxiv.Search(\n",
        "    query= topic,\n",
        "    max_results=5,\n",
        "    sort_by= arxiv.SortCriterion.Relevance\n",
        ")"
      ]
    },
    {
      "cell_type": "code",
      "execution_count": null,
      "id": "5364549d",
      "metadata": {
        "id": "5364549d",
        "outputId": "035db4a7-e5e9-4067-a60b-288d348a1106"
      },
      "outputs": [
        {
          "name": "stdout",
          "output_type": "stream",
          "text": [
            "MASTER: Market-Guided Stock Transformer for Stock Price Forecasting\n",
            "Meta-Stock: Task-Difficulty-Adaptive Meta-learning for Sub-new Stock Price Prediction\n",
            "GRU-PFG: Extract Inter-Stock Correlation from Stock Factors with Graph Neural Network\n",
            "An End-to-End Structure with Novel Position Mechanism and Improved EMD for Stock Forecasting\n",
            "Pre-training Time Series Models with Stock Data Customization\n"
          ]
        }
      ],
      "source": [
        "papers = client.results(search=search)\n",
        "for paper in papers:\n",
        "    print(paper.title)"
      ]
    },
    {
      "cell_type": "code",
      "execution_count": null,
      "id": "624fdd40",
      "metadata": {
        "id": "624fdd40"
      },
      "outputs": [],
      "source": [
        "import os, json\n",
        "from typing import List\n",
        "PAPER_DIR = \"./papers\"\n",
        "def search_papers(topic: str, max_results: int = 5) -> List[str]:\n",
        "    \"\"\"\n",
        "    주제를 기반으로 arXiv에서 논문을 검색하고 해당 정보를 저장한다.\n",
        "\n",
        "    Args:\n",
        "        topic: 검색할 주제\n",
        "        max_results: 검색할 최대 결과 수 (기본값: 5)\n",
        "\n",
        "    Returns:\n",
        "        검색에서 찾은 논문 ID 목록\n",
        "    \"\"\"\n",
        "    # arxiv를 사용하여 논문 찾기\n",
        "    client = arxiv.Client()\n",
        "    search = arxiv.Search(\n",
        "        query     = topic,\n",
        "        max_results = max_results,\n",
        "        sort_by   = arxiv.SortCriterion.Relevance\n",
        "    )\n",
        "    papers = client.results(search)\n",
        "\n",
        "    # 이 주제에 대한 디렉토리 생성\n",
        "    path = os.path.join(PAPER_DIR, topic.lower().replace(\" \", \"_\"))\n",
        "    os.makedirs(path, exist_ok=True)\n",
        "\n",
        "    file_path = os.path.join(path, \"papers_info.json\")\n",
        "\n",
        "    # 기존 논문 정보 로드 시도\n",
        "    try:\n",
        "        with open(file_path, \"r\") as json_file:\n",
        "            papers_info = json.load(json_file)\n",
        "    except (FileNotFoundError, json.JSONDecodeError):\n",
        "        papers_info = {}\n",
        "\n",
        "    # 각 논문을 처리하고 papers_info에 추가\n",
        "    paper_ids = []\n",
        "    for paper in papers:\n",
        "        paper_id   = paper.get_short_id()\n",
        "        paper_info = {\n",
        "            \"title\"    : paper.title,\n",
        "            \"authors\"  : [author.name for author in paper.authors],\n",
        "            \"summary\"  : paper.summary,\n",
        "            \"pdf_url\"  : paper.pdf_url,\n",
        "            \"published\": str(paper.published.date())\n",
        "        }\n",
        "        paper_ids.append(paper_id)\n",
        "        papers_info[paper_id] = paper_info\n",
        "\n",
        "    # 업데이트된 papers_info를 json 파일에 저장\n",
        "    with open(file_path, \"w\") as json_file:\n",
        "        json.dump(papers_info, json_file, indent=2)\n",
        "\n",
        "    print(f\"결과가 다음 위치에 저장되었습니다: {file_path}\")\n",
        "    return paper_ids"
      ]
    },
    {
      "cell_type": "code",
      "execution_count": null,
      "id": "a398ade3",
      "metadata": {
        "id": "a398ade3",
        "outputId": "299b5b96-2da7-46f6-8fe7-e12592543099"
      },
      "outputs": [
        {
          "name": "stdout",
          "output_type": "stream",
          "text": [
            "결과가 다음 위치에 저장되었습니다: ./papers\\predict_stock\\papers_info.json\n"
          ]
        },
        {
          "data": {
            "text/plain": [
              "['2002.05784v1',\n",
              " '2106.10159v1',\n",
              " '2308.11117v1',\n",
              " '1911.02194v1',\n",
              " '2411.18997v1']"
            ]
          },
          "execution_count": 18,
          "metadata": {},
          "output_type": "execute_result"
        }
      ],
      "source": [
        "search_papers(\"predict stock\")"
      ]
    },
    {
      "cell_type": "code",
      "execution_count": null,
      "id": "f999719e",
      "metadata": {
        "id": "f999719e"
      },
      "outputs": [],
      "source": [
        "def extract_info(paper_id: str) -> str:\n",
        "    \"\"\"\n",
        "    모든 주제 디렉토리에서 특정 논문에 관한 정보를 검색한다.\n",
        "\n",
        "    Args:\n",
        "        paper_id: 검색할 논문의 ID\n",
        "\n",
        "    Returns:\n",
        "        찾은 경우 논문 정보가 담긴 JSON 문자열, 찾지 못한 경우 오류 메시지\n",
        "    \"\"\"\n",
        "\n",
        "    for item in os.listdir(PAPER_DIR):\n",
        "        item_path = os.path.join(PAPER_DIR, item)\n",
        "        if os.path.isdir(item_path):\n",
        "            file_path = os.path.join(item_path, \"papers_info.json\")\n",
        "            if os.path.isfile(file_path):\n",
        "                try:\n",
        "                    with open(file_path, \"r\") as json_file:\n",
        "                        papers_info = json.load(json_file)\n",
        "                        if paper_id in papers_info:\n",
        "                            return json.dumps(papers_info[paper_id], indent=2)\n",
        "                except (FileNotFoundError, json.JSONDecodeError) as e:\n",
        "                    print(f\"{file_path} 읽기 오류: {str(e)}\")\n",
        "                    continue\n",
        "\n",
        "    return f\"논문 {paper_id}와 관련된 저장된 정보가 없다.\""
      ]
    },
    {
      "cell_type": "code",
      "execution_count": null,
      "id": "680b5aa8",
      "metadata": {
        "id": "680b5aa8",
        "outputId": "4d4d01f3-c48a-4ea7-ac19-1f87378c1816"
      },
      "outputs": [
        {
          "data": {
            "text/plain": [
              "'논문 20022d.05784v1와 관련된 저장된 정보가 없다.'"
            ]
          },
          "execution_count": 21,
          "metadata": {},
          "output_type": "execute_result"
        }
      ],
      "source": [
        "extract_info('20022d.05784v1')"
      ]
    },
    {
      "cell_type": "code",
      "execution_count": null,
      "id": "c7be1281",
      "metadata": {
        "id": "c7be1281"
      },
      "outputs": [],
      "source": [
        "functions = [\n",
        "    {\n",
        "        \"name\": \"search_papers\",\n",
        "        \"description\": \"주제를 기반으로 arXiv에서 논문을 검색하고 해당 정보를 저장한다.\",\n",
        "        \"parameters\": {\n",
        "            \"type\": \"object\",\n",
        "            \"properties\": {\n",
        "                \"topic\": {\n",
        "                    \"type\": \"string\",\n",
        "                    \"description\": \"검색할 주제\"\n",
        "                },\n",
        "                \"max_results\": {\n",
        "                    \"type\": \"integer\",\n",
        "                    \"description\": \"검색할 최대 결과 수\",\n",
        "                    \"default\": 5\n",
        "                }\n",
        "            },\n",
        "            \"required\": [\"topic\"]\n",
        "        }\n",
        "    },\n",
        "    {\n",
        "        \"name\": \"extract_info\",\n",
        "        \"description\": \"모든 주제 디렉토리에서 특정 논문에 관한 정보를 검색한다.\",\n",
        "        \"parameters\": {\n",
        "            \"type\": \"object\",\n",
        "            \"properties\": {\n",
        "                \"paper_id\": {\n",
        "                    \"type\": \"string\",\n",
        "                    \"description\": \"검색할 논문의 ID\"\n",
        "                }\n",
        "            },\n",
        "            \"required\": [\"paper_id\"]\n",
        "        }\n",
        "    }\n",
        "]"
      ]
    },
    {
      "cell_type": "code",
      "execution_count": null,
      "id": "16ed94ed",
      "metadata": {
        "id": "16ed94ed"
      },
      "outputs": [],
      "source": [
        "mapping_tool_function  = {\n",
        "    \"search_papers\" : search_papers,\n",
        "    \"extract_info\"  : extract_info\n",
        "}"
      ]
    },
    {
      "cell_type": "code",
      "execution_count": null,
      "id": "1aff2e13",
      "metadata": {
        "id": "1aff2e13"
      },
      "outputs": [],
      "source": [
        "def execute_tool(tool_name, tool_args):\n",
        "    result = mapping_tool_function[tool_name](**tool_args)\n",
        "\n",
        "    if result is None:\n",
        "        return \"작업이 완료되었찌만 결과는 반환하지 않았다\"\n",
        "\n",
        "    if isinstance(result, list):\n",
        "        return \", \".join(result)\n",
        "\n",
        "    if isinstance(result, dict):\n",
        "        return json.dumps(result, indent=2, ensure_ascii=False)\n",
        "\n",
        "    return str(result)"
      ]
    },
    {
      "cell_type": "code",
      "execution_count": null,
      "id": "a87d8bd8",
      "metadata": {
        "id": "a87d8bd8"
      },
      "outputs": [],
      "source": [
        "from openai import OpenAI\n",
        "\n",
        "client = OpenAI(api_key='')"
      ]
    },
    {
      "cell_type": "code",
      "execution_count": null,
      "id": "018b256b",
      "metadata": {
        "id": "018b256b"
      },
      "outputs": [],
      "source": [
        "messages = [{'role' : 'user', 'content' : \"최신 강화학습 트렌드\"}]\n",
        "resp  = client.chat.completions.create(\n",
        "    model='gpt-4-0125-preview',\n",
        "    messages=messages,\n",
        "    functions=functions,\n",
        "    function_call={\"name\": \"search_papers\"},\n",
        "    max_tokens=2024\n",
        ")"
      ]
    },
    {
      "cell_type": "code",
      "execution_count": null,
      "id": "7a89dafe",
      "metadata": {
        "id": "7a89dafe"
      },
      "outputs": [],
      "source": [
        "msg = resp.choices[0].message"
      ]
    },
    {
      "cell_type": "code",
      "execution_count": null,
      "id": "1622c4b0",
      "metadata": {
        "id": "1622c4b0",
        "outputId": "c16370bb-cf23-486b-bf8e-6e36ab3f89fb"
      },
      "outputs": [
        {
          "data": {
            "text/plain": [
              "ChatCompletionMessage(content=None, refusal=None, role='assistant', annotations=[], audio=None, function_call=FunctionCall(arguments='{\"topic\":\"reinforcement learning\",\"max_results\":5}', name='search_papers'), tool_calls=None)"
            ]
          },
          "execution_count": 57,
          "metadata": {},
          "output_type": "execute_result"
        }
      ],
      "source": [
        "msg"
      ]
    },
    {
      "cell_type": "code",
      "execution_count": null,
      "id": "6c7785e3",
      "metadata": {
        "id": "6c7785e3"
      },
      "outputs": [],
      "source": [
        "call = msg.function_call"
      ]
    },
    {
      "cell_type": "code",
      "execution_count": null,
      "id": "8a86bf50",
      "metadata": {
        "id": "8a86bf50",
        "outputId": "d3334f03-a15c-432e-f9b3-ae5d9bff2b4a"
      },
      "outputs": [
        {
          "data": {
            "text/plain": [
              "'search_papers'"
            ]
          },
          "execution_count": 62,
          "metadata": {},
          "output_type": "execute_result"
        }
      ],
      "source": [
        "call.name"
      ]
    },
    {
      "cell_type": "code",
      "execution_count": null,
      "id": "ef037e87",
      "metadata": {
        "id": "ef037e87",
        "outputId": "fdeb668e-3498-4fee-cbbb-0911dbd4f8ec"
      },
      "outputs": [
        {
          "data": {
            "text/plain": [
              "{'topic': 'reinforcement learning', 'max_results': 5}"
            ]
          },
          "execution_count": 61,
          "metadata": {},
          "output_type": "execute_result"
        }
      ],
      "source": [
        "json.loads(call.arguments)"
      ]
    },
    {
      "cell_type": "code",
      "execution_count": null,
      "id": "b3d50470",
      "metadata": {
        "id": "b3d50470",
        "outputId": "47cbd39b-b9e1-4cc8-d4d3-04ca6ef7ffe8"
      },
      "outputs": [
        {
          "name": "stdout",
          "output_type": "stream",
          "text": [
            "결과가 다음 위치에 저장되었습니다: ./papers\\reinforcement_learning\\papers_info.json\n"
          ]
        }
      ],
      "source": [
        "tool_result = execute_tool(call.name,json.loads(call.arguments) )"
      ]
    },
    {
      "cell_type": "code",
      "execution_count": null,
      "id": "a4438598",
      "metadata": {
        "id": "a4438598"
      },
      "outputs": [],
      "source": [
        "def process_query(query: str):\n",
        "    messages = [{\"role\": \"user\", \"content\": query}]\n",
        "\n",
        "    while True:\n",
        "        resp = client.chat.completions.create(\n",
        "            model=\"gpt-4o-mini\",\n",
        "            messages=messages,\n",
        "            functions=functions,\n",
        "            function_call=\"auto\",\n",
        "            max_tokens=2024\n",
        "        )\n",
        "        msg = resp.choices[0].message\n",
        "\n",
        "        # 1) 일반 텍스트 응답\n",
        "        if msg.content is not None:\n",
        "            print(msg.content)\n",
        "            break\n",
        "\n",
        "        # 2) 함수 호출 응답\n",
        "        call = msg.function_call\n",
        "        fname = call.name\n",
        "        fargs = json.loads(call.arguments)\n",
        "\n",
        "        print(f\"Calling tool `{fname}` with args: {fargs}\")\n",
        "        tool_result = execute_tool(fname, fargs)\n",
        "\n",
        "        # assistant의 함수 호출 메시지를 기록\n",
        "        messages.append({\n",
        "            \"role\": \"assistant\",\n",
        "            \"function_call\": {\n",
        "                \"name\": fname,\n",
        "                \"arguments\": call.arguments\n",
        "            }\n",
        "        })\n",
        "        # 함수 실행 결과를 function 역할로 추가\n",
        "        messages.append({\n",
        "            \"role\": \"function\",\n",
        "            \"name\": fname,\n",
        "            \"content\": tool_result\n",
        "        })"
      ]
    },
    {
      "cell_type": "code",
      "execution_count": null,
      "id": "5e7769f7",
      "metadata": {
        "id": "5e7769f7"
      },
      "outputs": [],
      "source": [
        "def chat_loop():\n",
        "    print(\"쿼리를 입력하거나 'quit'를 입력해 종료합니다.\")\n",
        "    while True:\n",
        "        query = input(\"Query: \").strip()\n",
        "        if query.lower() == \"quit\":\n",
        "            break\n",
        "        try:\n",
        "            process_query(query)\n",
        "\n",
        "        except Exception as e:\n",
        "            print(f\"Error: {e}\")"
      ]
    },
    {
      "cell_type": "code",
      "execution_count": null,
      "id": "7ab02390",
      "metadata": {
        "id": "7ab02390",
        "outputId": "32a7732d-ee4e-4c42-e83b-fde96007faf7"
      },
      "outputs": [
        {
          "name": "stdout",
          "output_type": "stream",
          "text": [
            "쿼리를 입력하거나 'quit'를 입력해 종료합니다.\n",
            "Calling tool `search_papers` with args: {'topic': 'model context protocol'}\n",
            "결과가 다음 위치에 저장되었습니다: ./papers\\model_context_protocol\\papers_info.json\n",
            "Calling tool `extract_info` with args: {'paper_id': '2505.02279v2'}\n",
            "Model Context Protocol (MCP)에 대한 정보는 다음과 같습니다:\n",
            "\n",
            "### 제목\n",
            "A survey of agent interoperability protocols: Model Context Protocol (MCP), Agent Communication Protocol (ACP), Agent-to-Agent Protocol (A2A), and Agent Network Protocol (ANP)\n",
            "\n",
            "### 저자\n",
            "- Abul Ehtesham\n",
            "- Aditi Singh\n",
            "- Gaurav Kumar Gupta\n",
            "- Saket Kumar\n",
            "\n",
            "### 요약\n",
            "모델 기반 자동화 대리인은 툴 통합, 맥락 데이터 공유 및 이질적인 시스템 간 작업 조정을 위한 강력하고 표준화된 프로토콜을 요구합니다. 임의 통합은 확장 가능성이 낮고, 보안성이 떨어지며, 도메인 간 일반화하는 것이 어렵습니다. 이 조사에서는 배치 문맥에서 상호 운용성을 다루는 네 가지 신생 에이전트 통신 프로토콜인 Model Context Protocol (MCP), Agent Communication Protocol (ACP), Agent-to-Agent Protocol (A2A), Agent Network Protocol (ANP)를 검토합니다.\n",
            "\n",
            "- **MCP**는 보안 도구 호출 및 타이핑된 데이터 교환을 위해 JSON-RPC 클라이언트-서버 인터페이스를 제공합니다.\n",
            "- **ACP**는 RESTful HTTP를 통해 일반적인 통신 프로토콜을 정의하며, MIME 형식의 멀티파트 메시지와 동기 및 비동기 상호작용을 지원합니다.\n",
            "- **A2A**는 에이전트 카드 기반의 작업 위임을 통해 피어 간 협업을 지원합니다.\n",
            "- **ANP**는 W3C 분산 식별자(DIDs) 및 JSON-LD 그래프를 사용하여 개방형 네트워크 에이전트 검색 및 안전한 협업을 지원합니다.\n",
            "\n",
            "이 프로토콜은 여러 차원(상호작용 모드, 검색 메커니즘, 통신 패턴 및 보안 모델)에서 비교되며, MCP를 통해 도구 접근을 시작하여 ACP, A2A 및 ANP로 확장하는 단계적 채택 로드맵이 제안됩니다.\n",
            "\n",
            "### 발행일\n",
            "2025-05-04\n",
            "\n",
            "### PDF 링크\n",
            "[논문 다운로드](http://arxiv.org/pdf/2505.02279v2)\n",
            "\n",
            "이 논문은 LLM(대형 언어 모델) 기반 에이전트의 안전하고 상호 운용 가능하며 확장 가능한 생태계를 설계하는 데 필요한 포괄적인 기초를 제공합니다.\n"
          ]
        }
      ],
      "source": [
        "chat_loop()"
      ]
    },
    {
      "cell_type": "code",
      "execution_count": null,
      "id": "e0e5d21d",
      "metadata": {
        "id": "e0e5d21d"
      },
      "outputs": [],
      "source": []
    }
  ],
  "metadata": {
    "kernelspec": {
      "display_name": "base",
      "language": "python",
      "name": "python3"
    },
    "language_info": {
      "codemirror_mode": {
        "name": "ipython",
        "version": 3
      },
      "file_extension": ".py",
      "mimetype": "text/x-python",
      "name": "python",
      "nbconvert_exporter": "python",
      "pygments_lexer": "ipython3",
      "version": "3.10.16"
    },
    "colab": {
      "provenance": []
    }
  },
  "nbformat": 4,
  "nbformat_minor": 5
}