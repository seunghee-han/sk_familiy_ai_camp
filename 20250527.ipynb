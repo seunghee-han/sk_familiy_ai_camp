{
 "cells": [
  {
   "cell_type": "code",
   "execution_count": 1,
   "id": "1da703b8",
   "metadata": {},
   "outputs": [],
   "source": [
    "def fibonacci_recursive(n: int) -> int:\n",
    "    \"\"\"\n",
    "    n번째 피보나치 수를 재귀적으로 계산하여 반환합니다.\n",
    "    (F(0)=0, F(1)=1 기준)\n",
    "\n",
    "    주의: 이 순수 재귀 방식은 n이 커질수록 동일한 계산을 반복하여\n",
    "          매우 비효율적입니다 (시간 복잡도 O(2^n)).\n",
    "          실제 사용 시에는 메모이제이션(동적 프로그래밍)을 사용한 최적화가 필요합니다.\n",
    "    \"\"\"\n",
    "    if not isinstance(n, int) or n < 0:\n",
    "        raise ValueError(\"입력값은 0 이상의 정수여야 합니다.\")\n",
    "    if n <= 1:  # 기본 조건: F(0) = 0, F(1) = 1\n",
    "        return n\n",
    "    else:\n",
    "        # F(n) = F(n-1) + F(n-2)\n",
    "        return fibonacci_recursive(n - 1) + fibonacci_recursive(n - 2)\n"
   ]
  },
  {
   "cell_type": "code",
   "execution_count": 1,
   "id": "565c9d00",
   "metadata": {},
   "outputs": [
    {
     "ename": "KeyboardInterrupt",
     "evalue": "",
     "output_type": "error",
     "traceback": [
      "\u001b[1;31m---------------------------------------------------------------------------\u001b[0m",
      "\u001b[1;31mKeyboardInterrupt\u001b[0m                         Traceback (most recent call last)",
      "Cell \u001b[1;32mIn[1], line 19\u001b[0m\n\u001b[0;32m     17\u001b[0m     shutil\u001b[38;5;241m.\u001b[39mmove(\u001b[38;5;124mf\u001b[39m\u001b[38;5;124m\"\u001b[39m\u001b[38;5;124m./name/\u001b[39m\u001b[38;5;132;01m{\u001b[39;00mfile\u001b[38;5;132;01m}\u001b[39;00m\u001b[38;5;124m\"\u001b[39m, \u001b[38;5;124mf\u001b[39m\u001b[38;5;124m\"\u001b[39m\u001b[38;5;124m./cusomter/male/\u001b[39m\u001b[38;5;132;01m{\u001b[39;00mfile\u001b[38;5;132;01m}\u001b[39;00m\u001b[38;5;124m\"\u001b[39m )\n\u001b[0;32m     18\u001b[0m \u001b[38;5;28;01melif\u001b[39;00m file\u001b[38;5;241m.\u001b[39msplit(\u001b[38;5;124m\"\u001b[39m\u001b[38;5;124m_\u001b[39m\u001b[38;5;124m\"\u001b[39m)[\u001b[38;5;241m-\u001b[39m\u001b[38;5;241m1\u001b[39m][\u001b[38;5;241m0\u001b[39m] \u001b[38;5;129;01min\u001b[39;00m [\u001b[38;5;124m'\u001b[39m\u001b[38;5;124m2\u001b[39m\u001b[38;5;124m'\u001b[39m, \u001b[38;5;124m'\u001b[39m\u001b[38;5;124m4\u001b[39m\u001b[38;5;124m'\u001b[39m]:\n\u001b[1;32m---> 19\u001b[0m     \u001b[38;5;28;01mwith\u001b[39;00m \u001b[38;5;28;43mopen\u001b[39;49m\u001b[43m(\u001b[49m\u001b[38;5;124;43mf\u001b[39;49m\u001b[38;5;124;43m\"\u001b[39;49m\u001b[38;5;124;43m./name/\u001b[39;49m\u001b[38;5;132;43;01m{\u001b[39;49;00m\u001b[43mfile\u001b[49m\u001b[38;5;132;43;01m}\u001b[39;49;00m\u001b[38;5;124;43m\"\u001b[39;49m\u001b[43m,\u001b[49m\u001b[43m \u001b[49m\u001b[38;5;124;43m\"\u001b[39;49m\u001b[38;5;124;43mr\u001b[39;49m\u001b[38;5;124;43m\"\u001b[39;49m\u001b[43m)\u001b[49m \u001b[38;5;28;01mas\u001b[39;00m f:\n\u001b[0;32m     20\u001b[0m         female\u001b[38;5;241m.\u001b[39mappend(\u001b[38;5;28mint\u001b[39m(f\u001b[38;5;241m.\u001b[39mread()\u001b[38;5;241m.\u001b[39mreplace(\u001b[38;5;124m\"\u001b[39m\u001b[38;5;124m,\u001b[39m\u001b[38;5;124m\"\u001b[39m, \u001b[38;5;124m\"\u001b[39m\u001b[38;5;124m\"\u001b[39m)))\n\u001b[0;32m     21\u001b[0m     shutil\u001b[38;5;241m.\u001b[39mmove(\u001b[38;5;124mf\u001b[39m\u001b[38;5;124m\"\u001b[39m\u001b[38;5;124m./name/\u001b[39m\u001b[38;5;132;01m{\u001b[39;00mfile\u001b[38;5;132;01m}\u001b[39;00m\u001b[38;5;124m\"\u001b[39m, \u001b[38;5;124mf\u001b[39m\u001b[38;5;124m\"\u001b[39m\u001b[38;5;124m./cusomter/female/\u001b[39m\u001b[38;5;132;01m{\u001b[39;00mfile\u001b[38;5;132;01m}\u001b[39;00m\u001b[38;5;124m\"\u001b[39m )\n",
      "File \u001b[1;32mc:\\Users\\Playdata\\miniconda3\\lib\\site-packages\\IPython\\core\\interactiveshell.py:324\u001b[0m, in \u001b[0;36m_modified_open\u001b[1;34m(file, *args, **kwargs)\u001b[0m\n\u001b[0;32m    317\u001b[0m \u001b[38;5;28;01mif\u001b[39;00m file \u001b[38;5;129;01min\u001b[39;00m {\u001b[38;5;241m0\u001b[39m, \u001b[38;5;241m1\u001b[39m, \u001b[38;5;241m2\u001b[39m}:\n\u001b[0;32m    318\u001b[0m     \u001b[38;5;28;01mraise\u001b[39;00m \u001b[38;5;167;01mValueError\u001b[39;00m(\n\u001b[0;32m    319\u001b[0m         \u001b[38;5;124mf\u001b[39m\u001b[38;5;124m\"\u001b[39m\u001b[38;5;124mIPython won\u001b[39m\u001b[38;5;124m'\u001b[39m\u001b[38;5;124mt let you open fd=\u001b[39m\u001b[38;5;132;01m{\u001b[39;00mfile\u001b[38;5;132;01m}\u001b[39;00m\u001b[38;5;124m by default \u001b[39m\u001b[38;5;124m\"\u001b[39m\n\u001b[0;32m    320\u001b[0m         \u001b[38;5;124m\"\u001b[39m\u001b[38;5;124mas it is likely to crash IPython. If you know what you are doing, \u001b[39m\u001b[38;5;124m\"\u001b[39m\n\u001b[0;32m    321\u001b[0m         \u001b[38;5;124m\"\u001b[39m\u001b[38;5;124myou can use builtins\u001b[39m\u001b[38;5;124m'\u001b[39m\u001b[38;5;124m open.\u001b[39m\u001b[38;5;124m\"\u001b[39m\n\u001b[0;32m    322\u001b[0m     )\n\u001b[1;32m--> 324\u001b[0m \u001b[38;5;28;01mreturn\u001b[39;00m io_open(file, \u001b[38;5;241m*\u001b[39margs, \u001b[38;5;241m*\u001b[39m\u001b[38;5;241m*\u001b[39mkwargs)\n",
      "File \u001b[1;32mc:\\Users\\Playdata\\miniconda3\\lib\\codecs.py:309\u001b[0m, in \u001b[0;36mBufferedIncrementalDecoder.__init__\u001b[1;34m(self, errors)\u001b[0m\n\u001b[0;32m    303\u001b[0m \u001b[38;5;28;01mclass\u001b[39;00m \u001b[38;5;21;01mBufferedIncrementalDecoder\u001b[39;00m(IncrementalDecoder):\n\u001b[0;32m    304\u001b[0m \u001b[38;5;250m    \u001b[39m\u001b[38;5;124;03m\"\"\"\u001b[39;00m\n\u001b[0;32m    305\u001b[0m \u001b[38;5;124;03m    This subclass of IncrementalDecoder can be used as the baseclass for an\u001b[39;00m\n\u001b[0;32m    306\u001b[0m \u001b[38;5;124;03m    incremental decoder if the decoder must be able to handle incomplete\u001b[39;00m\n\u001b[0;32m    307\u001b[0m \u001b[38;5;124;03m    byte sequences.\u001b[39;00m\n\u001b[0;32m    308\u001b[0m \u001b[38;5;124;03m    \"\"\"\u001b[39;00m\n\u001b[1;32m--> 309\u001b[0m     \u001b[38;5;28;01mdef\u001b[39;00m \u001b[38;5;21m__init__\u001b[39m(\u001b[38;5;28mself\u001b[39m, errors\u001b[38;5;241m=\u001b[39m\u001b[38;5;124m'\u001b[39m\u001b[38;5;124mstrict\u001b[39m\u001b[38;5;124m'\u001b[39m):\n\u001b[0;32m    310\u001b[0m         IncrementalDecoder\u001b[38;5;241m.\u001b[39m\u001b[38;5;21m__init__\u001b[39m(\u001b[38;5;28mself\u001b[39m, errors)\n\u001b[0;32m    311\u001b[0m         \u001b[38;5;66;03m# undecoded input that is kept between calls to decode()\u001b[39;00m\n",
      "\u001b[1;31mKeyboardInterrupt\u001b[0m: "
     ]
    }
   ],
   "source": [
    "import zipfile\n",
    "with zipfile.ZipFile(\"./이름_생년_성별_10000.zip\") as f:\n",
    "    f.extractall(\"./name\")\n",
    "import pathlib\n",
    "import shutil\n",
    "import os\n",
    "\n",
    "pathlib.Path(\"./cusomter/male\").mkdir(parents=True, exist_ok=True)\n",
    "pathlib.Path(\"./cusomter/female\").mkdir(parents=True, exist_ok=True)\n",
    "male = []\n",
    "female = []\n",
    "for file in os.listdir(\"./name\"):\n",
    "    # 남성\n",
    "    if file.split(\"_\")[-1][0] in ['1', '3']:\n",
    "        with open(f\"./name/{file}\", \"r\") as f:\n",
    "            male.append(int(f.read().replace(\",\", \"\")))\n",
    "        shutil.move(f\"./name/{file}\", f\"./cusomter/male/{file}\" )\n",
    "    elif file.split(\"_\")[-1][0] in ['2', '4']:\n",
    "        with open(f\"./name/{file}\", \"r\") as f:\n",
    "            female.append(int(f.read().replace(\",\", \"\")))\n",
    "        shutil.move(f\"./name/{file}\", f\"./cusomter/female/{file}\" )\n",
    "    else:\n",
    "        print(\"잘못된 파일입니다. \")\n"
   ]
  },
  {
   "cell_type": "code",
   "execution_count": 3,
   "id": "88214b71",
   "metadata": {},
   "outputs": [
    {
     "ename": "KeyboardInterrupt",
     "evalue": "",
     "output_type": "error",
     "traceback": [
      "\u001b[1;31m---------------------------------------------------------------------------\u001b[0m",
      "\u001b[1;31mKeyboardInterrupt\u001b[0m                         Traceback (most recent call last)",
      "Cell \u001b[1;32mIn[3], line 2\u001b[0m\n\u001b[0;32m      1\u001b[0m f \u001b[38;5;241m=\u001b[39m \u001b[38;5;28mopen\u001b[39m(\u001b[38;5;124m\"\u001b[39m\u001b[38;5;124m./myfilelist.txt\u001b[39m\u001b[38;5;124m\"\u001b[39m, \u001b[38;5;124m\"\u001b[39m\u001b[38;5;124mw\u001b[39m\u001b[38;5;124m\"\u001b[39m, encoding\u001b[38;5;241m=\u001b[39m\u001b[38;5;124m'\u001b[39m\u001b[38;5;124mutf-8\u001b[39m\u001b[38;5;124m'\u001b[39m)\n\u001b[1;32m----> 2\u001b[0m \u001b[38;5;28;01mfor\u001b[39;00m roots, dirs, files \u001b[38;5;129;01min\u001b[39;00m os\u001b[38;5;241m.\u001b[39mwalk(\u001b[38;5;124m\"\u001b[39m\u001b[38;5;124mc:/windows/\u001b[39m\u001b[38;5;124m\"\u001b[39m):\n\u001b[0;32m      3\u001b[0m     \u001b[38;5;28;01mfor\u001b[39;00m file \u001b[38;5;129;01min\u001b[39;00m files:\n\u001b[0;32m      4\u001b[0m         f\u001b[38;5;241m.\u001b[39mwrite(\u001b[38;5;124mf\u001b[39m\u001b[38;5;124m\"\u001b[39m\u001b[38;5;132;01m{\u001b[39;00mroots\u001b[38;5;132;01m}\u001b[39;00m\u001b[38;5;132;01m{\u001b[39;00mfile\u001b[38;5;132;01m}\u001b[39;00m\u001b[38;5;130;01m\\n\u001b[39;00m\u001b[38;5;124m\"\u001b[39m)\n",
      "File \u001b[1;32mc:\\Users\\Playdata\\miniconda3\\lib\\os.py:419\u001b[0m, in \u001b[0;36m_walk\u001b[1;34m(top, topdown, onerror, followlinks)\u001b[0m\n\u001b[0;32m    414\u001b[0m         \u001b[38;5;66;03m# Issue #23605: os.path.islink() is used instead of caching\u001b[39;00m\n\u001b[0;32m    415\u001b[0m         \u001b[38;5;66;03m# entry.is_symlink() result during the loop on os.scandir() because\u001b[39;00m\n\u001b[0;32m    416\u001b[0m         \u001b[38;5;66;03m# the caller can replace the directory entry during the \"yield\"\u001b[39;00m\n\u001b[0;32m    417\u001b[0m         \u001b[38;5;66;03m# above.\u001b[39;00m\n\u001b[0;32m    418\u001b[0m         \u001b[38;5;28;01mif\u001b[39;00m followlinks \u001b[38;5;129;01mor\u001b[39;00m \u001b[38;5;129;01mnot\u001b[39;00m islink(new_path):\n\u001b[1;32m--> 419\u001b[0m             \u001b[38;5;28;01myield from\u001b[39;00m _walk(new_path, topdown, onerror, followlinks)\n\u001b[0;32m    420\u001b[0m \u001b[38;5;28;01melse\u001b[39;00m:\n\u001b[0;32m    421\u001b[0m     \u001b[38;5;66;03m# Recurse into sub-directories\u001b[39;00m\n\u001b[0;32m    422\u001b[0m     \u001b[38;5;28;01mfor\u001b[39;00m new_path \u001b[38;5;129;01min\u001b[39;00m walk_dirs:\n",
      "File \u001b[1;32mc:\\Users\\Playdata\\miniconda3\\lib\\os.py:419\u001b[0m, in \u001b[0;36m_walk\u001b[1;34m(top, topdown, onerror, followlinks)\u001b[0m\n\u001b[0;32m    414\u001b[0m         \u001b[38;5;66;03m# Issue #23605: os.path.islink() is used instead of caching\u001b[39;00m\n\u001b[0;32m    415\u001b[0m         \u001b[38;5;66;03m# entry.is_symlink() result during the loop on os.scandir() because\u001b[39;00m\n\u001b[0;32m    416\u001b[0m         \u001b[38;5;66;03m# the caller can replace the directory entry during the \"yield\"\u001b[39;00m\n\u001b[0;32m    417\u001b[0m         \u001b[38;5;66;03m# above.\u001b[39;00m\n\u001b[0;32m    418\u001b[0m         \u001b[38;5;28;01mif\u001b[39;00m followlinks \u001b[38;5;129;01mor\u001b[39;00m \u001b[38;5;129;01mnot\u001b[39;00m islink(new_path):\n\u001b[1;32m--> 419\u001b[0m             \u001b[38;5;28;01myield from\u001b[39;00m _walk(new_path, topdown, onerror, followlinks)\n\u001b[0;32m    420\u001b[0m \u001b[38;5;28;01melse\u001b[39;00m:\n\u001b[0;32m    421\u001b[0m     \u001b[38;5;66;03m# Recurse into sub-directories\u001b[39;00m\n\u001b[0;32m    422\u001b[0m     \u001b[38;5;28;01mfor\u001b[39;00m new_path \u001b[38;5;129;01min\u001b[39;00m walk_dirs:\n",
      "File \u001b[1;32mc:\\Users\\Playdata\\miniconda3\\lib\\os.py:419\u001b[0m, in \u001b[0;36m_walk\u001b[1;34m(top, topdown, onerror, followlinks)\u001b[0m\n\u001b[0;32m    414\u001b[0m         \u001b[38;5;66;03m# Issue #23605: os.path.islink() is used instead of caching\u001b[39;00m\n\u001b[0;32m    415\u001b[0m         \u001b[38;5;66;03m# entry.is_symlink() result during the loop on os.scandir() because\u001b[39;00m\n\u001b[0;32m    416\u001b[0m         \u001b[38;5;66;03m# the caller can replace the directory entry during the \"yield\"\u001b[39;00m\n\u001b[0;32m    417\u001b[0m         \u001b[38;5;66;03m# above.\u001b[39;00m\n\u001b[0;32m    418\u001b[0m         \u001b[38;5;28;01mif\u001b[39;00m followlinks \u001b[38;5;129;01mor\u001b[39;00m \u001b[38;5;129;01mnot\u001b[39;00m islink(new_path):\n\u001b[1;32m--> 419\u001b[0m             \u001b[38;5;28;01myield from\u001b[39;00m _walk(new_path, topdown, onerror, followlinks)\n\u001b[0;32m    420\u001b[0m \u001b[38;5;28;01melse\u001b[39;00m:\n\u001b[0;32m    421\u001b[0m     \u001b[38;5;66;03m# Recurse into sub-directories\u001b[39;00m\n\u001b[0;32m    422\u001b[0m     \u001b[38;5;28;01mfor\u001b[39;00m new_path \u001b[38;5;129;01min\u001b[39;00m walk_dirs:\n",
      "File \u001b[1;32mc:\\Users\\Playdata\\miniconda3\\lib\\os.py:358\u001b[0m, in \u001b[0;36m_walk\u001b[1;34m(top, topdown, onerror, followlinks)\u001b[0m\n\u001b[0;32m    350\u001b[0m \u001b[38;5;66;03m# We may not have read permission for top, in which case we can't\u001b[39;00m\n\u001b[0;32m    351\u001b[0m \u001b[38;5;66;03m# get a list of the files the directory contains.  os.walk\u001b[39;00m\n\u001b[0;32m    352\u001b[0m \u001b[38;5;66;03m# always suppressed the exception then, rather than blow up for a\u001b[39;00m\n\u001b[0;32m    353\u001b[0m \u001b[38;5;66;03m# minor reason when (say) a thousand readable directories are still\u001b[39;00m\n\u001b[0;32m    354\u001b[0m \u001b[38;5;66;03m# left to visit.  That logic is copied here.\u001b[39;00m\n\u001b[0;32m    355\u001b[0m \u001b[38;5;28;01mtry\u001b[39;00m:\n\u001b[0;32m    356\u001b[0m     \u001b[38;5;66;03m# Note that scandir is global in this module due\u001b[39;00m\n\u001b[0;32m    357\u001b[0m     \u001b[38;5;66;03m# to earlier import-*.\u001b[39;00m\n\u001b[1;32m--> 358\u001b[0m     scandir_it \u001b[38;5;241m=\u001b[39m \u001b[43mscandir\u001b[49m\u001b[43m(\u001b[49m\u001b[43mtop\u001b[49m\u001b[43m)\u001b[49m\n\u001b[0;32m    359\u001b[0m \u001b[38;5;28;01mexcept\u001b[39;00m \u001b[38;5;167;01mOSError\u001b[39;00m \u001b[38;5;28;01mas\u001b[39;00m error:\n\u001b[0;32m    360\u001b[0m     \u001b[38;5;28;01mif\u001b[39;00m onerror \u001b[38;5;129;01mis\u001b[39;00m \u001b[38;5;129;01mnot\u001b[39;00m \u001b[38;5;28;01mNone\u001b[39;00m:\n",
      "\u001b[1;31mKeyboardInterrupt\u001b[0m: "
     ]
    }
   ],
   "source": [
    "f = open(\"./myfilelist.txt\", \"w\", encoding='utf-8')\n",
    "for roots, dirs, files in os.walk(\"c:/windows/\"):\n",
    "    for file in files:\n",
    "        f.write(f\"{roots}{file}\\n\")\n",
    "f.close()\n"
   ]
  },
  {
   "cell_type": "code",
   "execution_count": 97,
   "id": "982e3908",
   "metadata": {},
   "outputs": [],
   "source": [
    "import requests \n",
    "\n",
    "url = \"https://m.stock.naver.com/front-api/external/chart/domestic/notice?symbol=010140&startTime=20141017&endTime=20150702&requestType=0\""
   ]
  },
  {
   "cell_type": "code",
   "execution_count": 98,
   "id": "ee8570ca",
   "metadata": {},
   "outputs": [],
   "source": [
    "data=requests.get(url).text"
   ]
  },
  {
   "cell_type": "code",
   "execution_count": 99,
   "id": "c7f6b309",
   "metadata": {},
   "outputs": [],
   "source": [
    "from xml.etree import ElementTree as ET"
   ]
  },
  {
   "cell_type": "code",
   "execution_count": 100,
   "id": "b480abdc",
   "metadata": {},
   "outputs": [
    {
     "name": "stdout",
     "output_type": "stream",
     "text": [
      "<?xml version=\"1.0\" encoding=\"UTF-8\"\n",
      "?><protocol>\n",
      "    <notice symbol=\"010140\" count=\"35\">\n",
      "        \n",
      "            <item date=\"20141020\" no=\"632656\" src=\"KOSCOM\">\n",
      "                <title><![CDATA[삼성중공업(주) 연결재무제표기준영업(잠정)실적(공정공시)]]></title>\n",
      "            </item>\n",
      "        \n",
      "            <item date=\"20141027\" no=\"633559\" src=\"KOSCOM\">\n",
      "                <title><![CDATA[삼성중공업(주) 임시주주총회 결과]]></title>\n",
      "            </item>\n",
      "        \n",
      "            <item date=\"20141029\" no=\"633899\" src=\"KOSCOM\">\n",
      "                <title><![CDATA[삼성중공업(주) 자기주식 취득 결정]]></title>\n",
      "            </item>\n",
      "        \n",
      "            <item date=\"20141031\" no=\"634600\" src=\"KOSCOM\">\n",
      "                <title><![CDATA[삼성중공업(주) 조회공시 요구(풍문 또는 보도)에 대한 답변(미확정)]]></title>\n",
      "            </item>\n",
      "        \n",
      "            <item date=\"20141110\" no=\"635757\" src=\"KOSCOM\">\n",
      "                <title><![CDATA[삼성중공업(주) 조회공시 요구(풍문 또는 보도)]]></title>\n",
      "            </item>\n",
      "        \n",
      "            <item date=\"20141110\" no=\"635785\" src=\"KOSCOM\">\n",
      "                <title><![CDATA[삼성중공업(주) 조회공시 요구(풍문 또는 보도)에 대한 답변(미확정)]]></title>\n",
      "            </item>\n",
      "        \n",
      "            <item date=\"20141119\" no=\"637249\" src=\"KOSCOM\">\n",
      "                <title><![CDATA[삼성중공업(주) 기타 주요경영사항(자율공시)]]></title>\n",
      "            </item>\n",
      "        \n",
      "            <item date=\"20141210\" no=\"640418\" src=\"KOSCOM\">\n",
      "                <title><![CDATA[삼성중공업(주) 조회공시 요구(풍문 또는 보도)에 대한 답변(미확정)]]></title>\n",
      "            </item>\n",
      "        \n",
      "            <item date=\"20141215\" no=\"641746\" src=\"KOSCOM\">\n",
      "                <title><![CDATA[삼성중공업(주) 주식명의개서정지(주주명부폐쇄)]]></title>\n",
      "            </item>\n",
      "        \n",
      "            <item date=\"20150119\" no=\"647331\" src=\"KOSCOM\">\n",
      "                <title><![CDATA[삼성중공업(주) 기타 주요경영사항(자율공시)]]></title>\n",
      "            </item>\n",
      "        \n",
      "            <item date=\"20150122\" no=\"647692\" src=\"KOSCOM\">\n",
      "                <title><![CDATA[삼성중공업(주) 단일판매ㆍ공급계약체결]]></title>\n",
      "            </item>\n",
      "        \n",
      "            <item date=\"20150129\" no=\"648820\" src=\"KOSCOM\">\n",
      "                <title><![CDATA[삼성중공업(주) 매출액또는손익구조30%(대규모법인은15%)이상변경]]></title>\n",
      "            </item>\n",
      "        \n",
      "            <item date=\"20150129\" no=\"649025\" src=\"KOSCOM\">\n",
      "                <title><![CDATA[삼성중공업(주) 소송등의판결ㆍ결정(일정금액 이상의 청구)]]></title>\n",
      "            </item>\n",
      "        \n",
      "            <item date=\"20150213\" no=\"652633\" src=\"KOSCOM\">\n",
      "                <title><![CDATA[삼성중공업(주) 주주총회소집결의]]></title>\n",
      "            </item>\n",
      "        \n",
      "            <item date=\"20150226\" no=\"655005\" src=\"KOSCOM\">\n",
      "                <title><![CDATA[삼성중공업(주) (정정)주주총회소집결의]]></title>\n",
      "            </item>\n",
      "        \n",
      "            <item date=\"20150302\" no=\"655877\" src=\"KOSCOM\">\n",
      "                <title><![CDATA[삼성중공업(주) 단일판매ㆍ공급계약체결]]></title>\n",
      "            </item>\n",
      "        \n",
      "            <item date=\"20150313\" no=\"660769\" src=\"KOSCOM\">\n",
      "                <title><![CDATA[삼성중공업(주) 정기주주총회결과]]></title>\n",
      "            </item>\n",
      "        \n",
      "            <item date=\"20150401\" no=\"669703\" src=\"KOSCOM\">\n",
      "                <title><![CDATA[삼성중공업(주) 단일판매ㆍ공급계약체결]]></title>\n",
      "            </item>\n",
      "        \n",
      "            <item date=\"20150403\" no=\"670276\" src=\"KOSCOM\">\n",
      "                <title><![CDATA[삼성중공업(주) 기타 주요경영사항(자율공시)(기타주요경영사항(자율공시) (단일판매·공급계약 체결 건의 진행사항 공시) )]]></title>\n",
      "            </item>\n",
      "        \n",
      "            <item date=\"20150428\" no=\"673807\" src=\"KOSCOM\">\n",
      "                <title><![CDATA[삼성중공업(주) 조회공시 요구(풍문 또는 보도)]]></title>\n",
      "            </item>\n",
      "        \n",
      "            <item date=\"20150428\" no=\"673814\" src=\"KOSCOM\">\n",
      "                <title><![CDATA[삼성중공업(주) 조회공시 요구(풍문 또는 보도)에 대한 답변(부인)]]></title>\n",
      "            </item>\n",
      "        \n",
      "            <item date=\"20150428\" no=\"673918\" src=\"KOSCOM\">\n",
      "                <title><![CDATA[삼성중공업(주) 연결재무제표기준영업(잠정)실적(공정공시)]]></title>\n",
      "            </item>\n",
      "        \n",
      "            <item date=\"20150428\" no=\"673923\" src=\"KOSCOM\">\n",
      "                <title><![CDATA[삼성중공업(주) (정정)단일판매ㆍ공급계약체결]]></title>\n",
      "            </item>\n",
      "        \n",
      "            <item date=\"20150430\" no=\"674591\" src=\"KOSCOM\">\n",
      "                <title><![CDATA[삼성중공업(주) 조회공시 요구(풍문 또는 보도)에 대한 답변(미확정)]]></title>\n",
      "            </item>\n",
      "        \n",
      "            <item date=\"20150518\" no=\"676890\" src=\"KOSCOM\">\n",
      "                <title><![CDATA[삼성중공업(주) 기타 주요경영사항(자율공시)(단일판매·공급계약 체결 건의 진행사항 공시)]]></title>\n",
      "            </item>\n",
      "        \n",
      "            <item date=\"20150604\" no=\"679522\" src=\"KOSCOM\">\n",
      "                <title><![CDATA[삼성중공업(주) 단일판매ㆍ공급계약체결]]></title>\n",
      "            </item>\n",
      "        \n",
      "            <item date=\"20150609\" no=\"680154\" src=\"KOSCOM\">\n",
      "                <title><![CDATA[삼성중공업(주) 조회공시 요구(풍문 또는 보도)에 대한 답변(부인)]]></title>\n",
      "            </item>\n",
      "        \n",
      "            <item date=\"20150611\" no=\"680599\" src=\"KOSCOM\">\n",
      "                <title><![CDATA[삼성중공업(주) 기타 주요경영사항(자율공시)(단일판매·공급계약 체결 건의 진행사항 공시)]]></title>\n",
      "            </item>\n",
      "        \n",
      "            <item date=\"20150612\" no=\"680724\" src=\"KOSCOM\">\n",
      "                <title><![CDATA[삼성중공업(주) 기타 주요경영사항(자율공시)(단일판매·공급계약 체결 건의 진행사항 공시)]]></title>\n",
      "            </item>\n",
      "        \n",
      "            <item date=\"20150615\" no=\"680934\" src=\"KOSCOM\">\n",
      "                <title><![CDATA[삼성중공업(주) 기타 주요경영사항(자율공시)(단일판매·공급계약 체결 건의 진행사항 공시)]]></title>\n",
      "            </item>\n",
      "        \n",
      "            <item date=\"20150623\" no=\"682190\" src=\"KOSCOM\">\n",
      "                <title><![CDATA[삼성중공업(주) [투자주의]투자경고종목 지정예고(삼성중공우)]]></title>\n",
      "            </item>\n",
      "        \n",
      "            <item date=\"20150630\" no=\"683291\" src=\"KOSCOM\">\n",
      "                <title><![CDATA[삼성중공업(주) 조회공시 요구(풍문 또는 보도)]]></title>\n",
      "            </item>\n",
      "        \n",
      "            <item date=\"20150630\" no=\"683497\" src=\"KOSCOM\">\n",
      "                <title><![CDATA[삼성중공업(주) 단일판매ㆍ공급계약체결]]></title>\n",
      "            </item>\n",
      "        \n",
      "            <item date=\"20150701\" no=\"683676\" src=\"KOSCOM\">\n",
      "                <title><![CDATA[삼성중공업(주) 단일판매ㆍ공급계약체결]]></title>\n",
      "            </item>\n",
      "        \n",
      "            <item date=\"20150701\" no=\"683774\" src=\"KOSCOM\">\n",
      "                <title><![CDATA[삼성중공업(주) 기타시장안내(삼성중공우)]]></title>\n",
      "            </item>\n",
      "        \n",
      "    </notice>\n",
      "</protocol>\n",
      "\n"
     ]
    }
   ],
   "source": [
    "# print(data)\n",
    "print(data)"
   ]
  },
  {
   "cell_type": "code",
   "execution_count": 101,
   "id": "ca5faa65",
   "metadata": {},
   "outputs": [],
   "source": [
    "root = ET.fromstring(data)\n",
    "items=root.iter(tag='item')"
   ]
  },
  {
   "cell_type": "code",
   "execution_count": 102,
   "id": "bd51f9df",
   "metadata": {},
   "outputs": [
    {
     "name": "stdout",
     "output_type": "stream",
     "text": [
      "title 삼성중공업(주) 연결재무제표기준영업(잠정)실적(공정공시)\n",
      "title 삼성중공업(주) 임시주주총회 결과\n",
      "title 삼성중공업(주) 자기주식 취득 결정\n",
      "title 삼성중공업(주) 조회공시 요구(풍문 또는 보도)에 대한 답변(미확정)\n",
      "title 삼성중공업(주) 조회공시 요구(풍문 또는 보도)\n",
      "title 삼성중공업(주) 조회공시 요구(풍문 또는 보도)에 대한 답변(미확정)\n",
      "title 삼성중공업(주) 기타 주요경영사항(자율공시)\n",
      "title 삼성중공업(주) 조회공시 요구(풍문 또는 보도)에 대한 답변(미확정)\n",
      "title 삼성중공업(주) 주식명의개서정지(주주명부폐쇄)\n",
      "title 삼성중공업(주) 기타 주요경영사항(자율공시)\n",
      "title 삼성중공업(주) 단일판매ㆍ공급계약체결\n",
      "title 삼성중공업(주) 매출액또는손익구조30%(대규모법인은15%)이상변경\n",
      "title 삼성중공업(주) 소송등의판결ㆍ결정(일정금액 이상의 청구)\n",
      "title 삼성중공업(주) 주주총회소집결의\n",
      "title 삼성중공업(주) (정정)주주총회소집결의\n",
      "title 삼성중공업(주) 단일판매ㆍ공급계약체결\n",
      "title 삼성중공업(주) 정기주주총회결과\n",
      "title 삼성중공업(주) 단일판매ㆍ공급계약체결\n",
      "title 삼성중공업(주) 기타 주요경영사항(자율공시)(기타주요경영사항(자율공시) (단일판매·공급계약 체결 건의 진행사항 공시) )\n",
      "title 삼성중공업(주) 조회공시 요구(풍문 또는 보도)\n",
      "title 삼성중공업(주) 조회공시 요구(풍문 또는 보도)에 대한 답변(부인)\n",
      "title 삼성중공업(주) 연결재무제표기준영업(잠정)실적(공정공시)\n",
      "title 삼성중공업(주) (정정)단일판매ㆍ공급계약체결\n",
      "title 삼성중공업(주) 조회공시 요구(풍문 또는 보도)에 대한 답변(미확정)\n",
      "title 삼성중공업(주) 기타 주요경영사항(자율공시)(단일판매·공급계약 체결 건의 진행사항 공시)\n",
      "title 삼성중공업(주) 단일판매ㆍ공급계약체결\n",
      "title 삼성중공업(주) 조회공시 요구(풍문 또는 보도)에 대한 답변(부인)\n",
      "title 삼성중공업(주) 기타 주요경영사항(자율공시)(단일판매·공급계약 체결 건의 진행사항 공시)\n",
      "title 삼성중공업(주) 기타 주요경영사항(자율공시)(단일판매·공급계약 체결 건의 진행사항 공시)\n",
      "title 삼성중공업(주) 기타 주요경영사항(자율공시)(단일판매·공급계약 체결 건의 진행사항 공시)\n",
      "title 삼성중공업(주) [투자주의]투자경고종목 지정예고(삼성중공우)\n",
      "title 삼성중공업(주) 조회공시 요구(풍문 또는 보도)\n",
      "title 삼성중공업(주) 단일판매ㆍ공급계약체결\n",
      "title 삼성중공업(주) 단일판매ㆍ공급계약체결\n",
      "title 삼성중공업(주) 기타시장안내(삼성중공우)\n"
     ]
    }
   ],
   "source": [
    "for i in items:\n",
    "    for x in i:\n",
    "        print(x.tag, x.text)"
   ]
  },
  {
   "cell_type": "code",
   "execution_count": 103,
   "id": "3337e1fb",
   "metadata": {},
   "outputs": [
    {
     "data": {
      "text/plain": [
       "['__class__',\n",
       " '__copy__',\n",
       " '__deepcopy__',\n",
       " '__delattr__',\n",
       " '__delitem__',\n",
       " '__dir__',\n",
       " '__doc__',\n",
       " '__eq__',\n",
       " '__format__',\n",
       " '__ge__',\n",
       " '__getattribute__',\n",
       " '__getitem__',\n",
       " '__getstate__',\n",
       " '__gt__',\n",
       " '__hash__',\n",
       " '__init__',\n",
       " '__init_subclass__',\n",
       " '__le__',\n",
       " '__len__',\n",
       " '__lt__',\n",
       " '__ne__',\n",
       " '__new__',\n",
       " '__reduce__',\n",
       " '__reduce_ex__',\n",
       " '__repr__',\n",
       " '__setattr__',\n",
       " '__setitem__',\n",
       " '__setstate__',\n",
       " '__sizeof__',\n",
       " '__str__',\n",
       " '__subclasshook__',\n",
       " 'append',\n",
       " 'attrib',\n",
       " 'clear',\n",
       " 'extend',\n",
       " 'find',\n",
       " 'findall',\n",
       " 'findtext',\n",
       " 'get',\n",
       " 'insert',\n",
       " 'items',\n",
       " 'iter',\n",
       " 'iterfind',\n",
       " 'itertext',\n",
       " 'keys',\n",
       " 'makeelement',\n",
       " 'remove',\n",
       " 'set',\n",
       " 'tag',\n",
       " 'tail',\n",
       " 'text']"
      ]
     },
     "execution_count": 103,
     "metadata": {},
     "output_type": "execute_result"
    }
   ],
   "source": [
    "dir(i)"
   ]
  },
  {
   "cell_type": "code",
   "execution_count": 104,
   "id": "8a732630",
   "metadata": {},
   "outputs": [
    {
     "data": {
      "text/plain": [
       "'20150701'"
      ]
     },
     "execution_count": 104,
     "metadata": {},
     "output_type": "execute_result"
    }
   ],
   "source": [
    "i.get('date')"
   ]
  },
  {
   "cell_type": "code",
   "execution_count": 105,
   "id": "50f77aea",
   "metadata": {},
   "outputs": [
    {
     "data": {
      "text/plain": [
       "['date', 'no', 'src']"
      ]
     },
     "execution_count": 105,
     "metadata": {},
     "output_type": "execute_result"
    }
   ],
   "source": [
    "i.keys()"
   ]
  },
  {
   "cell_type": "code",
   "execution_count": null,
   "id": "5d975c2a",
   "metadata": {},
   "outputs": [],
   "source": [
    "items=root.iter(tag='item')\n",
    "total=[]\n",
    "for i in items:\n",
    "    for x in i:\n",
    "        total.append({'date': i.get('date'),'information' : x.text})"
   ]
  },
  {
   "cell_type": "code",
   "execution_count": 107,
   "id": "2b8fef26",
   "metadata": {},
   "outputs": [
    {
     "data": {
      "text/plain": [
       "[{'date': '20141020', 'information': '삼성중공업(주) 연결재무제표기준영업(잠정)실적(공정공시)'},\n",
       " {'date': '20141027', 'information': '삼성중공업(주) 임시주주총회 결과'},\n",
       " {'date': '20141029', 'information': '삼성중공업(주) 자기주식 취득 결정'},\n",
       " {'date': '20141031', 'information': '삼성중공업(주) 조회공시 요구(풍문 또는 보도)에 대한 답변(미확정)'},\n",
       " {'date': '20141110', 'information': '삼성중공업(주) 조회공시 요구(풍문 또는 보도)'},\n",
       " {'date': '20141110', 'information': '삼성중공업(주) 조회공시 요구(풍문 또는 보도)에 대한 답변(미확정)'},\n",
       " {'date': '20141119', 'information': '삼성중공업(주) 기타 주요경영사항(자율공시)'},\n",
       " {'date': '20141210', 'information': '삼성중공업(주) 조회공시 요구(풍문 또는 보도)에 대한 답변(미확정)'},\n",
       " {'date': '20141215', 'information': '삼성중공업(주) 주식명의개서정지(주주명부폐쇄)'},\n",
       " {'date': '20150119', 'information': '삼성중공업(주) 기타 주요경영사항(자율공시)'},\n",
       " {'date': '20150122', 'information': '삼성중공업(주) 단일판매ㆍ공급계약체결'},\n",
       " {'date': '20150129', 'information': '삼성중공업(주) 매출액또는손익구조30%(대규모법인은15%)이상변경'},\n",
       " {'date': '20150129', 'information': '삼성중공업(주) 소송등의판결ㆍ결정(일정금액 이상의 청구)'},\n",
       " {'date': '20150213', 'information': '삼성중공업(주) 주주총회소집결의'},\n",
       " {'date': '20150226', 'information': '삼성중공업(주) (정정)주주총회소집결의'},\n",
       " {'date': '20150302', 'information': '삼성중공업(주) 단일판매ㆍ공급계약체결'},\n",
       " {'date': '20150313', 'information': '삼성중공업(주) 정기주주총회결과'},\n",
       " {'date': '20150401', 'information': '삼성중공업(주) 단일판매ㆍ공급계약체결'},\n",
       " {'date': '20150403',\n",
       "  'information': '삼성중공업(주) 기타 주요경영사항(자율공시)(기타주요경영사항(자율공시) (단일판매·공급계약 체결 건의 진행사항 공시) )'},\n",
       " {'date': '20150428', 'information': '삼성중공업(주) 조회공시 요구(풍문 또는 보도)'},\n",
       " {'date': '20150428', 'information': '삼성중공업(주) 조회공시 요구(풍문 또는 보도)에 대한 답변(부인)'},\n",
       " {'date': '20150428', 'information': '삼성중공업(주) 연결재무제표기준영업(잠정)실적(공정공시)'},\n",
       " {'date': '20150428', 'information': '삼성중공업(주) (정정)단일판매ㆍ공급계약체결'},\n",
       " {'date': '20150430', 'information': '삼성중공업(주) 조회공시 요구(풍문 또는 보도)에 대한 답변(미확정)'},\n",
       " {'date': '20150518',\n",
       "  'information': '삼성중공업(주) 기타 주요경영사항(자율공시)(단일판매·공급계약 체결 건의 진행사항 공시)'},\n",
       " {'date': '20150604', 'information': '삼성중공업(주) 단일판매ㆍ공급계약체결'},\n",
       " {'date': '20150609', 'information': '삼성중공업(주) 조회공시 요구(풍문 또는 보도)에 대한 답변(부인)'},\n",
       " {'date': '20150611',\n",
       "  'information': '삼성중공업(주) 기타 주요경영사항(자율공시)(단일판매·공급계약 체결 건의 진행사항 공시)'},\n",
       " {'date': '20150612',\n",
       "  'information': '삼성중공업(주) 기타 주요경영사항(자율공시)(단일판매·공급계약 체결 건의 진행사항 공시)'},\n",
       " {'date': '20150615',\n",
       "  'information': '삼성중공업(주) 기타 주요경영사항(자율공시)(단일판매·공급계약 체결 건의 진행사항 공시)'},\n",
       " {'date': '20150623', 'information': '삼성중공업(주) [투자주의]투자경고종목 지정예고(삼성중공우)'},\n",
       " {'date': '20150630', 'information': '삼성중공업(주) 조회공시 요구(풍문 또는 보도)'},\n",
       " {'date': '20150630', 'information': '삼성중공업(주) 단일판매ㆍ공급계약체결'},\n",
       " {'date': '20150701', 'information': '삼성중공업(주) 단일판매ㆍ공급계약체결'},\n",
       " {'date': '20150701', 'information': '삼성중공업(주) 기타시장안내(삼성중공우)'}]"
      ]
     },
     "execution_count": 107,
     "metadata": {},
     "output_type": "execute_result"
    }
   ],
   "source": [
    "total"
   ]
  },
  {
   "cell_type": "code",
   "execution_count": 108,
   "id": "81c33338",
   "metadata": {},
   "outputs": [],
   "source": [
    "total2 = [{'date' : i.get('date'), 'information' : x.text} for i in root.iter(tag='item')  for x in i]"
   ]
  },
  {
   "cell_type": "code",
   "execution_count": 109,
   "id": "7fcd6607",
   "metadata": {},
   "outputs": [
    {
     "name": "stdout",
     "output_type": "stream",
     "text": [
      "Requirement already satisfied: pandas in c:\\users\\playdata\\miniconda3\\lib\\site-packages (2.2.3)\n",
      "Requirement already satisfied: numpy>=1.22.4 in c:\\users\\playdata\\miniconda3\\lib\\site-packages (from pandas) (2.2.6)\n",
      "Requirement already satisfied: python-dateutil>=2.8.2 in c:\\users\\playdata\\miniconda3\\lib\\site-packages (from pandas) (2.9.0.post0)\n",
      "Requirement already satisfied: pytz>=2020.1 in c:\\users\\playdata\\miniconda3\\lib\\site-packages (from pandas) (2025.2)\n",
      "Requirement already satisfied: tzdata>=2022.7 in c:\\users\\playdata\\miniconda3\\lib\\site-packages (from pandas) (2025.2)\n",
      "Requirement already satisfied: six>=1.5 in c:\\users\\playdata\\miniconda3\\lib\\site-packages (from python-dateutil>=2.8.2->pandas) (1.17.0)\n"
     ]
    }
   ],
   "source": [
    "!pip install pandas"
   ]
  },
  {
   "cell_type": "code",
   "execution_count": 110,
   "id": "405535b6",
   "metadata": {},
   "outputs": [],
   "source": [
    "import pandas as pd"
   ]
  },
  {
   "cell_type": "code",
   "execution_count": 111,
   "id": "a558e5a6",
   "metadata": {},
   "outputs": [],
   "source": [
    "pd.DataFrame(total).to_csv(\"./test.csv\",index=False)"
   ]
  },
  {
   "cell_type": "code",
   "execution_count": 34,
   "id": "aaa682f2",
   "metadata": {},
   "outputs": [],
   "source": [
    "#파라미터4개\n",
    "#종목코드,시작날짜,끝나는날짜,저장경로\n",
    "#저장경로는 기본값 설정\n",
    "# 결과-> 저장 경로에 종목코드.csv 로 저장"
   ]
  },
  {
   "cell_type": "code",
   "execution_count": 125,
   "id": "2fdda94a",
   "metadata": {},
   "outputs": [],
   "source": [
    "import requests\n",
    "from xml.etree import ElementTree as ET\n",
    "\n",
    "\n",
    "url_2=\"https://m.stock.naver.com/front-api/external/chart/domestic/notice?symbol=032830&startTime=20210428&endTime=20230428&requestType=0\"\n",
    "\n",
    "data_2=requests.get(url_2).text\n",
    "\n",
    "root_2 = ET.fromstring(data_2)\n",
    "items_2=root_2.iter(tag='item')\n"
   ]
  },
  {
   "cell_type": "code",
   "execution_count": 126,
   "id": "dd01ba90",
   "metadata": {},
   "outputs": [],
   "source": [
    "total_2=[]\n",
    "\n",
    "for i in items_2:\n",
    "    for x in i:\n",
    "        total_2.append({'date': i.get('date'), 'information':x.text})\n"
   ]
  },
  {
   "cell_type": "code",
   "execution_count": 127,
   "id": "5058776c",
   "metadata": {},
   "outputs": [],
   "source": [
    "pd.DataFrame(total_2).to_csv(\"./032830.csv\",index=False)"
   ]
  },
  {
   "cell_type": "code",
   "execution_count": 122,
   "id": "e002319c",
   "metadata": {},
   "outputs": [],
   "source": [
    "i.get('symbol')"
   ]
  },
  {
   "cell_type": "code",
   "execution_count": null,
   "id": "9362e0e6",
   "metadata": {},
   "outputs": [],
   "source": [
    "import multiprocessing"
   ]
  }
 ],
 "metadata": {
  "kernelspec": {
   "display_name": "base",
   "language": "python",
   "name": "python3"
  },
  "language_info": {
   "codemirror_mode": {
    "name": "ipython",
    "version": 3
   },
   "file_extension": ".py",
   "mimetype": "text/x-python",
   "name": "python",
   "nbconvert_exporter": "python",
   "pygments_lexer": "ipython3",
   "version": "3.10.16"
  }
 },
 "nbformat": 4,
 "nbformat_minor": 5
}
