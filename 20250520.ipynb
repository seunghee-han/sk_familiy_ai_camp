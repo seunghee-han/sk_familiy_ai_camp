{
 "cells": [
  {
   "cell_type": "code",
   "execution_count": 3,
   "id": "62b12820-f549-4ea7-9704-2f084f466cf1",
   "metadata": {},
   "outputs": [],
   "source": [
    "a=1"
   ]
  },
  {
   "cell_type": "code",
   "execution_count": 4,
   "id": "dc9d4cc5-0bd9-455c-b284-2d58dd25e28a",
   "metadata": {},
   "outputs": [
    {
     "data": {
      "text/plain": [
       "1"
      ]
     },
     "execution_count": 4,
     "metadata": {},
     "output_type": "execute_result"
    }
   ],
   "source": [
    "a"
   ]
  },
  {
   "cell_type": "code",
   "execution_count": null,
   "id": "af4c4940",
   "metadata": {},
   "outputs": [],
   "source": []
  },
  {
   "cell_type": "code",
   "execution_count": 5,
   "id": "5beb7b30-de98-4631-8b8a-6dbde0ea294d",
   "metadata": {},
   "outputs": [
    {
     "data": {
      "text/plain": [
       "True"
      ]
     },
     "execution_count": 5,
     "metadata": {},
     "output_type": "execute_result"
    }
   ],
   "source": [
    "True"
   ]
  },
  {
   "cell_type": "code",
   "execution_count": 8,
   "id": "190a1b7a-8c32-438b-ba3d-54ff2924682a",
   "metadata": {},
   "outputs": [
    {
     "data": {
      "text/plain": [
       "False"
      ]
     },
     "execution_count": 8,
     "metadata": {},
     "output_type": "execute_result"
    }
   ],
   "source": [
    "False"
   ]
  },
  {
   "cell_type": "code",
   "execution_count": 10,
   "id": "0d6b220b-6abd-429c-a082-d49ba800c403",
   "metadata": {},
   "outputs": [
    {
     "name": "stdout",
     "output_type": "stream",
     "text": [
      "동해물과 백두산이\n"
     ]
    }
   ],
   "source": [
    "text='동해물과 백두산이'\n",
    "print(text)\n"
   ]
  },
  {
   "cell_type": "code",
   "execution_count": 12,
   "id": "133c6f11-e0db-45d9-81d6-147a07f15ab8",
   "metadata": {},
   "outputs": [
    {
     "data": {
      "text/plain": [
       "'동'"
      ]
     },
     "execution_count": 12,
     "metadata": {},
     "output_type": "execute_result"
    }
   ],
   "source": [
    "text[0]"
   ]
  },
  {
   "cell_type": "code",
   "execution_count": 15,
   "id": "d2fd5eeb-5126-4ee5-8027-a1895b56f6ba",
   "metadata": {},
   "outputs": [
    {
     "data": {
      "text/plain": [
       "'동해물과 백'"
      ]
     },
     "execution_count": 15,
     "metadata": {},
     "output_type": "execute_result"
    }
   ],
   "source": [
    "text[:-3]"
   ]
  },
  {
   "cell_type": "code",
   "execution_count": 23,
   "id": "000d9136-8206-47a4-989c-9969e401b9d5",
   "metadata": {},
   "outputs": [
    {
     "name": "stdout",
     "output_type": "stream",
     "text": [
      "값을 입력하세요 200\n"
     ]
    },
    {
     "name": "stdout",
     "output_type": "stream",
     "text": [
      "입력값이 100이 아니네요\n"
     ]
    }
   ],
   "source": [
    "input_a = int(input(\"값을 입력하세요\"))\n",
    "if input_a==100:\n",
    "    print(\"입력값이 100이네요\")\n",
    "else:\n",
    "    print(\"입력값이 100이 아니네요\")"
   ]
  },
  {
   "cell_type": "code",
   "execution_count": 25,
   "id": "27e2fee5-8939-430b-a06c-f98b21569817",
   "metadata": {},
   "outputs": [
    {
     "name": "stdout",
     "output_type": "stream",
     "text": [
      "값을 입력하세요 201\n"
     ]
    },
    {
     "name": "stdout",
     "output_type": "stream",
     "text": [
      "200보다 큰 값 입력했네\n"
     ]
    }
   ],
   "source": [
    "input_a = int(input(\"값을 입력하세요\"))\n",
    "if input_a<=100:\n",
    "    print(\"입력값이 100보다 작다\")\n",
    "elif input_a<=200:\n",
    "    print(\"입력값이 100보다 크고 200보다 작거나 같다\")\n",
    "else:\n",
    "    print(\"200보다 큰 값 입력했네\")"
   ]
  },
  {
   "cell_type": "markdown",
   "id": "8b5d8702-d836-496b-97e0-c6a588acfa3e",
   "metadata": {},
   "source": [
    "- 사용자에게 값을 입력 받고,\n",
    "- 입력값이 5보다 작으면 출력을 \"걸어가세요\"\n",
    "- 입력값이 6~10까지 범위면 \"버스\"\n",
    "- 입력값이 10을 초과하면 \"택시\""
   ]
  },
  {
   "cell_type": "code",
   "execution_count": 30,
   "id": "3748b97c-a67e-4cd1-baa5-c5e67b5cdc97",
   "metadata": {},
   "outputs": [
    {
     "name": "stdout",
     "output_type": "stream",
     "text": [
      "값 입력: 8\n"
     ]
    },
    {
     "name": "stdout",
     "output_type": "stream",
     "text": [
      "버스\n"
     ]
    }
   ],
   "source": [
    "abc= int(input(\"값 입력:\"))\n",
    "if abc<5:\n",
    "    print(\"걸어가세요\")\n",
    "elif abc<=10:\n",
    "    print(\"버스\")\n",
    "else:\n",
    "    print(\"택시\")"
   ]
  },
  {
   "cell_type": "code",
   "execution_count": 37,
   "id": "36195e31-9b33-4c47-a345-3e2ec0fe2564",
   "metadata": {},
   "outputs": [],
   "source": [
    "text3 = \"김미영팀장입니다. {}님께서는 최저이율로 최고{}만원까지 {}분이내 통장입금가능합니다.\""
   ]
  },
  {
   "cell_type": "code",
   "execution_count": 38,
   "id": "53388489-4121-4393-b3bf-0764f762c56a",
   "metadata": {},
   "outputs": [
    {
     "name": "stdout",
     "output_type": "stream",
     "text": [
      "김미영팀장입니다. {}님께서는 최저이율로 최고{}만원까지 {}분이내 통장입금가능합니다.\n"
     ]
    }
   ],
   "source": [
    "print(text3)"
   ]
  },
  {
   "cell_type": "code",
   "execution_count": 39,
   "id": "71e56983-c39e-48ce-bdfd-6e8796d44f4b",
   "metadata": {},
   "outputs": [
    {
     "name": "stdout",
     "output_type": "stream",
     "text": [
      "김미영팀장입니다. 아무개님께서는 최저이율로 최고500만원까지 10분이내 통장입금가능합니다.\n"
     ]
    }
   ],
   "source": [
    "print(text3.format(\"아무개\",500,10))"
   ]
  },
  {
   "cell_type": "code",
   "execution_count": 40,
   "id": "e115b848-6f94-4113-bfa7-0ea5214640e6",
   "metadata": {},
   "outputs": [],
   "source": [
    "kbo = [\t'권광민',\t'권민규',\t'김기중',\t'김도빈',\t'김민우',\t'김범수',\t'김범준',\t'김서현',\t'김승일',\t'김예준',\t'김인환',\t'김종수',\t'김태연',\t'노시환',\t'류현진',\t'문동주',\t'문승진',\t'문현빈']"
   ]
  },
  {
   "cell_type": "code",
   "execution_count": 42,
   "id": "89dec165-44cd-47dc-b530-3e1468b7784a",
   "metadata": {},
   "outputs": [
    {
     "data": {
      "text/plain": [
       "['권광민',\n",
       " '권민규',\n",
       " '김기중',\n",
       " '김도빈',\n",
       " '김민우',\n",
       " '김범수',\n",
       " '김범준',\n",
       " '김서현',\n",
       " '김승일',\n",
       " '김예준',\n",
       " '김인환',\n",
       " '김종수',\n",
       " '김태연',\n",
       " '노시환']"
      ]
     },
     "execution_count": 42,
     "metadata": {},
     "output_type": "execute_result"
    }
   ],
   "source": [
    "kbo[:-4]"
   ]
  },
  {
   "cell_type": "code",
   "execution_count": 45,
   "id": "ed62b344-7c7d-4b83-a1aa-597ef7741205",
   "metadata": {},
   "outputs": [
    {
     "name": "stdout",
     "output_type": "stream",
     "text": [
      "김미영팀장입니다. 권광민님께서는 최저이율로 최고5000만원까지 30분이내 통장입금가능합니다.\n",
      "김미영팀장입니다. 권민규님께서는 최저이율로 최고5000만원까지 30분이내 통장입금가능합니다.\n",
      "김미영팀장입니다. 김기중님께서는 최저이율로 최고5000만원까지 30분이내 통장입금가능합니다.\n",
      "김미영팀장입니다. 김도빈님께서는 최저이율로 최고5000만원까지 30분이내 통장입금가능합니다.\n",
      "김미영팀장입니다. 김민우님께서는 최저이율로 최고5000만원까지 30분이내 통장입금가능합니다.\n",
      "김미영팀장입니다. 김범수님께서는 최저이율로 최고5000만원까지 30분이내 통장입금가능합니다.\n",
      "김미영팀장입니다. 김범준님께서는 최저이율로 최고5000만원까지 30분이내 통장입금가능합니다.\n",
      "김미영팀장입니다. 김서현님께서는 최저이율로 최고5000만원까지 30분이내 통장입금가능합니다.\n",
      "김미영팀장입니다. 김승일님께서는 최저이율로 최고5000만원까지 30분이내 통장입금가능합니다.\n",
      "김미영팀장입니다. 김예준님께서는 최저이율로 최고5000만원까지 30분이내 통장입금가능합니다.\n",
      "김미영팀장입니다. 김인환님께서는 최저이율로 최고10000만원까지 1분이내 통장입금가능합니다.\n",
      "김미영팀장입니다. 김종수님께서는 최저이율로 최고5000만원까지 30분이내 통장입금가능합니다.\n",
      "김미영팀장입니다. 김태연님께서는 최저이율로 최고5000만원까지 30분이내 통장입금가능합니다.\n",
      "김미영팀장입니다. 노시환님께서는 최저이율로 최고5000만원까지 30분이내 통장입금가능합니다.\n",
      "김미영팀장입니다. 류현진님께서는 최저이율로 최고10000만원까지 1분이내 통장입금가능합니다.\n",
      "김미영팀장입니다. 문동주님께서는 최저이율로 최고5000만원까지 30분이내 통장입금가능합니다.\n",
      "김미영팀장입니다. 문승진님께서는 최저이율로 최고5000만원까지 30분이내 통장입금가능합니다.\n",
      "김미영팀장입니다. 문현빈님께서는 최저이율로 최고5000만원까지 30분이내 통장입금가능합니다.\n"
     ]
    }
   ],
   "source": [
    "for name in kbo:\n",
    "    if name == '류현진' or name=='김인환':\n",
    "        print(text3.format(name,10000,1))\n",
    "    else:\n",
    "        print(text3.format(name,5000,30))"
   ]
  },
  {
   "cell_type": "code",
   "execution_count": 48,
   "id": "ec842b11-f95e-44ee-8d8b-f093553e18ad",
   "metadata": {},
   "outputs": [
    {
     "name": "stdout",
     "output_type": "stream",
     "text": [
      "김미영팀장입니다. 권광민님께서는 최저이율로 최고5000만원까지 30분이내 통장입금가능합니다.\n",
      "김미영팀장입니다. 권민규님께서는 최저이율로 최고5000만원까지 30분이내 통장입금가능합니다.\n",
      "김미영팀장입니다. 김기중님께서는 최저이율로 최고10000만원까지 1분이내 통장입금가능합니다.\n",
      "김미영팀장입니다. 김도빈님께서는 최저이율로 최고5000만원까지 30분이내 통장입금가능합니다.\n",
      "김미영팀장입니다. 김민우님께서는 최저이율로 최고5000만원까지 30분이내 통장입금가능합니다.\n",
      "김미영팀장입니다. 김범수님께서는 최저이율로 최고5000만원까지 30분이내 통장입금가능합니다.\n",
      "김미영팀장입니다. 김범준님께서는 최저이율로 최고5000만원까지 30분이내 통장입금가능합니다.\n",
      "김미영팀장입니다. 김서현님께서는 최저이율로 최고5000만원까지 30분이내 통장입금가능합니다.\n",
      "김미영팀장입니다. 김승일님께서는 최저이율로 최고5000만원까지 30분이내 통장입금가능합니다.\n",
      "김미영팀장입니다. 김예준님께서는 최저이율로 최고5000만원까지 30분이내 통장입금가능합니다.\n",
      "김미영팀장입니다. 김인환님께서는 최저이율로 최고10000만원까지 1분이내 통장입금가능합니다.\n",
      "김미영팀장입니다. 김종수님께서는 최저이율로 최고5000만원까지 30분이내 통장입금가능합니다.\n",
      "김미영팀장입니다. 김태연님께서는 최저이율로 최고5000만원까지 30분이내 통장입금가능합니다.\n",
      "김미영팀장입니다. 노시환님께서는 최저이율로 최고5000만원까지 30분이내 통장입금가능합니다.\n",
      "김미영팀장입니다. 류현진님께서는 최저이율로 최고10000만원까지 1분이내 통장입금가능합니다.\n",
      "김미영팀장입니다. 문동주님께서는 최저이율로 최고5000만원까지 30분이내 통장입금가능합니다.\n",
      "김미영팀장입니다. 문승진님께서는 최저이율로 최고5000만원까지 30분이내 통장입금가능합니다.\n",
      "김미영팀장입니다. 문현빈님께서는 최저이율로 최고5000만원까지 30분이내 통장입금가능합니다.\n"
     ]
    }
   ],
   "source": [
    "for name in kbo:\n",
    "    if name in ['류현진','김인환','김기중']:\n",
    "        print(text3.format(name,10000,1))\n",
    "    else:\n",
    "        print(text3.format(name,5000,30))"
   ]
  },
  {
   "cell_type": "code",
   "execution_count": 49,
   "id": "e026f355-8e36-4d16-918c-4b24afc3e3ef",
   "metadata": {},
   "outputs": [
    {
     "data": {
      "text/plain": [
       "'문현빈'"
      ]
     },
     "execution_count": 49,
     "metadata": {},
     "output_type": "execute_result"
    }
   ],
   "source": [
    "name"
   ]
  },
  {
   "cell_type": "code",
   "execution_count": 51,
   "id": "73bc1a97-dfa5-470c-9d51-c8c5410a5829",
   "metadata": {},
   "outputs": [
    {
     "name": "stdout",
     "output_type": "stream",
     "text": [
      "2\n",
      "3\n",
      "4\n",
      "5\n",
      "6\n",
      "7\n",
      "8\n",
      "9\n",
      "10\n",
      "11\n",
      "12\n",
      "13\n",
      "14\n",
      "15\n",
      "16\n",
      "17\n",
      "18\n",
      "19\n"
     ]
    }
   ],
   "source": [
    "for x in range(2,20):\n",
    "    print(x)"
   ]
  },
  {
   "cell_type": "code",
   "execution_count": 53,
   "id": "032a4be2-b865-49c9-abd9-46a69a95acc2",
   "metadata": {},
   "outputs": [
    {
     "name": "stdout",
     "output_type": "stream",
     "text": [
      "2\n",
      "3\n",
      "4\n",
      "6\n",
      "8\n",
      "9\n",
      "10\n",
      "12\n",
      "14\n",
      "15\n",
      "16\n",
      "18\n"
     ]
    }
   ],
   "source": [
    "for x in range(2,20):\n",
    "    if x % 2 ==0 or x %3==0:\n",
    "        print(x)"
   ]
  },
  {
   "cell_type": "code",
   "execution_count": 57,
   "id": "1be535e1-f7a2-40fe-aa27-9accde3e96c0",
   "metadata": {},
   "outputs": [
    {
     "name": "stdout",
     "output_type": "stream",
     "text": [
      "2 x 1 = 2\n",
      "2 x 2 = 4\n",
      "2 x 3 = 6\n",
      "2 x 4 = 8\n",
      "2 x 5 = 10\n",
      "2 x 6 = 12\n",
      "2 x 7 = 14\n",
      "2 x 8 = 16\n",
      "2 x 9 = 18\n",
      "4 x 1 = 4\n",
      "4 x 2 = 8\n",
      "4 x 3 = 12\n",
      "4 x 4 = 16\n",
      "4 x 5 = 20\n",
      "4 x 6 = 24\n",
      "4 x 7 = 28\n",
      "4 x 8 = 32\n",
      "4 x 9 = 36\n",
      "6 x 1 = 6\n",
      "6 x 2 = 12\n",
      "6 x 3 = 18\n",
      "6 x 4 = 24\n",
      "6 x 5 = 30\n",
      "6 x 6 = 36\n",
      "6 x 7 = 42\n",
      "6 x 8 = 48\n",
      "6 x 9 = 54\n",
      "8 x 1 = 8\n",
      "8 x 2 = 16\n",
      "8 x 3 = 24\n",
      "8 x 4 = 32\n",
      "8 x 5 = 40\n",
      "8 x 6 = 48\n",
      "8 x 7 = 56\n",
      "8 x 8 = 64\n",
      "8 x 9 = 72\n"
     ]
    }
   ],
   "source": [
    "for x in range(2,10):\n",
    "    if x %2==0:\n",
    "        for y in range(1,10):\n",
    "            #print(f{} x {} = {}\".format(x,y,x*y))\n",
    "            print(f\"{x} x {y} = {x*y}\")"
   ]
  },
  {
   "cell_type": "code",
   "execution_count": 58,
   "id": "f2aab7bd-b333-4e89-aaa3-f9c652336567",
   "metadata": {},
   "outputs": [
    {
     "name": "stdout",
     "output_type": "stream",
     "text": [
      "[0, 1, 2, 3, 4, 5, 6, 7, 8, 9]\n"
     ]
    }
   ],
   "source": [
    "tmp=[]\n",
    "for x in range(10):\n",
    "    tmp.append(x)\n",
    "print(tmp)"
   ]
  },
  {
   "cell_type": "code",
   "execution_count": 61,
   "id": "4a400030-7071-4639-92f5-2f1979391556",
   "metadata": {},
   "outputs": [
    {
     "name": "stdout",
     "output_type": "stream",
     "text": [
      "[0, 1, 2, 3, 4, 5, 6, 7, 8, 9]\n"
     ]
    }
   ],
   "source": [
    "tmp2=[x for x in range(10)]\n",
    "print (tmp2)"
   ]
  },
  {
   "cell_type": "code",
   "execution_count": 62,
   "id": "b06de7a0-3255-4806-8a93-1f5d0c03ca86",
   "metadata": {},
   "outputs": [
    {
     "name": "stdout",
     "output_type": "stream",
     "text": [
      "[0, 2, 4, 6, 8]\n"
     ]
    }
   ],
   "source": [
    "tmp2=[x for x in range(10) if x %2 ==0]\n",
    "print(tmp2)"
   ]
  },
  {
   "cell_type": "code",
   "execution_count": 67,
   "id": "46fd5da7-c61a-407f-86eb-3bd412838bd3",
   "metadata": {},
   "outputs": [
    {
     "data": {
      "text/plain": [
       "['2x 1=2',\n",
       " '2x 2=4',\n",
       " '2x 3=6',\n",
       " '2x 4=8',\n",
       " '2x 5=10',\n",
       " '2x 6=12',\n",
       " '2x 7=14',\n",
       " '2x 8=16',\n",
       " '2x 9=18',\n",
       " '3x 1=3',\n",
       " '3x 2=6',\n",
       " '3x 3=9',\n",
       " '3x 4=12',\n",
       " '3x 5=15',\n",
       " '3x 6=18',\n",
       " '3x 7=21',\n",
       " '3x 8=24',\n",
       " '3x 9=27',\n",
       " '4x 1=4',\n",
       " '4x 2=8',\n",
       " '4x 3=12',\n",
       " '4x 4=16',\n",
       " '4x 5=20',\n",
       " '4x 6=24',\n",
       " '4x 7=28',\n",
       " '4x 8=32',\n",
       " '4x 9=36',\n",
       " '5x 1=5',\n",
       " '5x 2=10',\n",
       " '5x 3=15',\n",
       " '5x 4=20',\n",
       " '5x 5=25',\n",
       " '5x 6=30',\n",
       " '5x 7=35',\n",
       " '5x 8=40',\n",
       " '5x 9=45',\n",
       " '6x 1=6',\n",
       " '6x 2=12',\n",
       " '6x 3=18',\n",
       " '6x 4=24',\n",
       " '6x 5=30',\n",
       " '6x 6=36',\n",
       " '6x 7=42',\n",
       " '6x 8=48',\n",
       " '6x 9=54',\n",
       " '7x 1=7',\n",
       " '7x 2=14',\n",
       " '7x 3=21',\n",
       " '7x 4=28',\n",
       " '7x 5=35',\n",
       " '7x 6=42',\n",
       " '7x 7=49',\n",
       " '7x 8=56',\n",
       " '7x 9=63',\n",
       " '8x 1=8',\n",
       " '8x 2=16',\n",
       " '8x 3=24',\n",
       " '8x 4=32',\n",
       " '8x 5=40',\n",
       " '8x 6=48',\n",
       " '8x 7=56',\n",
       " '8x 8=64',\n",
       " '8x 9=72',\n",
       " '9x 1=9',\n",
       " '9x 2=18',\n",
       " '9x 3=27',\n",
       " '9x 4=36',\n",
       " '9x 5=45',\n",
       " '9x 6=54',\n",
       " '9x 7=63',\n",
       " '9x 8=72',\n",
       " '9x 9=81']"
      ]
     },
     "execution_count": 67,
     "metadata": {},
     "output_type": "execute_result"
    }
   ],
   "source": [
    "[f\"{x}x {y}={x*y}\" for x in range(2,10) for y in range(1,10)]"
   ]
  },
  {
   "cell_type": "code",
   "execution_count": 72,
   "id": "d72594a9-d544-4640-8e72-ae881ab8352b",
   "metadata": {},
   "outputs": [
    {
     "name": "stdout",
     "output_type": "stream",
     "text": [
      "1904\n",
      "1908\n",
      "1912\n",
      "1916\n",
      "1920\n",
      "1924\n",
      "1928\n",
      "1932\n",
      "1936\n",
      "1940\n",
      "1944\n",
      "1948\n",
      "1952\n",
      "1956\n",
      "1960\n",
      "1964\n",
      "1968\n",
      "1972\n",
      "1976\n",
      "1980\n",
      "1984\n",
      "1988\n",
      "1992\n",
      "1996\n",
      "2000\n",
      "2004\n",
      "2008\n",
      "2012\n",
      "2016\n",
      "2020\n",
      "2024\n",
      "2028\n",
      "2032\n",
      "2036\n",
      "2040\n",
      "2044\n",
      "2048\n",
      "2052\n",
      "2056\n",
      "2060\n",
      "2064\n",
      "2068\n",
      "2072\n",
      "2076\n",
      "2080\n",
      "2084\n",
      "2088\n",
      "2092\n",
      "2096\n"
     ]
    }
   ],
   "source": [
    "#1900~2100 6사이의 윤년 출력\n",
    "\n",
    "for x in range(1900,2101):\n",
    "    if x % 4==0:\n",
    "        #if x % 100!=0 or x %400==0:\n",
    "        if (x%100!=0) or (x%400==0):\n",
    "            print(x)\n"
   ]
  },
  {
   "cell_type": "code",
   "execution_count": 73,
   "id": "6201813a-4885-4fa5-9d5a-6b8e7b6d7c32",
   "metadata": {},
   "outputs": [
    {
     "data": {
      "text/plain": [
       "{'a': 10}"
      ]
     },
     "execution_count": 73,
     "metadata": {},
     "output_type": "execute_result"
    }
   ],
   "source": [
    "{'a':10}"
   ]
  },
  {
   "cell_type": "code",
   "execution_count": 5,
   "id": "38ee5378-76dd-40ca-9bff-a82af9774845",
   "metadata": {},
   "outputs": [],
   "source": [
    "import requests \n",
    "url = \"https://www.starbucks.co.kr/store/getStore.do?r=86N465IIB2\"\n",
    "payload = {\"in_biz_cds\": \"0\",\n",
    "\"in_scodes\": \"0\",\n",
    "\"ins_lat\": \"37.4745\",\n",
    "\"ins_lng\": \"126.8918\",\n",
    "\"search_text\": \"\",\n",
    "\"p_sido_cd\": \"01\",\n",
    "\"p_gugun_cd\": \"\",\n",
    "\"in_distance\": \"0\",\n",
    "\"in_biz_cd\": \"\",\n",
    "\"isError\": \"true\",\n",
    "\"searchType\": \"C\",\n",
    "\"set_date\": \"\",\n",
    "\"all_store\": \"0\",\n",
    "\"T03\": \"0\",\n",
    "\"T01\": \"0\",\n",
    "\"T27\": \"0\",\n",
    "\"T12\": \"0\",\n",
    "\"T09\": \"0\",\n",
    "\"T30\": \"0\",\n",
    "\"T05\": \"0\",\n",
    "\"T22\": \"0\",\n",
    "\"T21\": \"0\",\n",
    "\"T36\": \"0\",\n",
    "\"T43\": \"0\",\n",
    "\"Z9999\": \"0\",\n",
    "\"T64\": \"0\",\n",
    "\"T66\": \"0\",\n",
    "\"P02\": \"0\",\n",
    "\"P10\": \"0\",\n",
    "\"P50\": \"0\",\n",
    "\"P20\": \"0\",\n",
    "\"P60\": \"0\",\n",
    "\"P30\": \"0\",\n",
    "\"P70\": \"0\",\n",
    "\"P40\": \"0\",\n",
    "\"P80\": \"0\",\n",
    "\"whcroad_yn\": \"0\",\n",
    "\"P90\": \"0\",\n",
    "\"P01\": \"0\",\n",
    "\"new_bool\": \"0\",\n",
    "\"iend\": \"1000\",\n",
    "\"rndCod\": \"XW4W0LA4X8\",}\n",
    "r = requests.post(url, data=payload)\n",
    "star = r.json()\n"
   ]
  },
  {
   "cell_type": "code",
   "execution_count": 6,
   "id": "df330082-2f4f-4634-9411-a5e8bcd21e08",
   "metadata": {},
   "outputs": [],
   "source": [
    "star_list=star['list']"
   ]
  },
  {
   "cell_type": "code",
   "execution_count": 7,
   "id": "a8e75956-44d0-4739-a459-3f9bb6bae4c6",
   "metadata": {},
   "outputs": [
    {
     "data": {
      "text/plain": [
       "641"
      ]
     },
     "execution_count": 7,
     "metadata": {},
     "output_type": "execute_result"
    }
   ],
   "source": [
    "len(star_list)"
   ]
  },
  {
   "cell_type": "code",
   "execution_count": 14,
   "id": "24d76938-8a96-43c5-a9f5-112c4d948829",
   "metadata": {},
   "outputs": [
    {
     "name": "stdout",
     "output_type": "stream",
     "text": [
      "삼성역섬유센터R\n",
      "압구정R\n",
      "수서역R\n",
      "양재강남빌딩R\n",
      "선릉동신빌딩R\n",
      "스타필드코엑스몰R\n",
      "강남R\n",
      "청담스타R\n",
      "센터필드R\n",
      "마곡사이언스타워R\n",
      "관악서울대입구R\n",
      "보라매공원R\n",
      "홍대입구역사거리R\n",
      "합정폴리스R\n",
      "강남교보타워R\n",
      "파미에파크R\n",
      "문정법원로R\n",
      "잠실대교남단R\n",
      "타임스퀘어R\n",
      "여의도IFC몰(L1)R\n",
      "여의도KBS R\n",
      "여의도공원R\n",
      "여의도역R\n",
      "더현대서울(B2)R\n",
      "종로R\n",
      "정부서울청사R\n",
      "대한상공회의소R\n",
      "장충라운지R\n",
      "한강진역R\n",
      "용산역써밋R\n",
      "한남동R\n"
     ]
    }
   ],
   "source": [
    "for store in star_list:\n",
    "    if store[\"s_name\"][-1]=='R':\n",
    "        print(store[\"s_name\"])"
   ]
  },
  {
   "cell_type": "code",
   "execution_count": null,
   "id": "885d77ff-781c-4af8-aa87-e31f230cc261",
   "metadata": {},
   "outputs": [],
   "source": []
  }
 ],
 "metadata": {
  "kernelspec": {
   "display_name": "Python 3 (ipykernel)",
   "language": "python",
   "name": "python3"
  },
  "language_info": {
   "codemirror_mode": {
    "name": "ipython",
    "version": 3
   },
   "file_extension": ".py",
   "mimetype": "text/x-python",
   "name": "python",
   "nbconvert_exporter": "python",
   "pygments_lexer": "ipython3",
   "version": "3.10.16"
  }
 },
 "nbformat": 4,
 "nbformat_minor": 5
}
