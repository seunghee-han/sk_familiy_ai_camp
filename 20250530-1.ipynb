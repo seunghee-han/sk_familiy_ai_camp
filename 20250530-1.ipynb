{
 "cells": [
  {
   "cell_type": "code",
   "execution_count": 1,
   "id": "6f06b0b4",
   "metadata": {},
   "outputs": [],
   "source": [
    "import requests\n",
    "\n",
    "url = \"http://data.krx.co.kr/comm/bldAttendant/getJsonData.cmd\"\n",
    "\n",
    "payload={\"bld\":\"dbms/MDC/STAT/standard/MDCSTAT01901\",\n",
    "\"locale\":\"ko_KR\",\n",
    "\"mktId\":\"ALL\",\n",
    "\"share\":\"1\",\n",
    "\"csvxls_isNo\":\"false\",}\n",
    "\n",
    "request_headers = {\n",
    "    \"Accept\": \"application/json, text/javascript, */*; q=0.01\",\n",
    "    \"Accept-Encoding\": \"gzip, deflate\",\n",
    "    \"Accept-Language\": \"ko-KR,ko;q=0.9,en-US;q=0.8,en;q=0.7\",\n",
    "    \"Connection\": \"keep-alive\",\n",
    "    \"Content-Length\": \"88\",\n",
    "    \"Content-Type\": \"application/x-www-form-urlencoded; charset=UTF-8\",\n",
    "    \"Host\": \"data.krx.co.kr\",\n",
    "    \"Origin\": \"http://data.krx.co.kr\",\n",
    "    \"Referer\": \"http://data.krx.co.kr/contents/MDC/MDI/mdiLoader/index.cmd?menuId=MDC0201020201\",\n",
    "    \"User-Agent\": \"Mozilla/5.0 (Windows NT 10.0; Win64; x64) AppleWebKit/537.36 (KHTML, like Gecko) Chrome/137.0.0.0 Safari/537.36\",\n",
    "    \"X-Requested-With\": \"XMLHttpRequest\"\n",
    "}\n",
    "r= requests.post(url, data=payload, headers=request_headers)"
   ]
  },
  {
   "cell_type": "code",
   "execution_count": 8,
   "id": "f7bd1ca0",
   "metadata": {},
   "outputs": [
    {
     "name": "stdout",
     "output_type": "stream",
     "text": [
      "ISU_CD\n",
      "ISU_SRT_CD\n",
      "ISU_NM\n",
      "ISU_ABBRV\n",
      "ISU_ENG_NM\n",
      "LIST_DD\n",
      "MKT_TP_NM\n",
      "SECUGRP_NM\n",
      "SECT_TP_NM\n",
      "KIND_STKCERT_TP_NM\n",
      "PARVAL\n",
      "LIST_SHRS\n"
     ]
    }
   ],
   "source": [
    "for x in r.json()['OutBlock_1'][0].keys():\n",
    "    print(x)"
   ]
  },
  {
   "cell_type": "code",
   "execution_count": 9,
   "id": "09087a37",
   "metadata": {},
   "outputs": [
    {
     "data": {
      "text/plain": [
       "{'ISU_CD': 'KR7098120009',\n",
       " 'ISU_SRT_CD': '098120',\n",
       " 'ISU_NM': '(주)마이크로컨텍솔루션',\n",
       " 'ISU_ABBRV': '마이크로컨텍솔',\n",
       " 'ISU_ENG_NM': 'Micro Contact Solution Co.,Ltd.',\n",
       " 'LIST_DD': '2008/09/23',\n",
       " 'MKT_TP_NM': 'KOSDAQ',\n",
       " 'SECUGRP_NM': '주권',\n",
       " 'SECT_TP_NM': '중견기업부',\n",
       " 'KIND_STKCERT_TP_NM': '보통주',\n",
       " 'PARVAL': '500',\n",
       " 'LIST_SHRS': '8,312,766'}"
      ]
     },
     "execution_count": 9,
     "metadata": {},
     "output_type": "execute_result"
    }
   ],
   "source": [
    "r.json()['OutBlock_1'][0]"
   ]
  },
  {
   "cell_type": "code",
   "execution_count": 26,
   "id": "b5119381",
   "metadata": {},
   "outputs": [],
   "source": [
    "sql = \"\"\" \n",
    "create TABLE IF NOT EXISTS `st_master`(\n",
    "    `ISU_CD` varchar(12) not null, \n",
    "    `ISU_SRT_CD` varchar(10) not null, \n",
    "    `ISU_NM` varchar(100) not null, \n",
    "    `ISU_ABBRV` varchar(100) not null, \n",
    "    `ISU_ENG_NM` varchar(100) not null, \n",
    "    `LIST_DD` date not null, \n",
    "    `MKT_TP_NM` varchar(15) not null, \n",
    "    `SECUGRP_NM` varchar(20) not null,\n",
    "    `SECT_TP_NM` varchar(30) not null,\n",
    "    `KIND_STKCERT_TP_NM` varchar(15) not NULL,\n",
    "    `PARVAL` int null default null, \n",
    "    `IST_SHRS` bigint not null,\n",
    "    PRIMARY KEY(`ISU_SRT_CD`)\n",
    ")\n",
    "\n",
    "\"\"\""
   ]
  },
  {
   "cell_type": "code",
   "execution_count": 70,
   "id": "fd26709a",
   "metadata": {},
   "outputs": [],
   "source": [
    "import pymysql\n",
    "conn = pymysql.connect(host='127.0.0.1', user='play', passwd='123', database='sk17', port=3306)\n",
    "cur = conn.cursor()"
   ]
  },
  {
   "cell_type": "code",
   "execution_count": 28,
   "id": "65737b29",
   "metadata": {},
   "outputs": [
    {
     "data": {
      "text/plain": [
       "0"
      ]
     },
     "execution_count": 28,
     "metadata": {},
     "output_type": "execute_result"
    }
   ],
   "source": [
    "cur.execute(sql)"
   ]
  },
  {
   "cell_type": "code",
   "execution_count": 29,
   "id": "d6ee3c9e",
   "metadata": {},
   "outputs": [
    {
     "data": {
      "text/plain": [
       "12"
      ]
     },
     "execution_count": 29,
     "metadata": {},
     "output_type": "execute_result"
    }
   ],
   "source": [
    "cur.execute(\"desc st_master\")"
   ]
  },
  {
   "cell_type": "code",
   "execution_count": 30,
   "id": "75e9e388",
   "metadata": {},
   "outputs": [
    {
     "data": {
      "text/plain": [
       "(('ISU_CD', 'varchar(12)', 'NO', '', None, ''),\n",
       " ('ISU_SRT_CD', 'varchar(10)', 'NO', 'PRI', None, ''),\n",
       " ('ISU_NM', 'varchar(100)', 'NO', '', None, ''),\n",
       " ('ISU_ABBRV', 'varchar(100)', 'NO', '', None, ''),\n",
       " ('ISU_ENG_NM', 'varchar(100)', 'NO', '', None, ''),\n",
       " ('LIST_DD', 'date', 'NO', '', None, ''),\n",
       " ('MKT_TP_NM', 'varchar(15)', 'NO', '', None, ''),\n",
       " ('SECUGRP_NM', 'varchar(20)', 'NO', '', None, ''),\n",
       " ('SECT_TP_NM', 'varchar(30)', 'NO', '', None, ''),\n",
       " ('KIND_STKCERT_TP_NM', 'varchar(15)', 'NO', '', None, ''),\n",
       " ('PARVAL', 'int', 'YES', '', None, ''),\n",
       " ('IST_SHRS', 'bigint', 'NO', '', None, ''))"
      ]
     },
     "execution_count": 30,
     "metadata": {},
     "output_type": "execute_result"
    }
   ],
   "source": [
    "cur.fetchall()"
   ]
  },
  {
   "cell_type": "code",
   "execution_count": 32,
   "id": "b9724209",
   "metadata": {},
   "outputs": [
    {
     "data": {
      "text/plain": [
       "'%s, %s, %s, %s, %s, %s, %s, %s, %s, %s, %s, %s, '"
      ]
     },
     "execution_count": 32,
     "metadata": {},
     "output_type": "execute_result"
    }
   ],
   "source": [
    "'%s, ' * 12"
   ]
  },
  {
   "cell_type": "code",
   "execution_count": 33,
   "id": "bc9079eb",
   "metadata": {},
   "outputs": [],
   "source": [
    "sql = \"insert into st_master values(%s, %s, %s, %s, %s, %s, %s, %s, %s, %s, %s, %s)\""
   ]
  },
  {
   "cell_type": "code",
   "execution_count": null,
   "id": "621d2530",
   "metadata": {},
   "outputs": [],
   "source": [
    "data1 = list(r.json()['OutBlock_1'][0].values())[:-1] "
   ]
  },
  {
   "cell_type": "code",
   "execution_count": 43,
   "id": "b23de484",
   "metadata": {},
   "outputs": [],
   "source": [
    "data2 = list(r.json()['OutBlock_1'][0].values())[-1].replace(\",\", \"\")"
   ]
  },
  {
   "cell_type": "code",
   "execution_count": 45,
   "id": "3a8fe6b6",
   "metadata": {},
   "outputs": [
    {
     "data": {
      "text/plain": [
       "['KR7098120009',\n",
       " '098120',\n",
       " '(주)마이크로컨텍솔루션',\n",
       " '마이크로컨텍솔',\n",
       " 'Micro Contact Solution Co.,Ltd.',\n",
       " '2008/09/23',\n",
       " 'KOSDAQ',\n",
       " '주권',\n",
       " '중견기업부',\n",
       " '보통주',\n",
       " '500',\n",
       " '8312766']"
      ]
     },
     "execution_count": 45,
     "metadata": {},
     "output_type": "execute_result"
    }
   ],
   "source": [
    "data1 + [data2]"
   ]
  },
  {
   "cell_type": "code",
   "execution_count": 46,
   "id": "3a561c0b",
   "metadata": {},
   "outputs": [
    {
     "data": {
      "text/plain": [
       "1"
      ]
     },
     "execution_count": 46,
     "metadata": {},
     "output_type": "execute_result"
    }
   ],
   "source": [
    "cur.execute(sql, data1 + [data2])"
   ]
  },
  {
   "cell_type": "code",
   "execution_count": 65,
   "id": "16ce31db",
   "metadata": {},
   "outputs": [
    {
     "data": {
      "text/plain": [
       "'500'"
      ]
     },
     "execution_count": 65,
     "metadata": {},
     "output_type": "execute_result"
    }
   ],
   "source": [
    "x['PARVAL']"
   ]
  },
  {
   "cell_type": "code",
   "execution_count": 66,
   "id": "4874e2fe",
   "metadata": {},
   "outputs": [
    {
     "name": "stdout",
     "output_type": "stream",
     "text": [
      "{'ISU_CD': 'KR8392070007', 'ISU_SRT_CD': '950110', 'ISU_NM': 'SBI핀테크솔루션즈', 'ISU_ABBRV': 'SBI핀테크솔루션즈', 'ISU_ENG_NM': 'SBI FinTech Solutions Co., Ltd.', 'LIST_DD': '2012/12/17', 'MKT_TP_NM': 'KOSDAQ', 'SECUGRP_NM': '주식예탁증권', 'SECT_TP_NM': '외국기업(소속부없음)', 'KIND_STKCERT_TP_NM': '보통주', 'PARVAL': '무액면', 'LIST_SHRS': '24,052,540'}\n",
      "{'ISU_CD': 'KR8344390008', 'ISU_SRT_CD': '950190', 'ISU_NM': '고스트스튜디오', 'ISU_ABBRV': '고스트스튜디오', 'ISU_ENG_NM': 'GHOST STUDIO', 'LIST_DD': '2020/08/18', 'MKT_TP_NM': 'KOSDAQ', 'SECUGRP_NM': '주식예탁증권', 'SECT_TP_NM': '외국기업(소속부없음)', 'KIND_STKCERT_TP_NM': '보통주', 'PARVAL': '무액면', 'LIST_SHRS': '13,017,059'}\n",
      "{'ISU_CD': 'HK0000307485', 'ISU_SRT_CD': '900290', 'ISU_NM': '그레이트리치과기유한공사', 'ISU_ABBRV': 'GRT', 'ISU_ENG_NM': 'Great Rich Technologies Limited', 'LIST_DD': '2016/10/25', 'MKT_TP_NM': 'KOSDAQ', 'SECUGRP_NM': '외국주권', 'SECT_TP_NM': '외국기업(소속부없음)', 'KIND_STKCERT_TP_NM': '보통주', 'PARVAL': '무액면', 'LIST_SHRS': '80,850,000'}\n",
      "{'ISU_CD': 'HK0000295359', 'ISU_SRT_CD': '900260', 'ISU_NM': '로스웰인터내셔널', 'ISU_ABBRV': '로스웰', 'ISU_ENG_NM': 'Rothwell International Co., Limited', 'LIST_DD': '2016/06/30', 'MKT_TP_NM': 'KOSDAQ', 'SECUGRP_NM': '외국주권', 'SECT_TP_NM': '외국기업(소속부없음)', 'KIND_STKCERT_TP_NM': '보통주', 'PARVAL': '무액면', 'LIST_SHRS': '36,031,288'}\n",
      "{'ISU_CD': 'KR7088980008', 'ISU_SRT_CD': '088980', 'ISU_NM': '맥쿼리한국인프라투융자회사 보통주', 'ISU_ABBRV': '맥쿼리인프라', 'ISU_ENG_NM': 'Macquarie Korea Infrastructure Fund', 'LIST_DD': '2006/03/15', 'MKT_TP_NM': 'KOSPI', 'SECUGRP_NM': '사회간접자본투융자회사', 'SECT_TP_NM': '', 'KIND_STKCERT_TP_NM': '보통주', 'PARVAL': '무액면', 'LIST_SHRS': '478,921,993'}\n",
      "{'ISU_CD': 'KR7094800000', 'ISU_SRT_CD': '094800', 'ISU_NM': '미래에셋맵스아시아퍼시픽부동산공모1호', 'ISU_ABBRV': '맵스리얼티1', 'ISU_ENG_NM': 'MIRAEASSETMAPS ASIAPACIFIC REAL ESTATE 1', 'LIST_DD': '2007/04/09', 'MKT_TP_NM': 'KOSPI', 'SECUGRP_NM': '투자회사', 'SECT_TP_NM': '', 'KIND_STKCERT_TP_NM': '보통주', 'PARVAL': '무액면', 'LIST_SHRS': '92,834,331'}\n",
      "{'ISU_CD': 'KR8840090003', 'ISU_SRT_CD': '950130', 'ISU_NM': '엑세스바이오', 'ISU_ABBRV': '엑세스바이오', 'ISU_ENG_NM': 'Access Bio, Inc.', 'LIST_DD': '2013/05/30', 'MKT_TP_NM': 'KOSDAQ', 'SECUGRP_NM': '주식예탁증권', 'SECT_TP_NM': '외국기업(소속부없음)', 'KIND_STKCERT_TP_NM': '보통주', 'PARVAL': '무액면', 'LIST_SHRS': '37,727,832'}\n",
      "{'ISU_CD': 'HK0000312568', 'ISU_SRT_CD': '900300', 'ISU_NM': '오가닉티코스메틱스홀딩스컴퍼니리미티드', 'ISU_ABBRV': '오가닉티코스메틱', 'ISU_ENG_NM': 'ORGANIC TEA COSMETICS HOLDINGS COMPANY LIMITED', 'LIST_DD': '2016/11/04', 'MKT_TP_NM': 'KOSDAQ', 'SECUGRP_NM': '외국주권', 'SECT_TP_NM': '외국기업(소속부없음)', 'KIND_STKCERT_TP_NM': '보통주', 'PARVAL': '무액면', 'LIST_SHRS': '96,002,224'}\n",
      "{'ISU_CD': 'HK0000449303', 'ISU_SRT_CD': '900340', 'ISU_NM': '윙입푸드홀딩스', 'ISU_ABBRV': '윙입푸드', 'ISU_ENG_NM': 'WING YIP FOOD HOLDINGS GROUP', 'LIST_DD': '2018/11/30', 'MKT_TP_NM': 'KOSDAQ', 'SECUGRP_NM': '외국주권', 'SECT_TP_NM': '외국기업(소속부없음)', 'KIND_STKCERT_TP_NM': '보통주', 'PARVAL': '무액면', 'LIST_SHRS': '50,330,928'}\n",
      "{'ISU_CD': 'HK0000057197', 'ISU_SRT_CD': '900110', 'ISU_NM': '이스트아시아홀딩스인베스트먼트리미티드', 'ISU_ABBRV': '이스트아시아홀딩스', 'ISU_ENG_NM': 'East Asia Holdings Investment Limited', 'LIST_DD': '2010/04/23', 'MKT_TP_NM': 'KOSDAQ', 'SECUGRP_NM': '외국주권', 'SECT_TP_NM': '외국기업(소속부없음)', 'KIND_STKCERT_TP_NM': '보통주', 'PARVAL': '무액면', 'LIST_SHRS': '642,650,588'}\n",
      "{'ISU_CD': 'KR8392080006', 'ISU_SRT_CD': '950170', 'ISU_NM': '제이티씨', 'ISU_ABBRV': 'JTC', 'ISU_ENG_NM': 'JTC Inc.', 'LIST_DD': '2018/04/06', 'MKT_TP_NM': 'KOSDAQ', 'SECUGRP_NM': '주식예탁증권', 'SECT_TP_NM': '외국기업(소속부없음)', 'KIND_STKCERT_TP_NM': '보통주', 'PARVAL': '무액면', 'LIST_SHRS': '51,746,348'}\n",
      "{'ISU_CD': 'HK0000341732', 'ISU_SRT_CD': '900310', 'ISU_NM': '컬러레이홀딩스', 'ISU_ABBRV': '컬러레이', 'ISU_ENG_NM': 'Coloray International Investment Co., Limited', 'LIST_DD': '2017/08/10', 'MKT_TP_NM': 'KOSDAQ', 'SECUGRP_NM': '외국주권', 'SECT_TP_NM': '외국기업(소속부없음)', 'KIND_STKCERT_TP_NM': '보통주', 'PARVAL': '무액면', 'LIST_SHRS': '64,041,675'}\n",
      "{'ISU_CD': 'KR7415640002', 'ISU_SRT_CD': '415640', 'ISU_NM': '케이비발해인프라투융자회사보통주', 'ISU_ABBRV': 'KB발해인프라', 'ISU_ENG_NM': 'KB Balhae Infrastructure Fund', 'LIST_DD': '2024/11/29', 'MKT_TP_NM': 'KOSPI', 'SECUGRP_NM': '사회간접자본투융자회사', 'SECT_TP_NM': '', 'KIND_STKCERT_TP_NM': '보통주', 'PARVAL': '무액면', 'LIST_SHRS': '122,545,548'}\n",
      "{'ISU_CD': 'KR8702070002', 'ISU_SRT_CD': '950210', 'ISU_NM': '프레스티지바이오파마KDR', 'ISU_ABBRV': '프레스티지바이오파마', 'ISU_ENG_NM': 'PRESTIGE BIOPHARMA LIMITED KDR', 'LIST_DD': '2021/02/05', 'MKT_TP_NM': 'KOSPI', 'SECUGRP_NM': '주식예탁증권', 'SECT_TP_NM': '', 'KIND_STKCERT_TP_NM': '보통주', 'PARVAL': '무액면', 'LIST_SHRS': '60,096,155'}\n",
      "{'ISU_CD': 'KR7152550000', 'ISU_SRT_CD': '152550', 'ISU_NM': '한국투자ANKOR유전해외자원개발특별자산투자회사1호(지분증권)', 'ISU_ABBRV': '한국ANKOR유전', 'ISU_ENG_NM': 'KIM ANKOR Oilfield Overseas Resources Development Fund[1]', 'LIST_DD': '2012/03/08', 'MKT_TP_NM': 'KOSPI', 'SECUGRP_NM': '투자회사', 'SECT_TP_NM': '', 'KIND_STKCERT_TP_NM': '보통주', 'PARVAL': '무액면', 'LIST_SHRS': '70,020,000'}\n",
      "{'ISU_CD': 'HK0000214814', 'ISU_SRT_CD': '900270', 'ISU_NM': '헝셩그룹유한회사', 'ISU_ABBRV': '헝셩그룹', 'ISU_ENG_NM': 'HENG SHENG GROUP COMPANY LIMITED', 'LIST_DD': '2016/08/18', 'MKT_TP_NM': 'KOSDAQ', 'SECUGRP_NM': '외국주권', 'SECT_TP_NM': '외국기업(소속부없음)', 'KIND_STKCERT_TP_NM': '보통주', 'PARVAL': '무액면', 'LIST_SHRS': '176,282,336'}\n"
     ]
    }
   ],
   "source": [
    "for x in r.json()['OutBlock_1']:\n",
    "    if x['PARVAL'].find(\"무액면\") > -1:\n",
    "        print(x)"
   ]
  },
  {
   "cell_type": "code",
   "execution_count": 51,
   "id": "fb90d1dc",
   "metadata": {},
   "outputs": [],
   "source": [
    "modify_sql = \"\"\"ALTER TABLE st_master \n",
    "MODIFY COLUMN PARVAL float default null\"\"\""
   ]
  },
  {
   "cell_type": "code",
   "execution_count": 52,
   "id": "c11e9812",
   "metadata": {},
   "outputs": [
    {
     "data": {
      "text/plain": [
       "1"
      ]
     },
     "execution_count": 52,
     "metadata": {},
     "output_type": "execute_result"
    }
   ],
   "source": [
    "cur.execute(modify_sql)"
   ]
  },
  {
   "cell_type": "code",
   "execution_count": 53,
   "id": "1fe81fc1",
   "metadata": {},
   "outputs": [
    {
     "data": {
      "text/plain": [
       "12"
      ]
     },
     "execution_count": 53,
     "metadata": {},
     "output_type": "execute_result"
    }
   ],
   "source": [
    "cur.execute('desc st_master')"
   ]
  },
  {
   "cell_type": "code",
   "execution_count": 55,
   "id": "7a4f868b",
   "metadata": {},
   "outputs": [
    {
     "data": {
      "text/plain": [
       "()"
      ]
     },
     "execution_count": 55,
     "metadata": {},
     "output_type": "execute_result"
    }
   ],
   "source": [
    "cur.fetchall()"
   ]
  },
  {
   "cell_type": "code",
   "execution_count": 74,
   "id": "4cf710cf",
   "metadata": {},
   "outputs": [],
   "source": [
    "sql = \"insert into st_master values(%s, %s, %s, %s, %s, %s, %s, %s, %s, %s, %s, %s)\"\n",
    "for x in r.json()['OutBlock_1']:\n",
    "    ISU_CD, ISU_SRT_CD, ISU_NM, ISU_ABBRV, ISU_ENG_NM, LIST_DD, MKT_TP_NM, SECUGRP_NM, SECT_TP_NM, KIND_STKCERT_TP_NM, PARVAL, LIST_SHRS = x.values()\n",
    "    LIST_SHRS = LIST_SHRS.replace(\",\", \"\")\n",
    "    PARVAL = None if PARVAL == \"무액면\" else PARVAL.replace(\",\", \"\")\n",
    "    cur.execute(sql,[ISU_CD, ISU_SRT_CD, ISU_NM, ISU_ABBRV, ISU_ENG_NM, LIST_DD, MKT_TP_NM, SECUGRP_NM, SECT_TP_NM, KIND_STKCERT_TP_NM, PARVAL, LIST_SHRS] )"
   ]
  },
  {
   "cell_type": "code",
   "execution_count": 75,
   "id": "bd6cf249",
   "metadata": {},
   "outputs": [],
   "source": [
    "conn.commit()"
   ]
  },
  {
   "cell_type": "code",
   "execution_count": 76,
   "id": "da7d63ff",
   "metadata": {},
   "outputs": [
    {
     "data": {
      "text/plain": [
       "1"
      ]
     },
     "execution_count": 76,
     "metadata": {},
     "output_type": "execute_result"
    }
   ],
   "source": [
    "cur.execute(\"SELECT COUNT(*) FROM st_master\")"
   ]
  },
  {
   "cell_type": "code",
   "execution_count": 77,
   "id": "128b7dc1",
   "metadata": {},
   "outputs": [
    {
     "data": {
      "text/plain": [
       "((2880,),)"
      ]
     },
     "execution_count": 77,
     "metadata": {},
     "output_type": "execute_result"
    }
   ],
   "source": [
    "cur.fetchall()"
   ]
  },
  {
   "cell_type": "code",
   "execution_count": 78,
   "id": "d28382a6",
   "metadata": {},
   "outputs": [
    {
     "data": {
      "text/plain": [
       "2880"
      ]
     },
     "execution_count": 78,
     "metadata": {},
     "output_type": "execute_result"
    }
   ],
   "source": [
    "r.json()['OutBlock_1'].__len__()"
   ]
  },
  {
   "cell_type": "code",
   "execution_count": 81,
   "id": "1b1ff256",
   "metadata": {},
   "outputs": [],
   "source": [
    "def get_sql(sql):\n",
    "    cur.execute(sql)\n",
    "    return cur.fetchall()"
   ]
  },
  {
   "cell_type": "code",
   "execution_count": 105,
   "id": "657fb4ae",
   "metadata": {},
   "outputs": [],
   "source": [
    "rt = get_sql(\"\"\" select * from st_master where MKT_TP_NM in ('KOSPI') order by list_dd desc \"\"\")"
   ]
  },
  {
   "cell_type": "code",
   "execution_count": null,
   "id": "ea468fcc",
   "metadata": {},
   "outputs": [
    {
     "data": {
      "text/plain": [
       "['ISU_CD',\n",
       " 'ISU_SRT_CD',\n",
       " 'ISU_NM',\n",
       " 'ISU_ABBRV',\n",
       " 'ISU_ENG_NM',\n",
       " 'LIST_DD',\n",
       " 'MKT_TP_NM',\n",
       " 'SECUGRP_NM',\n",
       " 'SECT_TP_NM',\n",
       " 'KIND_STKCERT_TP_NM',\n",
       " 'PARVAL',\n",
       " 'IST_SHRS']"
      ]
     },
     "execution_count": 111,
     "metadata": {},
     "output_type": "execute_result"
    }
   ],
   "source": []
  },
  {
   "cell_type": "code",
   "execution_count": 112,
   "id": "11a458b2",
   "metadata": {},
   "outputs": [
    {
     "data": {
      "text/html": [
       "<div>\n",
       "<style scoped>\n",
       "    .dataframe tbody tr th:only-of-type {\n",
       "        vertical-align: middle;\n",
       "    }\n",
       "\n",
       "    .dataframe tbody tr th {\n",
       "        vertical-align: top;\n",
       "    }\n",
       "\n",
       "    .dataframe thead th {\n",
       "        text-align: right;\n",
       "    }\n",
       "</style>\n",
       "<table border=\"1\" class=\"dataframe\">\n",
       "  <thead>\n",
       "    <tr style=\"text-align: right;\">\n",
       "      <th></th>\n",
       "      <th>ISU_CD</th>\n",
       "      <th>ISU_SRT_CD</th>\n",
       "      <th>ISU_NM</th>\n",
       "      <th>ISU_ABBRV</th>\n",
       "      <th>ISU_ENG_NM</th>\n",
       "      <th>LIST_DD</th>\n",
       "      <th>MKT_TP_NM</th>\n",
       "      <th>SECUGRP_NM</th>\n",
       "      <th>SECT_TP_NM</th>\n",
       "      <th>KIND_STKCERT_TP_NM</th>\n",
       "      <th>PARVAL</th>\n",
       "      <th>IST_SHRS</th>\n",
       "    </tr>\n",
       "  </thead>\n",
       "  <tbody>\n",
       "    <tr>\n",
       "      <th>0</th>\n",
       "      <td>KR7483650008</td>\n",
       "      <td>483650</td>\n",
       "      <td>달바글로벌보통주</td>\n",
       "      <td>달바글로벌</td>\n",
       "      <td>d'Alba Global</td>\n",
       "      <td>2025-05-22</td>\n",
       "      <td>KOSPI</td>\n",
       "      <td>주권</td>\n",
       "      <td></td>\n",
       "      <td>보통주</td>\n",
       "      <td>100.0</td>\n",
       "      <td>12069665</td>\n",
       "    </tr>\n",
       "    <tr>\n",
       "      <th>1</th>\n",
       "      <td>KR7480370006</td>\n",
       "      <td>480370</td>\n",
       "      <td>씨케이솔루션보통주</td>\n",
       "      <td>씨케이솔루션</td>\n",
       "      <td>CK Solution</td>\n",
       "      <td>2025-03-17</td>\n",
       "      <td>KOSPI</td>\n",
       "      <td>주권</td>\n",
       "      <td></td>\n",
       "      <td>보통주</td>\n",
       "      <td>100.0</td>\n",
       "      <td>10934861</td>\n",
       "    </tr>\n",
       "    <tr>\n",
       "      <th>2</th>\n",
       "      <td>KR7031210008</td>\n",
       "      <td>031210</td>\n",
       "      <td>서울보증보험보통주</td>\n",
       "      <td>서울보증보험</td>\n",
       "      <td>Seoul Guarantee Insurance Company</td>\n",
       "      <td>2025-03-14</td>\n",
       "      <td>KOSPI</td>\n",
       "      <td>주권</td>\n",
       "      <td></td>\n",
       "      <td>보통주</td>\n",
       "      <td>2500.0</td>\n",
       "      <td>69821598</td>\n",
       "    </tr>\n",
       "    <tr>\n",
       "      <th>3</th>\n",
       "      <td>KR7064400005</td>\n",
       "      <td>064400</td>\n",
       "      <td>엘지씨엔에스보통주</td>\n",
       "      <td>LG씨엔에스</td>\n",
       "      <td>LG CNS</td>\n",
       "      <td>2025-02-05</td>\n",
       "      <td>KOSPI</td>\n",
       "      <td>주권</td>\n",
       "      <td></td>\n",
       "      <td>보통주</td>\n",
       "      <td>500.0</td>\n",
       "      <td>96885948</td>\n",
       "    </tr>\n",
       "    <tr>\n",
       "      <th>4</th>\n",
       "      <td>KR7499790004</td>\n",
       "      <td>499790</td>\n",
       "      <td>지에스피앤엘보통주</td>\n",
       "      <td>GS피앤엘</td>\n",
       "      <td>GS P&amp;L</td>\n",
       "      <td>2024-12-23</td>\n",
       "      <td>KOSPI</td>\n",
       "      <td>주권</td>\n",
       "      <td></td>\n",
       "      <td>보통주</td>\n",
       "      <td>1000.0</td>\n",
       "      <td>19830841</td>\n",
       "    </tr>\n",
       "    <tr>\n",
       "      <th>...</th>\n",
       "      <td>...</td>\n",
       "      <td>...</td>\n",
       "      <td>...</td>\n",
       "      <td>...</td>\n",
       "      <td>...</td>\n",
       "      <td>...</td>\n",
       "      <td>...</td>\n",
       "      <td>...</td>\n",
       "      <td>...</td>\n",
       "      <td>...</td>\n",
       "      <td>...</td>\n",
       "      <td>...</td>\n",
       "    </tr>\n",
       "    <tr>\n",
       "      <th>957</th>\n",
       "      <td>KR7000100008</td>\n",
       "      <td>000100</td>\n",
       "      <td>유한양행보통주</td>\n",
       "      <td>유한양행</td>\n",
       "      <td>Yuhan</td>\n",
       "      <td>1962-11-01</td>\n",
       "      <td>KOSPI</td>\n",
       "      <td>주권</td>\n",
       "      <td></td>\n",
       "      <td>보통주</td>\n",
       "      <td>1000.0</td>\n",
       "      <td>80209064</td>\n",
       "    </tr>\n",
       "    <tr>\n",
       "      <th>958</th>\n",
       "      <td>KR7000120006</td>\n",
       "      <td>000120</td>\n",
       "      <td>씨제이대한통운보통주</td>\n",
       "      <td>CJ대한통운</td>\n",
       "      <td>CJ LOGISTICS</td>\n",
       "      <td>1956-07-02</td>\n",
       "      <td>KOSPI</td>\n",
       "      <td>주권</td>\n",
       "      <td></td>\n",
       "      <td>보통주</td>\n",
       "      <td>5000.0</td>\n",
       "      <td>22812344</td>\n",
       "    </tr>\n",
       "    <tr>\n",
       "      <th>959</th>\n",
       "      <td>KR7000050005</td>\n",
       "      <td>000050</td>\n",
       "      <td>경방보통주</td>\n",
       "      <td>경방</td>\n",
       "      <td>Kyungbang</td>\n",
       "      <td>1956-03-03</td>\n",
       "      <td>KOSPI</td>\n",
       "      <td>주권</td>\n",
       "      <td></td>\n",
       "      <td>보통주</td>\n",
       "      <td>500.0</td>\n",
       "      <td>27415270</td>\n",
       "    </tr>\n",
       "    <tr>\n",
       "      <th>960</th>\n",
       "      <td>KR7000700005</td>\n",
       "      <td>000700</td>\n",
       "      <td>유수홀딩스보통주</td>\n",
       "      <td>유수홀딩스</td>\n",
       "      <td>EUSU HOLDINGS</td>\n",
       "      <td>1956-03-03</td>\n",
       "      <td>KOSPI</td>\n",
       "      <td>주권</td>\n",
       "      <td></td>\n",
       "      <td>보통주</td>\n",
       "      <td>2500.0</td>\n",
       "      <td>26041812</td>\n",
       "    </tr>\n",
       "    <tr>\n",
       "      <th>961</th>\n",
       "      <td>KR7003480001</td>\n",
       "      <td>003480</td>\n",
       "      <td>한진중공업홀딩스보통주</td>\n",
       "      <td>한진중공업홀딩스</td>\n",
       "      <td>HanjinHeavyInd&amp;ConstHoldings</td>\n",
       "      <td>1956-03-03</td>\n",
       "      <td>KOSPI</td>\n",
       "      <td>주권</td>\n",
       "      <td></td>\n",
       "      <td>보통주</td>\n",
       "      <td>5000.0</td>\n",
       "      <td>29529812</td>\n",
       "    </tr>\n",
       "  </tbody>\n",
       "</table>\n",
       "<p>962 rows × 12 columns</p>\n",
       "</div>"
      ],
      "text/plain": [
       "           ISU_CD ISU_SRT_CD       ISU_NM ISU_ABBRV  \\\n",
       "0    KR7483650008     483650     달바글로벌보통주     달바글로벌   \n",
       "1    KR7480370006     480370    씨케이솔루션보통주    씨케이솔루션   \n",
       "2    KR7031210008     031210    서울보증보험보통주    서울보증보험   \n",
       "3    KR7064400005     064400    엘지씨엔에스보통주    LG씨엔에스   \n",
       "4    KR7499790004     499790    지에스피앤엘보통주     GS피앤엘   \n",
       "..            ...        ...          ...       ...   \n",
       "957  KR7000100008     000100      유한양행보통주      유한양행   \n",
       "958  KR7000120006     000120   씨제이대한통운보통주    CJ대한통운   \n",
       "959  KR7000050005     000050        경방보통주        경방   \n",
       "960  KR7000700005     000700     유수홀딩스보통주     유수홀딩스   \n",
       "961  KR7003480001     003480  한진중공업홀딩스보통주  한진중공업홀딩스   \n",
       "\n",
       "                            ISU_ENG_NM     LIST_DD MKT_TP_NM SECUGRP_NM  \\\n",
       "0                        d'Alba Global  2025-05-22     KOSPI         주권   \n",
       "1                          CK Solution  2025-03-17     KOSPI         주권   \n",
       "2    Seoul Guarantee Insurance Company  2025-03-14     KOSPI         주권   \n",
       "3                               LG CNS  2025-02-05     KOSPI         주권   \n",
       "4                               GS P&L  2024-12-23     KOSPI         주권   \n",
       "..                                 ...         ...       ...        ...   \n",
       "957                              Yuhan  1962-11-01     KOSPI         주권   \n",
       "958                       CJ LOGISTICS  1956-07-02     KOSPI         주권   \n",
       "959                          Kyungbang  1956-03-03     KOSPI         주권   \n",
       "960                      EUSU HOLDINGS  1956-03-03     KOSPI         주권   \n",
       "961       HanjinHeavyInd&ConstHoldings  1956-03-03     KOSPI         주권   \n",
       "\n",
       "    SECT_TP_NM KIND_STKCERT_TP_NM  PARVAL  IST_SHRS  \n",
       "0                             보통주   100.0  12069665  \n",
       "1                             보통주   100.0  10934861  \n",
       "2                             보통주  2500.0  69821598  \n",
       "3                             보통주   500.0  96885948  \n",
       "4                             보통주  1000.0  19830841  \n",
       "..         ...                ...     ...       ...  \n",
       "957                           보통주  1000.0  80209064  \n",
       "958                           보통주  5000.0  22812344  \n",
       "959                           보통주   500.0  27415270  \n",
       "960                           보통주  2500.0  26041812  \n",
       "961                           보통주  5000.0  29529812  \n",
       "\n",
       "[962 rows x 12 columns]"
      ]
     },
     "execution_count": 112,
     "metadata": {},
     "output_type": "execute_result"
    }
   ],
   "source": [
    "import pandas as pd\n",
    "pd.DataFrame(rt, columns=[x[0] for x in get_sql(\"desc st_master\")])"
   ]
  },
  {
   "cell_type": "code",
   "execution_count": 96,
   "id": "6a94dfc9",
   "metadata": {},
   "outputs": [],
   "source": [
    "def get_stock(code, s_date, e_date):\n",
    "    \"\"\"\n",
    "    code : 종목코드 \n",
    "    s_date : 시작날짜 \n",
    "    e_date : 종료날짜\n",
    "    \"\"\"\n",
    "    data = eval(requests.get(f\"https://m.stock.naver.com/front-api/external/chart/domestic/info?symbol={code}&requestType=1&startTime={s_date}&endTime={e_date}&timeframe=day\").text.strip())\n",
    "    sql = \"insert into  naver_day_stock values (%s,%s,%s,%s,%s,%s,%s)\"\n",
    "    for x in data[1:]:\n",
    "        try:\n",
    "            cur.execute(sql, [code]  + x[:-1])\n",
    "        except Exception as e:\n",
    "            print(e)\n",
    "    conn.commit()"
   ]
  },
  {
   "cell_type": "code",
   "execution_count": null,
   "id": "97af6385",
   "metadata": {},
   "outputs": [
    {
     "name": "stdout",
     "output_type": "stream",
     "text": [
      "483650\n"
     ]
    }
   ],
   "source": [
    "for x in rt:\n",
    "    get_stock(x[0])\n",
    "    break"
   ]
  }
 ],
 "metadata": {
  "kernelspec": {
   "display_name": "base",
   "language": "python",
   "name": "python3"
  },
  "language_info": {
   "codemirror_mode": {
    "name": "ipython",
    "version": 3
   },
   "file_extension": ".py",
   "mimetype": "text/x-python",
   "name": "python",
   "nbconvert_exporter": "python",
   "pygments_lexer": "ipython3",
   "version": "3.10.16"
  }
 },
 "nbformat": 4,
 "nbformat_minor": 5
}
