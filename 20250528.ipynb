{
 "cells": [
  {
   "cell_type": "code",
   "execution_count": 1,
   "id": "102311c6",
   "metadata": {},
   "outputs": [
    {
     "name": "stdout",
     "output_type": "stream",
     "text": [
      "1.0\n",
      "2.7182818284590455\n",
      "2.7182818284590455\n",
      "2.7182818284590455\n",
      "2.7182818284590455\n",
      "2.7182818284590455\n",
      "2.7182818284590455\n",
      "2.7182818284590455\n",
      "2.7182818284590455\n",
      "2.7182818284590455\n"
     ]
    }
   ],
   "source": [
    "import math\n",
    "e=0\n",
    "for x in range(1000):\n",
    "    t=1/math.factorial(x)\n",
    "    e+=t\n",
    "    if x%100==0:\n",
    "        print(e)\n",
    "\n"
   ]
  },
  {
   "cell_type": "code",
   "execution_count": 2,
   "id": "5f3b5463",
   "metadata": {},
   "outputs": [],
   "source": [
    "import logging\n",
    "import logging\n",
    "import datetime # 예제용\n",
    "logger = logging.getLogger(__name__)\n",
    "\n",
    "\n",
    "def main():\n",
    "    # logging.basicConfig(filename='myapp.log', level=logging.INFO)\n",
    "    # 로깅 기본 설정 (스크립트 시작 시 한 번만 호출)\n",
    "    log_format = '%(asctime)s - %(levelname)s - %(name)s - %(message)s'\n",
    "    log_datefmt = '%Y-%m-%d %H:%M:%S' # 예: 2025-04-22 10:07:49\n",
    "\n",
    "\n",
    "    logging.basicConfig(filename='myapp.log',  level=logging.INFO, # INFO 레벨 이상만 기록\n",
    "                        format=log_format,\n",
    "                        datefmt=log_datefmt)\n",
    "    logger.info('Started')\n",
    "    logger.info('Finished')\n",
    "\n",
    "\n",
    "if __name__ == '__main__':\n",
    "    main()\n",
    "    # 이제 로깅 함수 사용 가능\n",
    "    logging.debug(\"상세 디버깅 정보입니다. (INFO 레벨 설정 시 출력 안 됨)\")\n",
    "    logging.info(\"프로그램이 시작되었습니다. (위치: Seoul)\") # 위치 정보 활용\n",
    "    logging.warning(\"설정 파일 (~/config.ini)을 찾을 수 없어 기본값을 사용합니다.\")\n",
    "    logging.error(\"데이터베이스 연결에 실패했습니다.\")\n",
    "    logging.critical(\"시스템의 주요 구성 요소가 작동하지 않습니다!\")"
   ]
  },
  {
   "cell_type": "code",
   "execution_count": null,
   "id": "3bbe2e89",
   "metadata": {},
   "outputs": [],
   "source": []
  },
  {
   "cell_type": "code",
   "execution_count": null,
   "id": "1d166df4",
   "metadata": {},
   "outputs": [],
   "source": []
  }
 ],
 "metadata": {
  "kernelspec": {
   "display_name": "streamlit",
   "language": "python",
   "name": "python3"
  },
  "language_info": {
   "codemirror_mode": {
    "name": "ipython",
    "version": 3
   },
   "file_extension": ".py",
   "mimetype": "text/x-python",
   "name": "python",
   "nbconvert_exporter": "python",
   "pygments_lexer": "ipython3",
   "version": "3.9.21"
  }
 },
 "nbformat": 4,
 "nbformat_minor": 5
}
