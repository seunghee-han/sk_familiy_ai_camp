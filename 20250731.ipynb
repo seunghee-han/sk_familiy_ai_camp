{
 "cells": [
  {
   "cell_type": "code",
   "execution_count": null,
   "id": "9d422f59",
   "metadata": {},
   "outputs": [],
   "source": [
    "from langchain_openai import OpenAIEmbeddings\n",
    "\n",
    "embeddings = OpenAIEmbeddings(model=\"text-embedding-3-small\") "
   ]
  },
  {
   "cell_type": "code",
   "execution_count": 19,
   "id": "46b83640",
   "metadata": {},
   "outputs": [],
   "source": [
    "text = \"임베딩 테스트를 하기 위한 샘플 문장입니다.\""
   ]
  },
  {
   "cell_type": "code",
   "execution_count": 20,
   "id": "f982fcf3",
   "metadata": {},
   "outputs": [],
   "source": [
    "query_result = embeddings.embed_query(text)\n"
   ]
  },
  {
   "cell_type": "code",
   "execution_count": 22,
   "id": "35fcb9e3",
   "metadata": {},
   "outputs": [
    {
     "data": {
      "text/plain": [
       "1536"
      ]
     },
     "execution_count": 22,
     "metadata": {},
     "output_type": "execute_result"
    }
   ],
   "source": [
    "query_result.__len__()"
   ]
  },
  {
   "cell_type": "code",
   "execution_count": 23,
   "id": "f921463b",
   "metadata": {},
   "outputs": [],
   "source": [
    "doc_result = embeddings.embed_documents([text, text, text, text])\n"
   ]
  },
  {
   "cell_type": "code",
   "execution_count": 25,
   "id": "a4c80b3e",
   "metadata": {},
   "outputs": [
    {
     "data": {
      "text/plain": [
       "4"
      ]
     },
     "execution_count": 25,
     "metadata": {},
     "output_type": "execute_result"
    }
   ],
   "source": [
    "doc_result.__len__()"
   ]
  },
  {
   "cell_type": "code",
   "execution_count": 37,
   "id": "0e0d5bb9",
   "metadata": {},
   "outputs": [],
   "source": [
    "embeddings_1024 = OpenAIEmbeddings(model=\"text-embedding-3-small\", dimensions=1024)\n",
    "embeddings_original = OpenAIEmbeddings(model=\"text-embedding-3-small\")"
   ]
  },
  {
   "cell_type": "code",
   "execution_count": 39,
   "id": "0cb51ae6",
   "metadata": {},
   "outputs": [],
   "source": [
    "len_1024 = embeddings_1024.embed_documents([text])\n",
    "len_original = embeddings_original.embed_documents([text])"
   ]
  },
  {
   "cell_type": "code",
   "execution_count": 44,
   "id": "c2700c5f",
   "metadata": {},
   "outputs": [
    {
     "name": "stdout",
     "output_type": "stream",
     "text": [
      "1024\n",
      "1536\n"
     ]
    }
   ],
   "source": [
    "print(len(len_1024[0]))\n",
    "print(len(len_original[0]))\n"
   ]
  },
  {
   "cell_type": "code",
   "execution_count": 48,
   "id": "318aad65",
   "metadata": {},
   "outputs": [],
   "source": [
    "from sklearn.metrics.pairwise import cosine_similarity"
   ]
  },
  {
   "cell_type": "code",
   "execution_count": 49,
   "id": "0cb6f44f",
   "metadata": {},
   "outputs": [],
   "source": [
    "sentence1 = \"안녕하세요? 반갑습니다.\"\n",
    "sentence2 = \"안녕하세요? 반갑습니다!\"\n",
    "sentence3 = \"안녕하세요? 만나서 반가워요.\"\n",
    "sentence4 = \"Hi, nice to meet you.\"\n",
    "sentence5 = \"I like to eat apples.\""
   ]
  },
  {
   "cell_type": "code",
   "execution_count": 50,
   "id": "590c4e19",
   "metadata": {},
   "outputs": [],
   "source": [
    "def similarity(a, b):\n",
    "    return cosine_similarity([a], [b]) #"
   ]
  },
  {
   "cell_type": "code",
   "execution_count": 54,
   "id": "2be9915e",
   "metadata": {},
   "outputs": [
    {
     "name": "stdout",
     "output_type": "stream",
     "text": [
      "\n",
      "--- 유사도 계산 결과 ---\n",
      "[유사도 [[0.96385287]]] 안녕하세요? 반갑습니다. <=====> 안녕하세요? 반갑습니다!\n",
      "[유사도 [[0.84051826]]] 안녕하세요? 반갑습니다. <=====> 안녕하세요? 만나서 반가워요.\n",
      "[유사도 [[0.50550912]]] 안녕하세요? 반갑습니다. <=====> Hi, nice to meet you.\n",
      "[유사도 [[0.1379314]]] 안녕하세요? 반갑습니다. <=====> I like to eat apples.\n",
      "[유사도 [[0.81426825]]] 안녕하세요? 반갑습니다! <=====> 안녕하세요? 만나서 반가워요.\n",
      "[유사도 [[0.47912312]]] 안녕하세요? 반갑습니다! <=====> Hi, nice to meet you.\n",
      "[유사도 [[0.13176721]]] 안녕하세요? 반갑습니다! <=====> I like to eat apples.\n",
      "[유사도 [[0.5127969]]] 안녕하세요? 만나서 반가워요. <=====> Hi, nice to meet you.\n",
      "[유사도 [[0.14082015]]] 안녕하세요? 만나서 반가워요. <=====> I like to eat apples.\n",
      "[유사도 [[0.22497038]]] Hi, nice to meet you. <=====> I like to eat apples.\n"
     ]
    }
   ],
   "source": [
    "sentences = [sentence1, sentence2, sentence3, sentence4, sentence5] #\n",
    "\n",
    "embedded_sentences = embeddings_1024.embed_documents(sentences) #\n",
    "print(\"\\n--- 유사도 계산 결과 ---\")\n",
    "for i, sentence_i in enumerate(embedded_sentences): #\n",
    "    for j, other_sentence_j in enumerate(embedded_sentences): #\n",
    "        if i < j: #\n",
    "            print(f\"[유사도 {similarity(sentence_i, other_sentence_j)}] {sentences[i]} <=====> {sentences[j]}\") #"
   ]
  },
  {
   "cell_type": "code",
   "execution_count": 53,
   "id": "f8edf78c",
   "metadata": {},
   "outputs": [
    {
     "data": {
      "text/plain": [
       "5"
      ]
     },
     "execution_count": 53,
     "metadata": {},
     "output_type": "execute_result"
    }
   ],
   "source": [
    "embedded_sentences.__len__()"
   ]
  },
  {
   "cell_type": "code",
   "execution_count": 55,
   "id": "885268a7",
   "metadata": {},
   "outputs": [],
   "source": [
    "from langchain.storage import LocalFileStore\n",
    "from langchain_openai import OpenAIEmbeddings\n",
    "from langchain.embeddings import CacheBackedEmbeddings\n",
    "from langchain_community.vectorstores.faiss import FAISS\n",
    "from langchain_community.document_loaders import TextLoader\n",
    "from langchain_text_splitters import CharacterTextSplitter"
   ]
  },
  {
   "cell_type": "code",
   "execution_count": 56,
   "id": "16e4283d",
   "metadata": {},
   "outputs": [],
   "source": [
    "embedding = OpenAIEmbeddings()"
   ]
  },
  {
   "cell_type": "code",
   "execution_count": 66,
   "id": "805eb1aa",
   "metadata": {},
   "outputs": [
    {
     "name": "stdout",
     "output_type": "stream",
     "text": [
      "/home/play/workspace\n"
     ]
    }
   ],
   "source": [
    "!pwd"
   ]
  },
  {
   "cell_type": "code",
   "execution_count": 57,
   "id": "79d18342",
   "metadata": {},
   "outputs": [],
   "source": [
    "store = LocalFileStore(\"./cache/\")"
   ]
  },
  {
   "cell_type": "code",
   "execution_count": 58,
   "id": "dd007440",
   "metadata": {},
   "outputs": [
    {
     "name": "stderr",
     "output_type": "stream",
     "text": [
      "/home/play/miniconda3/envs/openai/lib/python3.12/site-packages/langchain/embeddings/cache.py:58: UserWarning: Using default key encoder: SHA‑1 is *not* collision‑resistant. While acceptable for most cache scenarios, a motivated attacker can craft two different payloads that map to the same cache key. If that risk matters in your environment, supply a stronger encoder (e.g. SHA‑256 or BLAKE2) via the `key_encoder` argument. If you change the key encoder, consider also creating a new cache, to avoid (the potential for) collisions with existing keys.\n",
      "  _warn_about_sha1_encoder()\n"
     ]
    }
   ],
   "source": [
    "cached_embedder = CacheBackedEmbeddings.from_bytes_store(\n",
    "    underlying_embeddings=embedding, # 기본 임베딩 모델 지정\n",
    "    document_embedding_cache=store, # 로컬 저장소 지정\n",
    "    namespace=embedding.model, # 임베딩 값 구분자 (생략 가능)\n",
    ")"
   ]
  },
  {
   "cell_type": "code",
   "execution_count": 59,
   "id": "dc480186",
   "metadata": {},
   "outputs": [
    {
     "name": "stdout",
     "output_type": "stream",
     "text": [
      "초기 캐시 키: []\n"
     ]
    }
   ],
   "source": [
    "print(f\"초기 캐시 키: {list(store.yield_keys())}\")"
   ]
  },
  {
   "cell_type": "code",
   "execution_count": 60,
   "id": "23a25481",
   "metadata": {},
   "outputs": [
    {
     "name": "stderr",
     "output_type": "stream",
     "text": [
      "/tmp/ipykernel_193775/3071541522.py:4: LangChainDeprecationWarning: The class `UnstructuredFileLoader` was deprecated in LangChain 0.2.8 and will be removed in 1.0. An updated version of the class exists in the :class:`~langchain-unstructured package and should be used instead. To use it run `pip install -U :class:`~langchain-unstructured` and import as `from :class:`~langchain_unstructured import UnstructuredLoader``.\n",
      "  loader = UnstructuredFileLoader(\"./data/ADsP - 정리.docx\")\n"
     ]
    }
   ],
   "source": [
    "from langchain_community.document_loaders import UnstructuredFileLoader\n",
    "from langchain.text_splitter import RecursiveCharacterTextSplitter\n",
    "\n",
    "loader = UnstructuredFileLoader(\"./data/ADsP - 정리.docx\")\n",
    "documents = loader.load()\n",
    "text_splitter = RecursiveCharacterTextSplitter(chunk_size=1000, chunk_overlap=200) \n"
   ]
  },
  {
   "cell_type": "code",
   "execution_count": null,
   "id": "1c83695d",
   "metadata": {},
   "outputs": [],
   "source": [
    "documents_spliter = text_splitter.split_documents(documents) #"
   ]
  },
  {
   "cell_type": "code",
   "execution_count": 63,
   "id": "2858b71b",
   "metadata": {},
   "outputs": [
    {
     "name": "stdout",
     "output_type": "stream",
     "text": [
      "CPU times: user 83.4 ms, sys: 11.8 ms, total: 95.1 ms\n",
      "Wall time: 2.02 s\n"
     ]
    }
   ],
   "source": [
    "%time db = FAISS.from_documents(documents_spliter, cached_embedder)"
   ]
  },
  {
   "cell_type": "code",
   "execution_count": 64,
   "id": "d4750aac",
   "metadata": {},
   "outputs": [
    {
     "name": "stdout",
     "output_type": "stream",
     "text": [
      "CPU times: user 11 ms, sys: 5.55 ms, total: 16.5 ms\n",
      "Wall time: 15.9 ms\n"
     ]
    }
   ],
   "source": [
    "%time db2 = FAISS.from_documents(documents_spliter, cached_embedder) #\n"
   ]
  },
  {
   "cell_type": "code",
   "execution_count": null,
   "id": "3cfe269b",
   "metadata": {},
   "outputs": [],
   "source": []
  }
 ],
 "metadata": {
  "kernelspec": {
   "display_name": "openai",
   "language": "python",
   "name": "python3"
  },
  "language_info": {
   "codemirror_mode": {
    "name": "ipython",
    "version": 3
   },
   "file_extension": ".py",
   "mimetype": "text/x-python",
   "name": "python",
   "nbconvert_exporter": "python",
   "pygments_lexer": "ipython3",
   "version": "3.12.11"
  }
 },
 "nbformat": 4,
 "nbformat_minor": 5
}
