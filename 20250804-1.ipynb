{
 "cells": [
  {
   "cell_type": "code",
   "execution_count": null,
   "id": "8715a69a",
   "metadata": {},
   "outputs": [],
   "source": [
    "from operator import itemgetter\n",
    "\n",
    "my_list = ['a', 'b', 'c', 'd']\n",
    "my_dict = {'name' : 'Alice', 'age' : 30}"
   ]
  },
  {
   "cell_type": "code",
   "execution_count": 8,
   "id": "3d6d8f6e",
   "metadata": {},
   "outputs": [],
   "source": [
    "get_index_1 = itemgetter(1)"
   ]
  },
  {
   "cell_type": "code",
   "execution_count": 9,
   "id": "84f579f4",
   "metadata": {},
   "outputs": [
    {
     "data": {
      "text/plain": [
       "'b'"
      ]
     },
     "execution_count": 9,
     "metadata": {},
     "output_type": "execute_result"
    }
   ],
   "source": [
    "get_index_1(my_list)"
   ]
  },
  {
   "cell_type": "code",
   "execution_count": 10,
   "id": "603c8686",
   "metadata": {},
   "outputs": [],
   "source": [
    "get_age = itemgetter('age')"
   ]
  },
  {
   "cell_type": "code",
   "execution_count": 11,
   "id": "f4dc4faa",
   "metadata": {},
   "outputs": [
    {
     "data": {
      "text/plain": [
       "30"
      ]
     },
     "execution_count": 11,
     "metadata": {},
     "output_type": "execute_result"
    }
   ],
   "source": [
    "get_age(my_dict)"
   ]
  },
  {
   "cell_type": "code",
   "execution_count": 13,
   "id": "686ab8d6",
   "metadata": {},
   "outputs": [],
   "source": [
    "getter = itemgetter(my_dict)"
   ]
  },
  {
   "cell_type": "code",
   "execution_count": 14,
   "id": "28f72b66",
   "metadata": {},
   "outputs": [
    {
     "data": {
      "text/plain": [
       "operator.itemgetter({'name': 'Alice', 'age': 30})"
      ]
     },
     "execution_count": 14,
     "metadata": {},
     "output_type": "execute_result"
    }
   ],
   "source": [
    "getter"
   ]
  },
  {
   "cell_type": "code",
   "execution_count": 18,
   "id": "32cfd837",
   "metadata": {},
   "outputs": [
    {
     "name": "stdout",
     "output_type": "stream",
     "text": [
      "010-9999-4567\n"
     ]
    }
   ],
   "source": [
    "import re \n",
    "\n",
    "text = \"안녕하세요! 제 번호는 010-9999-4567 입니다.\"\n",
    "match = re.search(r\"(\\d{3}-\\d{4}-\\d{4})\", text)\n",
    "if match:\n",
    "    phone_number = match.group(1)\n",
    "    print(phone_number)"
   ]
  },
  {
   "cell_type": "code",
   "execution_count": 20,
   "id": "2acecb74",
   "metadata": {},
   "outputs": [
    {
     "name": "stdout",
     "output_type": "stream",
     "text": [
      "010-9999-4567\n"
     ]
    }
   ],
   "source": [
    "import re \n",
    "text = \"안녕하세요! 제 번호는 010-9999-4567 입니다.\"\n",
    "\n",
    "if match :=  re.search(r\"(\\d{3}-\\d{4}-\\d{4})\", text):\n",
    "    phone_number = match.group(1)\n",
    "    print(phone_number)"
   ]
  },
  {
   "cell_type": "code",
   "execution_count": 21,
   "id": "d5852133",
   "metadata": {},
   "outputs": [],
   "source": [
    "from langchain_core.output_parsers import StrOutputParser\n",
    "from langchain_core.prompts import ChatPromptTemplate\n",
    "from langchain_openai import ChatOpenAI"
   ]
  },
  {
   "cell_type": "code",
   "execution_count": 23,
   "id": "3b3cd300",
   "metadata": {},
   "outputs": [],
   "source": [
    "prompt = ChatPromptTemplate.from_messages(\n",
    "    [\n",
    "        (\"system\", \"사용자 입력한 요리의 레시피를 생각하세요\"),\n",
    "        (\"human\", \"{dish}\")\n",
    "    ]\n",
    ")"
   ]
  },
  {
   "cell_type": "code",
   "execution_count": 27,
   "id": "bea7d240",
   "metadata": {},
   "outputs": [],
   "source": [
    "model = ChatOpenAI(model='gpt-4o-mini', temperature=0)"
   ]
  },
  {
   "cell_type": "code",
   "execution_count": 28,
   "id": "d7ea9506",
   "metadata": {},
   "outputs": [],
   "source": [
    "chain = prompt | model | StrOutputParser()"
   ]
  },
  {
   "cell_type": "code",
   "execution_count": 29,
   "id": "5d5bba9f",
   "metadata": {},
   "outputs": [
    {
     "data": {
      "text/plain": [
       "'라면은 간편하게 만들 수 있는 인기 있는 한국의 면 요리입니다. 기본적인 라면 레시피를 소개할게요.\\n\\n### 재료\\n- 라면 1봉지\\n- 물 550ml (약 2컵 반)\\n- 스프 (라면 봉지에 포함된 것)\\n- 선택 재료 (선택 사항):\\n  - 계란 1개\\n  - 대파 (썰어서)\\n  - 김치\\n  - 채소 (시금치, 버섯 등)\\n  - 고추 (매운맛을 원할 경우)\\n\\n### 조리 방법\\n1. **물 끓이기**: 냄비에 물 550ml를 붓고 중불에서 끓입니다.\\n2. **면 넣기**: 물이 끓기 시작하면 라면 면을 넣습니다. 면이 풀어질 때까지 약 2-3분 정도 끓입니다.\\n3. **스프 추가**: 면이 익어가면 라면 봉지에 포함된 스프를 넣고 잘 저어줍니다.\\n4. **선택 재료 추가**: \\n   - 계란을 넣고 싶다면, 면이 거의 다 익었을 때 계란을 깨서 넣고 저어줍니다.\\n   - 대파, 김치, 채소 등을 추가하고 1-2분 더 끓입니다.\\n5. **완성**: 모든 재료가 잘 섞이고 익으면 불을 끄고 그릇에 담아냅니다. 원한다면 고추를 추가해 매운맛을 조절하세요.\\n\\n### 팁\\n- 라면의 국물 맛을 더 깊게 하고 싶다면, 멸치나 다시마로 육수를 내서 물 대신 사용해도 좋습니다.\\n- 다양한 토핑을 추가하여 나만의 라면을 만들어 보세요!\\n\\n맛있게 드세요!'"
      ]
     },
     "execution_count": 29,
     "metadata": {},
     "output_type": "execute_result"
    }
   ],
   "source": [
    "chain.invoke({'dish':'라면'})"
   ]
  },
  {
   "cell_type": "code",
   "execution_count": 31,
   "id": "f5e77ce4",
   "metadata": {},
   "outputs": [
    {
     "name": "stdout",
     "output_type": "stream",
     "text": [
      "마라탕은 중국 사천 지방의 매운 국물 요리로, 다양한 재료를 넣어 즐길 수 있는 요리입니다. 아래는 마라탕의 기본 레시피입니다.\n",
      "\n",
      "### 재료\n",
      "- **육수 재료:**\n",
      "  - 물 1.5리터\n",
      "  - 닭뼈 또는 소고기 뼈 300g (선택 사항)\n",
      "  - 생강 1조각\n",
      "  - 파 1대\n",
      "  - 마늘 3쪽\n",
      "\n",
      "- **양념:**\n",
      "  - 고추기름 3큰술\n",
      "  - 두반장 1큰술\n",
      "  - 마라 소스 (마라 향신료) 1큰술\n",
      "  - 소금, 후추 적당량\n",
      "\n",
      "- **주재료:**\n",
      "  - 원하는 채소 (버섯, 청경채, 브로콜리, 당근 등)\n",
      "  - 면 (중국식 면 또는 우동면)\n",
      "  - 두부 (부드러운 두부 또는 튀긴 두부)\n",
      "  - 고기 (소고기, 닭고기, 양고기 등, 얇게 썬 것)\n",
      "  - 기타 (어묵, 새우, 오징어 등)\n",
      "\n",
      "### 조리 방법\n",
      "1. **육수 만들기:**\n",
      "   - 큰 냄비에 물을 붓고, 닭뼈 또는 소고기 뼈, 생강, 파, 마늘을 넣고 끓입니다.\n",
      "   - 끓기 시작하면 중불로 줄이고 30분 정도 끓여 육수를 우려냅니다. (선택 사항)\n",
      "\n",
      "2. **양념 준비:**\n",
      "   - 다른 팬에 고추기름을 데우고 두반장과 마라 소스를 넣어 볶아 향을 내줍니다.\n",
      "\n",
      "3. **재료 준비:**\n",
      "   - 원하는 채소와 고기를 준비합니다. 채소는 먹기 좋은 크기로 썰고, 고기는 얇게 썹니다.\n",
      "\n",
      "4. **국물 끓이기:**\n",
      "   - 육수가 준비되면, 볶은 양념을 넣고 잘 섞어줍니다.\n",
      "   - 준비한 채소와 고기를 넣고 끓입니다. 고기가 익을 때까지 약 5-10분 정도 끓입니다.\n",
      "\n",
      "5. **면 삶기:**\n",
      "   - 별도의 냄비에 물을 끓이고 면을 삶아줍니다. 면이 익으면 체에 받쳐 물기를 제거합니다.\n",
      "\n",
      "6. **서빙:**\n",
      "   - 그릇에 삶은 면을 담고, 끓인 마라탕 국물과 재료를 위에 부어줍니다.\n",
      "   - 원한다면 고수를 올리거나 추가 양념을 뿌려서 즐기세요.\n",
      "\n",
      "### 팁\n",
      "- 매운 맛을 조절하고 싶다면 고추기름의 양을 조절하세요.\n",
      "- 다양한 재료를 넣어 자신만의 마라탕을 만들어 보세요!\n",
      "\n",
      "맛있게 드세요!"
     ]
    }
   ],
   "source": [
    "for chunk in chain.stream({'dish' : '마라탕'}):\n",
    "    print(chunk, end=\"\")"
   ]
  },
  {
   "cell_type": "code",
   "execution_count": 34,
   "id": "c431269d",
   "metadata": {},
   "outputs": [],
   "source": [
    "output = chain.batch([{'dish':'라면'}, {'dish' : '떡볶이'}])"
   ]
  },
  {
   "cell_type": "code",
   "execution_count": 35,
   "id": "af80afe7",
   "metadata": {},
   "outputs": [
    {
     "data": {
      "text/plain": [
       "['라면은 간편하게 만들 수 있는 인기 있는 요리입니다. 기본적인 라면 레시피를 소개할게요.\\n\\n### 재료\\n- 라면 1봉지\\n- 물 550ml (약 2컵 반)\\n- 스프 (라면 봉지에 포함된 것)\\n- 선택 재료 (선택 사항)\\n  - 계란 1개\\n  - 대파 (썰어서)\\n  - 김치\\n  - 채소 (시금치, 버섯 등)\\n  - 고기 (햄, 소시지 등)\\n\\n### 조리 방법\\n1. **물 끓이기**: 냄비에 물 550ml를 붓고 중불로 끓입니다.\\n2. **면 넣기**: 물이 끓기 시작하면 라면 면을 넣습니다. 면이 풀어질 때까지 약 2-3분간 끓입니다.\\n3. **스프 추가**: 면이 익으면 라면 스프를 넣고 잘 저어줍니다.\\n4. **선택 재료 추가**: \\n   - 계란을 넣고 싶다면, 스프를 넣은 후 계란을 깨서 넣고 저어줍니다.\\n   - 대파, 김치, 채소, 고기 등을 추가하고 싶다면 이 단계에서 함께 넣어줍니다.\\n5. **마무리**: 모든 재료가 잘 섞이고 면이 익으면 불을 끄고 그릇에 담아냅니다.\\n\\n### 팁\\n- 매운 맛을 원한다면 고추가루나 청양고추를 추가해보세요.\\n- 치즈를 추가하면 더욱 고소한 맛을 즐길 수 있습니다.\\n\\n맛있게 드세요!',\n",
       " '떡볶이는 한국의 인기 있는 길거리 음식으로, 매콤하고 달콤한 소스에 떡과 다양한 재료를 넣어 만드는 요리입니다. 아래는 기본 떡볶이 레시피입니다.\\n\\n### 재료\\n- 떡볶이 떡 300g\\n- 어묵 100g (선택 사항)\\n- 대파 1대\\n- 양배추 1컵 (선택 사항)\\n- 물 2컵\\n- 고추장 2큰술\\n- 고춧가루 1큰술\\n- 설탕 1큰술\\n- 간장 1큰술\\n- 다진 마늘 1작은술\\n- 참기름 1작은술\\n- 통깨 (선택 사항)\\n\\n### 조리 방법\\n1. **재료 준비**: 떡은 물에 30분 정도 불려서 준비하고, 어묵은 먹기 좋은 크기로 자릅니다. 대파는 송송 썰고, 양배추는 적당한 크기로 자릅니다.\\n\\n2. **소스 만들기**: 냄비에 물을 붓고, 고추장, 고춧가루, 설탕, 간장, 다진 마늘을 넣고 잘 섞어줍니다.\\n\\n3. **떡과 재료 넣기**: 소스가 잘 섞이면 불린 떡과 어묵, 양배추를 넣고 중불에서 끓입니다.\\n\\n4. **조리하기**: 떡이 부드러워질 때까지 약 10분 정도 끓입니다. 이때, 떡이 눌어붙지 않도록 가끔 저어줍니다.\\n\\n5. **마무리**: 마지막에 대파와 참기름을 넣고 한 번 더 섞어줍니다. 필요에 따라 간을 보고, 부족한 간은 소금이나 간장으로 조절합니다.\\n\\n6. **서빙**: 완성된 떡볶이를 그릇에 담고, 원한다면 통깨를 뿌려서 장식합니다.\\n\\n### 팁\\n- 매운 맛을 원하시면 고춧가루의 양을 조절하세요.\\n- 치즈를 추가하면 더욱 고소하고 맛있는 떡볶이를 즐길 수 있습니다.\\n- 계란이나 다른 채소를 추가해도 좋습니다.\\n\\n맛있게 드세요!']"
      ]
     },
     "execution_count": 35,
     "metadata": {},
     "output_type": "execute_result"
    }
   ],
   "source": [
    "output"
   ]
  },
  {
   "cell_type": "code",
   "execution_count": 36,
   "id": "5c33a7f9",
   "metadata": {},
   "outputs": [],
   "source": [
    "from dotenv import load_dotenv"
   ]
  },
  {
   "cell_type": "code",
   "execution_count": 37,
   "id": "31d9623c",
   "metadata": {},
   "outputs": [
    {
     "data": {
      "text/plain": [
       "True"
      ]
     },
     "execution_count": 37,
     "metadata": {},
     "output_type": "execute_result"
    }
   ],
   "source": [
    "load_dotenv()"
   ]
  },
  {
   "cell_type": "code",
   "execution_count": 40,
   "id": "e13363c5",
   "metadata": {},
   "outputs": [
    {
     "data": {
      "text/plain": [
       "'true'"
      ]
     },
     "execution_count": 40,
     "metadata": {},
     "output_type": "execute_result"
    }
   ],
   "source": [
    "import os \n",
    "os.environ['LANGCHAIN_TRACING_V2']"
   ]
  },
  {
   "cell_type": "code",
   "execution_count": 45,
   "id": "9ee9ac2f",
   "metadata": {},
   "outputs": [],
   "source": [
    "cot_prompt = ChatPromptTemplate.from_messages(\n",
    "    [\n",
    "        (\"system\", \"사용자의 질문에 단계적으로 답변하세요\"),\n",
    "        (\"human\" , \"{question}\")\n",
    "    ]\n",
    ")\n",
    "\n",
    "cot_chain = cot_prompt | model | StrOutputParser()"
   ]
  },
  {
   "cell_type": "code",
   "execution_count": 46,
   "id": "2c930b51",
   "metadata": {},
   "outputs": [],
   "source": [
    "summarize_prompt = ChatPromptTemplate.from_messages(\n",
    "    [\n",
    "        (\"system\", \"단계적으로 생각한 답변에서 결론만 추출할 것\"),\n",
    "        (\"human\" , \"{text}\")\n",
    "    ]\n",
    ")\n",
    "\n",
    "summarize_chain = summarize_prompt | model | StrOutputParser()"
   ]
  },
  {
   "cell_type": "code",
   "execution_count": 47,
   "id": "75641bee",
   "metadata": {},
   "outputs": [],
   "source": [
    "cot_summarize_chain = cot_chain | summarize_chain"
   ]
  },
  {
   "cell_type": "code",
   "execution_count": 50,
   "id": "c7e052c9",
   "metadata": {},
   "outputs": [],
   "source": [
    "output = cot_summarize_chain.invoke({'question' : \"슈뢰딩거의 고양이에 대해서 설명\"})"
   ]
  },
  {
   "cell_type": "code",
   "execution_count": 51,
   "id": "2757c98a",
   "metadata": {},
   "outputs": [
    {
     "name": "stdout",
     "output_type": "stream",
     "text": [
      "슈뢰딩거의 고양이는 양자역학의 중첩과 관측의 역할을 설명하는 사고 실험으로, 관측이 물리적 현실에 미치는 영향을 탐구하는 중요한 철학적 질문을 제기합니다.\n"
     ]
    }
   ],
   "source": [
    "print(output)"
   ]
  },
  {
   "cell_type": "code",
   "execution_count": null,
   "id": "efb50bd6",
   "metadata": {},
   "outputs": [],
   "source": [
    "#cot -> Chain of Thought"
   ]
  },
  {
   "cell_type": "code",
   "execution_count": 52,
   "id": "a3709af5",
   "metadata": {},
   "outputs": [],
   "source": [
    "from langchain_core.runnables import RunnableLambda"
   ]
  },
  {
   "cell_type": "code",
   "execution_count": 56,
   "id": "8c862dd0",
   "metadata": {},
   "outputs": [],
   "source": [
    "def upper(text):\n",
    "    return text.upper()\n",
    "\n",
    "\n",
    "#chain = prompt | model | StrOutputParser() | RunnableLambda(upper)\n",
    "chain = prompt | model | StrOutputParser() | RunnableLambda(lambda x : x.upper())"
   ]
  },
  {
   "cell_type": "code",
   "execution_count": 57,
   "id": "4a2f775a",
   "metadata": {},
   "outputs": [
    {
     "data": {
      "text/plain": [
       "'HERE’S A SIMPLE AND DELICIOUS RECIPE FOR HOMEMADE RAMEN:\\n\\n### INGREDIENTS:\\n\\n#### FOR THE BROTH:\\n- 4 CUPS CHICKEN OR VEGETABLE BROTH\\n- 2 CUPS WATER\\n- 2 TABLESPOONS SOY SAUCE\\n- 1 TABLESPOON MISO PASTE (OPTIONAL)\\n- 1 TABLESPOON SESAME OIL\\n- 1 INCH PIECE OF GINGER, SLICED\\n- 2 CLOVES GARLIC, MINCED\\n- 1 GREEN ONION, CHOPPED\\n- SALT AND PEPPER TO TASTE\\n\\n#### FOR THE NOODLES:\\n- 2 SERVINGS OF FRESH OR DRIED RAMEN NOODLES\\n\\n#### TOPPINGS (CHOOSE YOUR FAVORITES):\\n- SOFT-BOILED EGGS (COOKED FOR 6-7 MINUTES AND MARINATED IN SOY SAUCE)\\n- SLICED GREEN ONIONS\\n- NORI (SEAWEED SHEETS)\\n- SLICED MUSHROOMS (SHIITAKE OR BUTTON)\\n- BEAN SPROUTS\\n- CORN\\n- SPINACH OR BOK CHOY\\n- CHASHU PORK OR TOFU (FOR PROTEIN)\\n\\n### INSTRUCTIONS:\\n\\n1. **PREPARE THE BROTH:**\\n   - IN A LARGE POT, HEAT THE SESAME OIL OVER MEDIUM HEAT. ADD THE MINCED GARLIC AND SLICED GINGER, SAUTÉING UNTIL FRAGRANT (ABOUT 1-2 MINUTES).\\n   - POUR IN THE CHICKEN OR VEGETABLE BROTH AND WATER. STIR IN THE SOY SAUCE AND MISO PASTE (IF USING). BRING TO A SIMMER AND LET IT COOK FOR ABOUT 15-20 MINUTES TO ALLOW THE FLAVORS TO MELD. SEASON WITH SALT AND PEPPER TO TASTE.\\n\\n2. **COOK THE NOODLES:**\\n   - IN A SEPARATE POT, BRING WATER TO A BOIL. ADD THE RAMEN NOODLES AND COOK ACCORDING TO PACKAGE INSTRUCTIONS (USUALLY 3-5 MINUTES FOR FRESH NOODLES, LONGER FOR DRIED). DRAIN AND SET ASIDE.\\n\\n3. **PREPARE THE TOPPINGS:**\\n   - WHILE THE BROTH IS SIMMERING, PREPARE YOUR TOPPINGS. SOFT-BOIL THE EGGS, SLICE THE GREEN ONIONS, AND SAUTÉ OR STEAM ANY VEGETABLES YOU WANT TO ADD.\\n\\n4. **ASSEMBLE THE RAMEN:**\\n   - DIVIDE THE COOKED NOODLES INTO BOWLS. LADLE THE HOT BROTH OVER THE NOODLES. TOP WITH YOUR CHOICE OF TOPPINGS, SUCH AS SOFT-BOILED EGGS, GREEN ONIONS, NORI, MUSHROOMS, BEAN SPROUTS, CORN, AND SPINACH.\\n\\n5. **SERVE:**\\n   - SERVE HOT AND ENJOY YOUR HOMEMADE RAMEN!\\n\\nFEEL FREE TO CUSTOMIZE THE TOPPINGS AND BROTH TO YOUR LIKING. ENJOY YOUR MEAL!'"
      ]
     },
     "execution_count": 57,
     "metadata": {},
     "output_type": "execute_result"
    }
   ],
   "source": [
    "chain.invoke({'dish' : 'ramen'})"
   ]
  },
  {
   "cell_type": "code",
   "execution_count": 58,
   "id": "de79dd11",
   "metadata": {},
   "outputs": [],
   "source": [
    "chain = prompt | model | StrOutputParser() | upper"
   ]
  },
  {
   "cell_type": "code",
   "execution_count": 59,
   "id": "a476ee3f",
   "metadata": {},
   "outputs": [
    {
     "data": {
      "text/plain": [
       "'HERE’S A SIMPLE AND DELICIOUS RECIPE FOR HOMEMADE RAMEN:\\n\\n### INGREDIENTS:\\n\\n#### FOR THE BROTH:\\n- 4 CUPS CHICKEN OR VEGETABLE BROTH\\n- 2 CUPS WATER\\n- 2 TABLESPOONS SOY SAUCE\\n- 1 TABLESPOON MISO PASTE (OPTIONAL)\\n- 1 TABLESPOON SESAME OIL\\n- 1 INCH PIECE OF GINGER, SLICED\\n- 2 CLOVES GARLIC, MINCED\\n- 1 GREEN ONION, CHOPPED\\n- SALT AND PEPPER TO TASTE\\n\\n#### FOR THE NOODLES:\\n- 2 SERVINGS OF FRESH OR DRIED RAMEN NOODLES\\n\\n#### TOPPINGS (CHOOSE YOUR FAVORITES):\\n- SOFT-BOILED EGGS\\n- SLICED GREEN ONIONS\\n- NORI (SEAWEED)\\n- SLICED MUSHROOMS (SHIITAKE OR BUTTON)\\n- BEAN SPROUTS\\n- CORN\\n- SLICED PORK (CHASHU) OR TOFU FOR A VEGETARIAN OPTION\\n- SPINACH OR BOK CHOY\\n\\n### INSTRUCTIONS:\\n\\n1. **PREPARE THE BROTH:**\\n   - IN A LARGE POT, HEAT THE SESAME OIL OVER MEDIUM HEAT. ADD THE MINCED GARLIC AND SLICED GINGER, SAUTÉING UNTIL FRAGRANT (ABOUT 1-2 MINUTES).\\n   - POUR IN THE CHICKEN OR VEGETABLE BROTH AND WATER. STIR IN THE SOY SAUCE AND MISO PASTE (IF USING). BRING TO A SIMMER AND LET IT COOK FOR ABOUT 15-20 MINUTES TO ALLOW THE FLAVORS TO MELD. SEASON WITH SALT AND PEPPER TO TASTE.\\n\\n2. **COOK THE NOODLES:**\\n   - IN A SEPARATE POT, BRING WATER TO A BOIL. ADD THE RAMEN NOODLES AND COOK ACCORDING TO PACKAGE INSTRUCTIONS (USUALLY 3-5 MINUTES FOR FRESH NOODLES, LONGER FOR DRIED). DRAIN AND SET ASIDE.\\n\\n3. **PREPARE THE TOPPINGS:**\\n   - IF USING SOFT-BOILED EGGS, BOIL THEM FOR ABOUT 6-7 MINUTES, THEN TRANSFER TO AN ICE BATH TO COOL BEFORE PEELING.\\n   - SAUTÉ OR STEAM ANY VEGETABLES YOU WANT TO INCLUDE, SUCH AS MUSHROOMS OR SPINACH.\\n\\n4. **ASSEMBLE THE RAMEN:**\\n   - DIVIDE THE COOKED NOODLES INTO BOWLS. LADLE THE HOT BROTH OVER THE NOODLES.\\n   - TOP WITH YOUR CHOICE OF TOPPINGS: SLICED SOFT-BOILED EGGS, GREEN ONIONS, NORI, MUSHROOMS, BEAN SPROUTS, CORN, AND SLICED PORK OR TOFU.\\n\\n5. **SERVE:**\\n   - ENJOY YOUR HOMEMADE RAMEN HOT! YOU CAN ADD EXTRA SOY SAUCE OR CHILI OIL FOR ADDITIONAL FLAVOR.\\n\\nFEEL FREE TO CUSTOMIZE THE TOPPINGS AND BROTH TO YOUR LIKING! ENJOY YOUR MEAL!'"
      ]
     },
     "execution_count": 59,
     "metadata": {},
     "output_type": "execute_result"
    }
   ],
   "source": [
    "chain.invoke({'dish' : 'ramen'})"
   ]
  },
  {
   "cell_type": "code",
   "execution_count": 62,
   "id": "a4b6bc1a",
   "metadata": {},
   "outputs": [],
   "source": [
    "chain = prompt | model | StrOutputParser() | upper"
   ]
  },
  {
   "cell_type": "code",
   "execution_count": 63,
   "id": "f9f12cc0",
   "metadata": {},
   "outputs": [
    {
     "data": {
      "text/plain": [
       "'HERE’S A SIMPLE AND DELICIOUS RECIPE FOR HOMEMADE RAMEN:\\n\\n### INGREDIENTS:\\n\\n#### FOR THE BROTH:\\n- 4 CUPS CHICKEN OR VEGETABLE BROTH\\n- 2 CUPS WATER\\n- 2 TABLESPOONS SOY SAUCE\\n- 1 TABLESPOON MISO PASTE (OPTIONAL)\\n- 1 TABLESPOON SESAME OIL\\n- 1 INCH PIECE OF GINGER, SLICED\\n- 2 CLOVES GARLIC, MINCED\\n- 1 GREEN ONION, CHOPPED\\n- SALT AND PEPPER TO TASTE\\n\\n#### FOR THE NOODLES:\\n- 2 SERVINGS OF FRESH OR DRIED RAMEN NOODLES\\n\\n#### TOPPINGS (CHOOSE YOUR FAVORITES):\\n- SOFT-BOILED EGGS (COOKED FOR 6-7 MINUTES AND PEELED)\\n- SLICED GREEN ONIONS\\n- NORI (SEAWEED SHEETS)\\n- SLICED MUSHROOMS (SHIITAKE OR BUTTON)\\n- BEAN SPROUTS\\n- CORN\\n- SLICED COOKED PORK (CHASHU) OR CHICKEN\\n- SPINACH OR BOK CHOY\\n\\n### INSTRUCTIONS:\\n\\n1. **PREPARE THE BROTH:**\\n   - IN A LARGE POT, HEAT THE SESAME OIL OVER MEDIUM HEAT. ADD THE MINCED GARLIC AND SLICED GINGER, SAUTÉING UNTIL FRAGRANT (ABOUT 1-2 MINUTES).\\n   - POUR IN THE CHICKEN OR VEGETABLE BROTH AND WATER. STIR IN THE SOY SAUCE AND MISO PASTE (IF USING). BRING TO A SIMMER AND LET IT COOK FOR ABOUT 15-20 MINUTES TO ALLOW THE FLAVORS TO MELD. SEASON WITH SALT AND PEPPER TO TASTE.\\n\\n2. **COOK THE NOODLES:**\\n   - IN A SEPARATE POT, BRING WATER TO A BOIL. ADD THE RAMEN NOODLES AND COOK ACCORDING TO PACKAGE INSTRUCTIONS (USUALLY 3-5 MINUTES FOR FRESH NOODLES, LONGER FOR DRIED). DRAIN AND SET ASIDE.\\n\\n3. **PREPARE THE TOPPINGS:**\\n   - WHILE THE BROTH IS SIMMERING, PREPARE YOUR TOPPINGS. SOFT-BOIL THE EGGS, SLICE THE GREEN ONIONS, AND COOK ANY OTHER TOPPINGS YOU DESIRE (LIKE SAUTÉING MUSHROOMS OR BLANCHING SPINACH).\\n\\n4. **ASSEMBLE THE RAMEN:**\\n   - DIVIDE THE COOKED NOODLES INTO BOWLS. LADLE THE HOT BROTH OVER THE NOODLES.\\n   - ARRANGE YOUR CHOSEN TOPPINGS ON TOP OF THE NOODLES. ADD THE SOFT-BOILED EGG, SLICED GREEN ONIONS, NORI, AND ANY OTHER TOPPINGS YOU LIKE.\\n\\n5. **SERVE:**\\n   - SERVE HOT AND ENJOY YOUR HOMEMADE RAMEN!\\n\\nFEEL FREE TO CUSTOMIZE THE TOPPINGS AND BROTH TO YOUR TASTE. ENJOY YOUR MEAL!'"
      ]
     },
     "execution_count": 63,
     "metadata": {},
     "output_type": "execute_result"
    }
   ],
   "source": [
    "chain.invoke({'dish' : 'ramen'})"
   ]
  },
  {
   "cell_type": "code",
   "execution_count": 64,
   "id": "c671c3d9",
   "metadata": {},
   "outputs": [],
   "source": [
    "from langchain_core.runnables import RunnableParallel"
   ]
  },
  {
   "cell_type": "code",
   "execution_count": 68,
   "id": "36b8efd3",
   "metadata": {},
   "outputs": [],
   "source": [
    "optimistic_prompt = ChatPromptTemplate.from_messages(\n",
    "    [\n",
    "        (\"system\", \"당신은 낙관주의자입니다. 사용자의 입력에 대해 낙관적인 의견을 제공하세요\"),\n",
    "        (\"human\", \"{topic}\")\n",
    "    ]\n",
    ")\n",
    "\n",
    "optim_chain = optimistic_prompt | model | StrOutputParser()"
   ]
  },
  {
   "cell_type": "code",
   "execution_count": 69,
   "id": "fb4b6439",
   "metadata": {},
   "outputs": [],
   "source": [
    "pessimistic_prompt = ChatPromptTemplate.from_messages(\n",
    "    [\n",
    "        (\"system\", \"당신은 비관주의자입니다. 사용자의 입력에 대해 비관적인 의견을 제공하세요\"),\n",
    "        (\"human\", \"{topic}\")\n",
    "    ]\n",
    ")\n",
    "\n",
    "pessi_chain = pessimistic_prompt | model | StrOutputParser()"
   ]
  },
  {
   "cell_type": "code",
   "execution_count": 70,
   "id": "3941fa88",
   "metadata": {},
   "outputs": [],
   "source": [
    "parallel_chain = RunnableParallel(\n",
    "    {\n",
    "        'optimistic_opinion' : optim_chain,\n",
    "        'pessimistic_opinion' : pessi_chain\n",
    "    }\n",
    ")"
   ]
  },
  {
   "cell_type": "code",
   "execution_count": 71,
   "id": "d40f1a14",
   "metadata": {},
   "outputs": [],
   "source": [
    "output = parallel_chain.invoke({'topic' : \"짜장면과 짬뽕\"})"
   ]
  },
  {
   "cell_type": "code",
   "execution_count": 74,
   "id": "b57b7626",
   "metadata": {},
   "outputs": [
    {
     "name": "stdout",
     "output_type": "stream",
     "text": [
      "{'optimistic_opinion': '짜장면과 짬뽕은 정말 맛있는 중국 음식이죠! 두 가지 모두 각기 다른 매력을 가지고 있어서, 어떤 '\n",
      "                       '날에는 짜장면의 달콤한 맛이, 또 어떤 날에는 짬뽕의 매콤한 국물이 그리워질 수 있어요. 친구들과 '\n",
      "                       '함께 나눠 먹으면 더 맛있고, 다양한 맛을 즐길 수 있는 기회도 생기니 정말 좋죠! 어떤 음식을 '\n",
      "                       '선택하든, 맛있는 한 끼가 될 거예요!',\n",
      " 'pessimistic_opinion': '짜장면과 짬뽕은 많은 사람들이 좋아하는 음식이지만, 결국에는 그저 일시적인 만족에 불과합니다. '\n",
      "                        '맛있게 먹고 나면 잠시 기분이 좋을 수 있지만, 결국에는 소화 불량이나 체중 증가 같은 부작용이 '\n",
      "                        '따를 수 있습니다. 또, 이런 음식들이 건강에 좋지 않다는 사실은 누구나 알고 있죠. 결국, '\n",
      "                        '짜장면과 짬뽕은 순간의 즐거움을 주지만, 장기적으로는 우리 몸에 해로운 영향을 미칠 수밖에 '\n",
      "                        '없습니다.'}\n"
     ]
    }
   ],
   "source": [
    "import pprint\n",
    "pprint.pprint(output)"
   ]
  },
  {
   "cell_type": "code",
   "execution_count": 78,
   "id": "beb72abb",
   "metadata": {},
   "outputs": [],
   "source": [
    "prompt2 = ChatPromptTemplate.from_messages(\n",
    "    [\n",
    "        ('system' , '당신은 객관적 AI입니다. 두 가지 의견을 종합해서 사용자에 알려줘'),\n",
    "        ('human', \"낙관적인 d의견 : {optimistic_opinion} \\n 비관적인 의견 : {pessimistic_opinion}\")\n",
    "    ]\n",
    ")"
   ]
  },
  {
   "cell_type": "code",
   "execution_count": 80,
   "id": "ed72b8a9",
   "metadata": {},
   "outputs": [],
   "source": [
    "chain3 =(RunnableParallel(\n",
    "    {\n",
    "        'optimistic_opinion' : optim_chain,\n",
    "        'pessimistic_opinion' : pessi_chain\n",
    "    })\n",
    "    | prompt2\n",
    "    | model \n",
    "    | StrOutputParser()\n",
    ")"
   ]
  },
  {
   "cell_type": "code",
   "execution_count": 81,
   "id": "4201a8a3",
   "metadata": {},
   "outputs": [],
   "source": [
    "output = chain3.invoke({'topic' : \"짜장면과 짬뽕\"})"
   ]
  },
  {
   "cell_type": "code",
   "execution_count": 82,
   "id": "b3ba442b",
   "metadata": {},
   "outputs": [
    {
     "name": "stdout",
     "output_type": "stream",
     "text": [
      "('짜장면과 짬뽕에 대한 두 가지 의견은 서로 다른 시각을 제공합니다. \\n'\n",
      " '\\n'\n",
      " '낙관적인 의견에서는 짜장면과 짬뽕이 각기 다른 매력을 지닌 훌륭한 선택으로, 기분에 따라 즐길 수 있는 다양한 맛을 강조합니다. 친구들과 '\n",
      " '함께 나누어 먹는 즐거움도 덧붙여져, 음식이 주는 행복한 순간을 소중히 여깁니다.\\n'\n",
      " '\\n'\n",
      " '반면, 비관적인 의견은 이러한 음식들이 일시적인 만족에 불과하다고 지적합니다. 맛있게 먹고 나면 다시 배고픔이 찾아오고, 건강이나 '\n",
      " '다이어트에 대한 걱정이 여전히 존재한다는 점을 강조하며, 음식이 삶의 근본적인 문제를 해결해주지 않는다고 말합니다.\\n'\n",
      " '\\n'\n",
      " '결국, 짜장면과 짬뽕은 순간적인 즐거움을 제공할 수 있지만, 그 이상의 의미를 찾기 위해서는 다른 방법을 모색해야 할 필요가 있다는 '\n",
      " '점에서 두 의견이 공존합니다.')\n"
     ]
    }
   ],
   "source": [
    "pprint.pprint(output)"
   ]
  },
  {
   "cell_type": "code",
   "execution_count": 83,
   "id": "fa87197d",
   "metadata": {},
   "outputs": [],
   "source": [
    "synthesize_prompt = ChatPromptTemplate.from_messages(\n",
    "    [\n",
    "        ('system' , '당신은 객관적 AI입니다. {topic}에 대한 두 가지 의견을 종합하세요'),\n",
    "        ('human', \"낙관적인 d의견 : {optimistic_opinion} \\n 비관적인 의견 : {pessimistic_opinion}\")\n",
    "    ]\n",
    ")"
   ]
  },
  {
   "cell_type": "code",
   "execution_count": 84,
   "id": "728d2e62",
   "metadata": {},
   "outputs": [],
   "source": [
    "synthesize_chain = (\n",
    "    {\n",
    "        'optimistic_opinion' : optim_chain,\n",
    "        'pessimistic_opinion' : pessi_chain,\n",
    "        'topic' : itemgetter('topic')\n",
    "    }\n",
    "    | synthesize_prompt\n",
    "    | model\n",
    "    | StrOutputParser()    \n",
    ")"
   ]
  },
  {
   "cell_type": "code",
   "execution_count": 87,
   "id": "86ba62ee",
   "metadata": {},
   "outputs": [],
   "source": [
    "output = synthesize_chain.invoke({\"topic\" : \"매운음식\"})"
   ]
  },
  {
   "cell_type": "code",
   "execution_count": 88,
   "id": "ad20416e",
   "metadata": {},
   "outputs": [
    {
     "name": "stdout",
     "output_type": "stream",
     "text": [
      "('매운 음식에 대한 의견은 상반된 두 가지 시각을 보여줍니다. \\n'\n",
      " '\\n'\n",
      " '낙관적인 의견에서는 매운 음식이 맛을 풍부하게 하고, 다양한 향신료가 건강에 긍정적인 영향을 미칠 수 있다고 강조합니다. 매운 음식을 '\n",
      " '통해 기분이 좋아지고 스트레스를 해소할 수 있으며, 이를 함께 나누는 경험이 즐거움을 더한다고 주장합니다.\\n'\n",
      " '\\n'\n",
      " '반면, 비관적인 의견은 매운 음식이 소화 불량이나 위장 문제를 일으킬 수 있으며, 매운 맛에 중독될 위험이 있다고 경고합니다. 매운 '\n",
      " '음식을 먹은 후의 불쾌한 느낌이나 땀을 흘리는 경험이 즐거움보다 고통을 더할 수 있다는 점을 지적합니다.\\n'\n",
      " '\\n'\n",
      " '결론적으로, 매운 음식은 맛과 즐거움을 제공할 수 있지만, 건강에 미치는 부정적인 영향도 고려해야 할 필요가 있습니다. 개인의 취향과 '\n",
      " '건강 상태에 따라 매운 음식을 즐기는 방식이 달라질 수 있습니다.')\n"
     ]
    }
   ],
   "source": [
    "pprint.pprint(output)"
   ]
  },
  {
   "cell_type": "code",
   "execution_count": 90,
   "id": "d83d3cef",
   "metadata": {},
   "outputs": [
    {
     "data": {
      "text/plain": [
       "True"
      ]
     },
     "execution_count": 90,
     "metadata": {},
     "output_type": "execute_result"
    }
   ],
   "source": [
    "load_dotenv()"
   ]
  },
  {
   "cell_type": "code",
   "execution_count": 92,
   "id": "8881a8b9",
   "metadata": {},
   "outputs": [
    {
     "data": {
      "text/plain": [
       "'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'"
      ]
     },
     "execution_count": 92,
     "metadata": {},
     "output_type": "execute_result"
    }
   ],
   "source": [
    "os.environ['TAVILY_API_KEY']"
   ]
  },
  {
   "cell_type": "code",
   "execution_count": 93,
   "id": "64174d08",
   "metadata": {},
   "outputs": [],
   "source": [
    "from langchain_community.retrievers import TavilySearchAPIRetriever"
   ]
  },
  {
   "cell_type": "code",
   "execution_count": 105,
   "id": "3dbbfba5",
   "metadata": {},
   "outputs": [],
   "source": [
    "retriever = TavilySearchAPIRetriever(k=10)"
   ]
  },
  {
   "cell_type": "code",
   "execution_count": 106,
   "id": "c10bb126",
   "metadata": {},
   "outputs": [],
   "source": [
    "prompt = ChatPromptTemplate.from_template(\n",
    "    '''다음 문맥만을 고려해 질문에 대답할 것!\n",
    "\n",
    "    문맥: \"\"\"{context}\"\"\"\n",
    "\n",
    "    질문: {question}\n",
    "    '''\n",
    ")"
   ]
  },
  {
   "cell_type": "code",
   "execution_count": 107,
   "id": "034fed4b",
   "metadata": {},
   "outputs": [],
   "source": [
    "from langchain_core.runnables import RunnablePassthrough"
   ]
  },
  {
   "cell_type": "code",
   "execution_count": 108,
   "id": "67b06b47",
   "metadata": {},
   "outputs": [],
   "source": [
    "chain = (\n",
    "    {'context' : retriever, 'question' : RunnablePassthrough()} \n",
    "    | prompt \n",
    "    | model \n",
    "    | StrOutputParser()\n",
    ")"
   ]
  },
  {
   "cell_type": "code",
   "execution_count": 111,
   "id": "201f443b",
   "metadata": {},
   "outputs": [],
   "source": [
    "output = chain.invoke(\"2025년 말복은 언제야?\")"
   ]
  },
  {
   "cell_type": "code",
   "execution_count": 112,
   "id": "791ddc1a",
   "metadata": {},
   "outputs": [
    {
     "name": "stdout",
     "output_type": "stream",
     "text": [
      "'2025년 말복은 8월 9일입니다.'\n"
     ]
    }
   ],
   "source": [
    "pprint.pprint(output)"
   ]
  },
  {
   "cell_type": "code",
   "execution_count": 113,
   "id": "018df209",
   "metadata": {},
   "outputs": [],
   "source": [
    "from langchain_community.document_loaders import GitLoader\n"
   ]
  },
  {
   "cell_type": "code",
   "execution_count": 120,
   "id": "b04079f8",
   "metadata": {},
   "outputs": [],
   "source": [
    "loader = GitLoader(\n",
    "    clone_url = \"https://github.com/langchain-ai/langchain\",\n",
    "    repo_path='./langcahin',\n",
    "    branch='master',\n",
    "    file_filter = lambda x : x.endswith(\".mdx\")\n",
    ")"
   ]
  },
  {
   "cell_type": "code",
   "execution_count": 121,
   "id": "ce1877f9",
   "metadata": {},
   "outputs": [],
   "source": [
    "documents = loader.load()"
   ]
  },
  {
   "cell_type": "code",
   "execution_count": 123,
   "id": "b3455a77",
   "metadata": {},
   "outputs": [
    {
     "name": "stdout",
     "output_type": "stream",
     "text": [
      "433\n"
     ]
    }
   ],
   "source": [
    "print(len(documents))"
   ]
  },
  {
   "cell_type": "code",
   "execution_count": 141,
   "id": "89da370d",
   "metadata": {},
   "outputs": [],
   "source": [
    "from langchain_chroma import Chroma\n",
    "from langchain_openai import OpenAIEmbeddings\n",
    "from langchain_text_splitters import RecursiveCharacterTextSplitter\n"
   ]
  },
  {
   "cell_type": "code",
   "execution_count": 143,
   "id": "268d8627",
   "metadata": {},
   "outputs": [],
   "source": [
    "text_spliter = RecursiveCharacterTextSplitter(chunk_size=1000, chunk_overlap=50)\n",
    "split_documents = text_spliter.split_documents(documents)"
   ]
  },
  {
   "cell_type": "code",
   "execution_count": 144,
   "id": "64014951",
   "metadata": {},
   "outputs": [],
   "source": [
    "embedding = OpenAIEmbeddings(model='text-embedding-3-small')\n",
    "db = Chroma.from_documents(split_documents, embedding)"
   ]
  },
  {
   "cell_type": "code",
   "execution_count": 146,
   "id": "442e32fa",
   "metadata": {},
   "outputs": [],
   "source": [
    "prompt = ChatPromptTemplate.from_template(\n",
    "    '''\n",
    "    다음 문맥만을 고려해서 질문에 답하시요.\n",
    "\n",
    "    문맥: \"\"\"{context}\"\"\"\n",
    "    \n",
    "    질문: {question}\n",
    "    '''\n",
    ")"
   ]
  },
  {
   "cell_type": "code",
   "execution_count": 147,
   "id": "6a86481d",
   "metadata": {},
   "outputs": [],
   "source": [
    "retriever = db.as_retriever()"
   ]
  },
  {
   "cell_type": "code",
   "execution_count": 149,
   "id": "cdd4be99",
   "metadata": {},
   "outputs": [],
   "source": [
    "chain = {\n",
    "    \"question\" : RunnablePassthrough(),\n",
    "    \"context\" : retriever,\n",
    "} | prompt | model | StrOutputParser()"
   ]
  },
  {
   "cell_type": "code",
   "execution_count": 151,
   "id": "79daeeb9",
   "metadata": {},
   "outputs": [],
   "source": [
    "output = chain.invoke(\"LangChain 개요를 알려줘?\")"
   ]
  },
  {
   "cell_type": "code",
   "execution_count": 152,
   "id": "0a832025",
   "metadata": {},
   "outputs": [
    {
     "name": "stdout",
     "output_type": "stream",
     "text": [
      "('LangChain은 다양한 도구와 통합하여 구축된 프레임워크로, 여러 오픈 소스 라이브러리로 구성되어 있습니다. 주요 구성 요소는 다음과 '\n",
      " '같습니다:\\n'\n",
      " '\\n'\n",
      " '- **`langchain-core`**: 채팅 모델 및 기타 구성 요소를 위한 기본 추상화.\\n'\n",
      " '- **통합 패키지**: `langchain-openai`, `langchain-anthropic` 등과 같은 중요한 통합이 경량 '\n",
      " '패키지로 분리되어 있으며, LangChain 팀과 통합 개발자들이 공동으로 유지 관리합니다.\\n'\n",
      " '- **`langchain`**: 애플리케이션의 인지 아키텍처를 구성하는 체인, 에이전트 및 검색 전략.\\n'\n",
      " '- **`langchain-community`**: 커뮤니티에서 유지 관리되는 제3자 통합.\\n'\n",
      " '- **`langgraph`**: LangChain 구성 요소를 결합하여 생산 준비가 완료된 애플리케이션을 구축할 수 있는 오케스트레이션 '\n",
      " '프레임워크.\\n'\n",
      " '\\n'\n",
      " 'LangChain은 또한 다양한 통합을 통해 채팅 모델, 벡터 저장소 등과 빠르게 시작할 수 있는 방법을 제공합니다.')\n"
     ]
    }
   ],
   "source": [
    "pprint.pprint(output)"
   ]
  },
  {
   "cell_type": "code",
   "execution_count": null,
   "id": "04a8870c",
   "metadata": {},
   "outputs": [],
   "source": [
    "# 검색 쿼리의 기법"
   ]
  },
  {
   "cell_type": "code",
   "execution_count": 161,
   "id": "d1626dd0",
   "metadata": {},
   "outputs": [],
   "source": [
    "hypothetical_prompt = ChatPromptTemplate.from_template(\"\"\"\n",
    "다음 질문에 100자 내외로 한 문장으로 답할 것! \n",
    "\n",
    "질문 : {question}\n",
    "\"\"\")\n",
    "\n",
    "hypothetical_chain = hypothetical_prompt | model | StrOutputParser()"
   ]
  },
  {
   "cell_type": "code",
   "execution_count": 162,
   "id": "214c38fa",
   "metadata": {},
   "outputs": [],
   "source": [
    "hype_rag_chain = {\n",
    "    \"question\" : RunnablePassthrough(),\n",
    "    \"context\" : hypothetical_chain |  retriever,\n",
    "} | prompt | model | StrOutputParser()"
   ]
  },
  {
   "cell_type": "code",
   "execution_count": 163,
   "id": "497ffd71",
   "metadata": {},
   "outputs": [],
   "source": [
    "output = hype_rag_chain.invoke(\"LangChain 개요를 알려줘?\")"
   ]
  },
  {
   "cell_type": "code",
   "execution_count": null,
   "id": "6ad92c5b",
   "metadata": {},
   "outputs": [],
   "source": [
    "('LangChain은 다양한 도구와 통합하여 구축된 프레임워크로, 여러 오픈 소스 라이브러리로 구성되어 있습니다. 주요 구성 요소는 다음과 '\n",
    " '같습니다:\\n'\n",
    " '\\n'\n",
    " '- **`langchain-core`**: 채팅 모델 및 기타 구성 요소를 위한 기본 추상화.\\n'\n",
    " '- **통합 패키지**: `langchain-openai`, `langchain-anthropic` 등과 같은 중요한 통합이 경량 '\n",
    " '패키지로 분리되어 있으며, LangChain 팀과 통합 개발자들이 공동으로 유지 관리합니다.\\n'\n",
    " '- **`langchain`**: 애플리케이션의 인지 아키텍처를 구성하는 체인, 에이전트 및 검색 전략.\\n'\n",
    " '- **`langchain-community`**: 커뮤니티에서 유지 관리되는 제3자 통합.\\n'\n",
    " '- **`langgraph`**: LangChain 구성 요소를 결합하여 생산 준비가 완료된 애플리케이션을 구축할 수 있는 오케스트레이션 '\n",
    " '프레임워크.\\n'\n",
    " '\\n'\n",
    " 'LangChain은 또한 다양한 통합을 통해 채팅 모델, 벡터 저장소 등과 빠르게 시작할 수 있는 방법을 제공합니다.')"
   ]
  },
  {
   "cell_type": "code",
   "execution_count": 164,
   "id": "72dcb990",
   "metadata": {},
   "outputs": [
    {
     "name": "stdout",
     "output_type": "stream",
     "text": [
      "('LangChain은 다양한 AI 애플리케이션에 중심이 되는 구성 요소를 위한 표준 인터페이스를 제공하는 프레임워크입니다. 이 프레임워크는 '\n",
      " '여러 공급자의 구성 요소를 쉽게 교체할 수 있는 장점을 제공하며, 고급 기능을 위한 공통 메서드도 제공합니다. LangChain은 다양한 '\n",
      " '도구와 통합되어 있으며, 채팅 모델, 벡터 저장소 등 다양한 구성 요소를 신속하게 사용할 수 있도록 돕습니다. 또한, LangChain은 '\n",
      " '모니터링, 디버깅 및 성능 최적화를 위한 추가 기능을 제공하여 LLM(대형 언어 모델)을 사용하는 애플리케이션의 성능을 향상시킵니다.')\n"
     ]
    }
   ],
   "source": [
    "pprint.pprint(output)"
   ]
  },
  {
   "cell_type": "code",
   "execution_count": 166,
   "id": "230128ac",
   "metadata": {},
   "outputs": [],
   "source": [
    "from pydantic import BaseModel, Field\n",
    "\n",
    "\n",
    "class QueryGenerationOutput(BaseModel):\n",
    "    queries: list[str] = Field(description='검색 쿼리 목록')"
   ]
  },
  {
   "cell_type": "code",
   "execution_count": 169,
   "id": "4ec6c05d",
   "metadata": {},
   "outputs": [],
   "source": [
    "query_generation_prompt = ChatPromptTemplate.from_template(\"\"\"\n",
    "질문에 대해 벡터 데이터베이스에서 관련 문서를 검색하기 위한 3개의 서로 다른 검색 쿼리를 생성하세요.\n",
    "거리 기반 유사성 검색의 한계를 극복하기 위해 사용자의 질문에 대해서 여러 관점을 제공하는 것이 목표입니다. \n",
    "\n",
    "질문: {question}\n",
    "\"\"\")"
   ]
  },
  {
   "cell_type": "code",
   "execution_count": 171,
   "id": "570de9c0",
   "metadata": {},
   "outputs": [],
   "source": [
    "query_generation_chain = (\n",
    "    query_generation_prompt \n",
    "    | model.with_structured_output(QueryGenerationOutput)\n",
    "    | (lambda x : x.queries)\n",
    ")"
   ]
  },
  {
   "cell_type": "code",
   "execution_count": 173,
   "id": "eeb1c4ea",
   "metadata": {},
   "outputs": [],
   "source": [
    "multi_query_rag_chain = {   \"question\" : RunnablePassthrough(),\n",
    "    'context': query_generation_chain | retriever.map(),\n",
    "} | prompt | model | StrOutputParser()"
   ]
  },
  {
   "cell_type": "code",
   "execution_count": 176,
   "id": "f5c945ab",
   "metadata": {},
   "outputs": [],
   "source": [
    "output = multi_query_rag_chain.invoke(\"LangChain 개요를 알려줘?\")"
   ]
  },
  {
   "cell_type": "code",
   "execution_count": 177,
   "id": "e419b3b7",
   "metadata": {},
   "outputs": [
    {
     "name": "stdout",
     "output_type": "stream",
     "text": [
      "('LangChain은 개발자가 추론하는 애플리케이션을 쉽게 구축할 수 있도록 돕기 위해 설계된 Python 패키지이자 회사입니다. '\n",
      " 'LangChain은 단일 오픈 소스 패키지로 시작했지만, 현재는 다양한 구성 요소로 이루어진 생태계로 발전했습니다. 이 생태계의 대부분의 '\n",
      " '구성 요소는 독립적으로 사용할 수 있으며, 사용자는 자신의 필요에 맞는 구성 요소를 선택하여 사용할 수 있습니다.\\n'\n",
      " '\\n'\n",
      " 'LangChain의 주요 구성 요소는 다음과 같습니다:\\n'\n",
      " '\\n'\n",
      " '- **langchain-core**: 채팅 모델 및 기타 구성 요소를 위한 기본 추상화.\\n'\n",
      " '- **langchain**: 애플리케이션의 인지 아키텍처를 구성하는 체인, 에이전트 및 검색 전략.\\n'\n",
      " '- **langgraph**: LangChain 구성 요소를 결합하여 생산 준비가 완료된 애플리케이션을 만드는 오케스트레이션 '\n",
      " '프레임워크.\\n'\n",
      " '- **langserve**: LangChain Runnables를 REST 엔드포인트로 배포하는 데 사용되는 도구.\\n'\n",
      " '\\n'\n",
      " 'LangChain은 또한 다양한 통합 패키지를 제공하여 특정 공급자의 구성 요소와 쉽게 통합할 수 있도록 지원합니다. 이를 통해 개발자는 '\n",
      " '채팅 모델, 벡터 저장소 등 다양한 기능을 신속하게 활용할 수 있습니다.')\n"
     ]
    }
   ],
   "source": [
    "pprint.pprint(output)"
   ]
  }
 ],
 "metadata": {
  "kernelspec": {
   "display_name": "openai",
   "language": "python",
   "name": "python3"
  },
  "language_info": {
   "codemirror_mode": {
    "name": "ipython",
    "version": 3
   },
   "file_extension": ".py",
   "mimetype": "text/x-python",
   "name": "python",
   "nbconvert_exporter": "python",
   "pygments_lexer": "ipython3",
   "version": "3.12.11"
  }
 },
 "nbformat": 4,
 "nbformat_minor": 5
}
