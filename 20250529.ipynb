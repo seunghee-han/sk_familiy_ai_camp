{
 "cells": [
  {
   "cell_type": "code",
   "execution_count": 1,
   "id": "54fbe756",
   "metadata": {},
   "outputs": [],
   "source": [
    "import numpy as np"
   ]
  },
  {
   "cell_type": "code",
   "execution_count": 2,
   "id": "f5a9acdf",
   "metadata": {},
   "outputs": [],
   "source": [
    "a=np.array([1,3,4,5,7])"
   ]
  },
  {
   "cell_type": "code",
   "execution_count": 3,
   "id": "2985bf8e",
   "metadata": {},
   "outputs": [
    {
     "data": {
      "text/plain": [
       "array([ 5,  7,  8,  9, 11])"
      ]
     },
     "execution_count": 3,
     "metadata": {},
     "output_type": "execute_result"
    }
   ],
   "source": [
    "a+4"
   ]
  },
  {
   "cell_type": "code",
   "execution_count": 4,
   "id": "04dbeba6",
   "metadata": {},
   "outputs": [
    {
     "data": {
      "text/plain": [
       "np.float64(2.0)"
      ]
     },
     "execution_count": 4,
     "metadata": {},
     "output_type": "execute_result"
    }
   ],
   "source": [
    "np.std(a)"
   ]
  },
  {
   "cell_type": "code",
   "execution_count": 5,
   "id": "ad8f3082",
   "metadata": {},
   "outputs": [],
   "source": [
    "b=a+4"
   ]
  },
  {
   "cell_type": "code",
   "execution_count": 6,
   "id": "4c487738",
   "metadata": {},
   "outputs": [],
   "source": [
    "b=np.mean(b)"
   ]
  },
  {
   "cell_type": "code",
   "execution_count": 7,
   "id": "5c350f90",
   "metadata": {},
   "outputs": [
    {
     "data": {
      "text/plain": [
       "np.float64(8.0)"
      ]
     },
     "execution_count": 7,
     "metadata": {},
     "output_type": "execute_result"
    }
   ],
   "source": [
    "b"
   ]
  },
  {
   "cell_type": "code",
   "execution_count": null,
   "id": "48140af2",
   "metadata": {},
   "outputs": [],
   "source": [
    "#background\n",
    "#foreground\n"
   ]
  },
  {
   "cell_type": "code",
   "execution_count": 8,
   "id": "bf27f406",
   "metadata": {},
   "outputs": [],
   "source": [
    "import pymysql"
   ]
  },
  {
   "cell_type": "code",
   "execution_count": 9,
   "id": "6b6938cf",
   "metadata": {},
   "outputs": [],
   "source": [
    "conn=pymysql.connect(host='127.0.0.1',user='play',passwd='123',database='sk17',port=3306)"
   ]
  },
  {
   "cell_type": "code",
   "execution_count": 13,
   "id": "80e0e2ab",
   "metadata": {},
   "outputs": [],
   "source": [
    "cur=conn.cursor()"
   ]
  },
  {
   "cell_type": "code",
   "execution_count": 14,
   "id": "2f53cc0f",
   "metadata": {},
   "outputs": [
    {
     "data": {
      "text/plain": [
       "1"
      ]
     },
     "execution_count": 14,
     "metadata": {},
     "output_type": "execute_result"
    }
   ],
   "source": [
    "cur.execute(\"show tables\")"
   ]
  },
  {
   "cell_type": "code",
   "execution_count": 15,
   "id": "303f26cd",
   "metadata": {},
   "outputs": [
    {
     "data": {
      "text/plain": [
       "(('stock_day',),)"
      ]
     },
     "execution_count": 15,
     "metadata": {},
     "output_type": "execute_result"
    }
   ],
   "source": [
    "cur.fetchall()"
   ]
  },
  {
   "cell_type": "code",
   "execution_count": 16,
   "id": "2be0854f",
   "metadata": {},
   "outputs": [],
   "source": [
    "sql=\"INSERT INTO stock_day VALUES (%s, %s, %s, %s, %s, %s, %s)\""
   ]
  },
  {
   "cell_type": "code",
   "execution_count": 18,
   "id": "3ab4d7d8",
   "metadata": {},
   "outputs": [
    {
     "data": {
      "text/plain": [
       "1"
      ]
     },
     "execution_count": 18,
     "metadata": {},
     "output_type": "execute_result"
    }
   ],
   "source": [
    "cur.execute(sql,['2025-05-29',123,123,123,123,123,123])"
   ]
  },
  {
   "cell_type": "code",
   "execution_count": 19,
   "id": "35e22ac6",
   "metadata": {},
   "outputs": [],
   "source": [
    "conn.commit()"
   ]
  },
  {
   "cell_type": "code",
   "execution_count": null,
   "id": "a6e14099",
   "metadata": {},
   "outputs": [],
   "source": [
    "# 테이블 만들고\n",
    "# 주식->차트->\n",
    "# 날짜 형태로 바꾸고\n",
    "# ㅁㅏ지막 float\n",
    "# pk에서 auto~머시기는 빼도됨\n",
    "# 테이블구조 이해 및 생성\n",
    "\n",
    "\n",
    "# primarykey(st_code,st_date)\n",
    "\n",
    "\n",
    "# ~CHAR:문자"
   ]
  },
  {
   "cell_type": "code",
   "execution_count": 24,
   "id": "df8c2309",
   "metadata": {},
   "outputs": [],
   "source": [
    "import requests\n",
    "\n",
    "data=eval(requests.get(\"https://m.stock.naver.com/front-api/external/chart/domestic/info?symbol=403490&requestType=1&startTime=20230406&endTime=20231220&timeframe=day\").text.strip())"
   ]
  },
  {
   "cell_type": "code",
   "execution_count": 29,
   "id": "b8dadfda",
   "metadata": {},
   "outputs": [
    {
     "data": {
      "text/plain": [
       "[['날짜', '시가', '고가', '저가', '종가', '거래량', '외국인소진율'],\n",
       " ['20230919', 3060, 3350, 2740, 3100, 21656452, 0.09],\n",
       " ['20230920', 3325, 4030, 2995, 3550, 90894804, 0.1],\n",
       " ['20230921', 3610, 3865, 3315, 3330, 47821214, 0.12],\n",
       " ['20230922', 3165, 3450, 2940, 3115, 16399193, 0.17],\n",
       " ['20230925', 3040, 3430, 2850, 3000, 33140757, 0.33],\n",
       " ['20230926', 3130, 3425, 2975, 3115, 31516300, 0.06],\n",
       " ['20230927', 3095, 3260, 2995, 3115, 18407398, 0.03],\n",
       " ['20231004', 3075, 3135, 2800, 2800, 6563986, 0.07],\n",
       " ['20231005', 2835, 2920, 2555, 2670, 12576392, 0.1],\n",
       " ['20231006', 2625, 2780, 2615, 2630, 3824029, 0.71],\n",
       " ['20231010', 2640, 2665, 2200, 2200, 6186064, 0.31],\n",
       " ['20231011', 2240, 2315, 2220, 2250, 3619444, 0.87],\n",
       " ['20231012', 2240, 2575, 2225, 2300, 8876875, 0.53],\n",
       " ['20231013', 2285, 2535, 2250, 2305, 8636798, 0.15],\n",
       " ['20231016', 2290, 2325, 2155, 2165, 2412739, 0.1],\n",
       " ['20231017', 2200, 2235, 2095, 2110, 2319747, 0.24],\n",
       " ['20231018', 2060, 2115, 1969, 1976, 2810263, 0.32],\n",
       " ['20231019', 1930, 1930, 1835, 1910, 1863888, 0.48],\n",
       " ['20231020', 1938, 1947, 1775, 1785, 2046328, 0.05],\n",
       " ['20231023', 1785, 2320, 1785, 2320, 22412989, 0.54],\n",
       " ['20231024', 2610, 2680, 2280, 2390, 36165786, 0.56],\n",
       " ['20231025', 2575, 3105, 2535, 3105, 35934724, 0.41],\n",
       " ['20231026', 3135, 3240, 2645, 2730, 34767794, 1.16],\n",
       " ['20231027', 2670, 2805, 2480, 2480, 10286094, 1.65],\n",
       " ['20231030', 2530, 2630, 2380, 2440, 9757316, 1.03],\n",
       " ['20231031', 2455, 2710, 2275, 2430, 10726855, 0.19],\n",
       " ['20231101', 2405, 2685, 2385, 2585, 13082135, 1.43],\n",
       " ['20231102', 2580, 2660, 2495, 2610, 5177243, 2.19],\n",
       " ['20231103', 2655, 2665, 2430, 2465, 3699881, 1.53],\n",
       " ['20231106', 2475, 2475, 2330, 2365, 3701114, 2.22],\n",
       " ['20231107', 2365, 2365, 2135, 2200, 3332295, 0.83],\n",
       " ['20231108', 2200, 2230, 2105, 2110, 1602845, 0.7],\n",
       " ['20231109', 2075, 2275, 2070, 2090, 4485577, 0.14],\n",
       " ['20231110', 2120, 2215, 2045, 2140, 3698656, 0.04],\n",
       " ['20231113', 2160, 2280, 2090, 2095, 2639495, 0.05],\n",
       " ['20231114', 2060, 2165, 2060, 2110, 1720828, 0.06],\n",
       " ['20231115', 2125, 2160, 2105, 2115, 1077399, 0.1],\n",
       " ['20231116', 2115, 2665, 2110, 2490, 30886587, 0.04],\n",
       " ['20231117', 2450, 2495, 2335, 2420, 5682124, 0.15],\n",
       " ['20231120', 2395, 2885, 2350, 2610, 37695717, 0.15],\n",
       " ['20231121', 2570, 3130, 2560, 2735, 60081360, 0.12],\n",
       " ['20231122', 2885, 3145, 2765, 2795, 43912304, 0.08],\n",
       " ['20231123', 2765, 3015, 2705, 2880, 27550430, 0.03],\n",
       " ['20231124', 2830, 3000, 2790, 2820, 9451430, 0.09],\n",
       " ['20231127', 2860, 3330, 2855, 3270, 47462262, 0.37],\n",
       " ['20231128', 3475, 3545, 3020, 3050, 17462554, 0.22],\n",
       " ['20231129', 3300, 3350, 2900, 3040, 12492853, 0.11],\n",
       " ['20231130', 2995, 3055, 2870, 2950, 4024060, 0.44],\n",
       " ['20231201', 2930, 2980, 2800, 2810, 2943355, 0.48],\n",
       " ['20231204', 2840, 2885, 2780, 2855, 2201906, 0.54],\n",
       " ['20231205', 2850, 3065, 2815, 2950, 6738168, 1.02],\n",
       " ['20231206', 2980, 2995, 2800, 2895, 2516377, 0.7],\n",
       " ['20231207', 2860, 2880, 2785, 2820, 1821231, 0.25],\n",
       " ['20231208', 2890, 3140, 2860, 3030, 9877684, 0.25],\n",
       " ['20231211', 3000, 3060, 2960, 2990, 2764613, 0.8],\n",
       " ['20231212', 2990, 3020, 2885, 2905, 1779218, 0.49],\n",
       " ['20231213', 2890, 2890, 2750, 2750, 2053838, 0.17],\n",
       " ['20231214', 2775, 2805, 2635, 2650, 1637327, 0.16],\n",
       " ['20231215', 2650, 2800, 2590, 2770, 2105346, 0.45],\n",
       " ['20231218', 2760, 2760, 2655, 2690, 1106449, 0.55],\n",
       " ['20231219', 2725, 2740, 2660, 2700, 882420, 0.53],\n",
       " ['20231220', 2705, 2745, 2660, 2700, 1058051, 0.43]]"
      ]
     },
     "execution_count": 29,
     "metadata": {},
     "output_type": "execute_result"
    }
   ],
   "source": [
    "data"
   ]
  },
  {
   "cell_type": "code",
   "execution_count": null,
   "id": "5248dfcc",
   "metadata": {},
   "outputs": [],
   "source": [
    "\n",
    "import pymysql\n",
    "import requests\n",
    "\n",
    "conn=pymysql.connect(host='127.0.0.1',user='play',passwd='123',database='sk17',port=3306)\n",
    "cur=conn.cursor()\n",
    "sql=\"INSERT INTO naver_day_stock VALUES (%s, %s, %s, %s, %s, %s, %s)\"\n",
    "cur.execute(sql,['2025-05-29',123,123,123,123,123,123])\n",
    "conn.commit()\n",
    "\n",
    "\n",
    "data=eval(requests.get(\"https://m.stock.naver.com/front-api/external/chart/domestic/info?symbol={st_code}&requestType=1&startTime={st_open}&endTime={st_close}&timeframe=day\").text.strip())\n",
    "\n",
    "\n"
   ]
  }
 ],
 "metadata": {
  "kernelspec": {
   "display_name": "streamlit",
   "language": "python",
   "name": "python3"
  },
  "language_info": {
   "codemirror_mode": {
    "name": "ipython",
    "version": 3
   },
   "file_extension": ".py",
   "mimetype": "text/x-python",
   "name": "python",
   "nbconvert_exporter": "python",
   "pygments_lexer": "ipython3",
   "version": "3.9.21"
  }
 },
 "nbformat": 4,
 "nbformat_minor": 5
}
