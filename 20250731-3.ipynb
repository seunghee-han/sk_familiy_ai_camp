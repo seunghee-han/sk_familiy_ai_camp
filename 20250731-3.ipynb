{
 "cells": [
  {
   "cell_type": "code",
   "execution_count": 4,
   "id": "b827d424",
   "metadata": {},
   "outputs": [],
   "source": [
    "from pytubefix import YouTube\n",
    "from openai import OpenAI\n",
    "from pytubefix.cli import on_progress\n"
   ]
  },
  {
   "cell_type": "code",
   "execution_count": 3,
   "id": "76e885c9",
   "metadata": {},
   "outputs": [],
   "source": [
    "url = \"https://www.youtube.com/watch?v=O-ZfXbfAMKU\""
   ]
  },
  {
   "cell_type": "code",
   "execution_count": 5,
   "id": "354596e4",
   "metadata": {},
   "outputs": [],
   "source": [
    "yt = YouTube(url, on_progress_callback=on_progress)"
   ]
  },
  {
   "cell_type": "code",
   "execution_count": 6,
   "id": "bfadf5a5",
   "metadata": {},
   "outputs": [
    {
     "data": {
      "text/plain": [
       "'Codex CLI with codex-mini'"
      ]
     },
     "execution_count": 6,
     "metadata": {},
     "output_type": "execute_result"
    }
   ],
   "source": [
    "yt.title"
   ]
  },
  {
   "cell_type": "code",
   "execution_count": 7,
   "id": "a48a362c",
   "metadata": {},
   "outputs": [],
   "source": [
    "ys = yt.streams.get_highest_resolution()"
   ]
  },
  {
   "cell_type": "code",
   "execution_count": 8,
   "id": "27a8c440",
   "metadata": {},
   "outputs": [
    {
     "name": "stdout",
     "output_type": "stream",
     "text": [
      " ↳ |████████████████████████████████████████████| 100.0%\r"
     ]
    },
    {
     "data": {
      "text/plain": [
       "'/home/play/workspace/Codex CLI with codex-mini.mp4'"
      ]
     },
     "execution_count": 8,
     "metadata": {},
     "output_type": "execute_result"
    }
   ],
   "source": [
    "ys.download()"
   ]
  },
  {
   "cell_type": "code",
   "execution_count": 9,
   "id": "9b991f9b",
   "metadata": {},
   "outputs": [],
   "source": [
    "ys_audio = yt.streams.get_audio_only()"
   ]
  },
  {
   "cell_type": "code",
   "execution_count": 10,
   "id": "452cd32b",
   "metadata": {},
   "outputs": [
    {
     "name": "stdout",
     "output_type": "stream",
     "text": [
      " ↳ |████████████████████████████████████████████| 100.0%\r"
     ]
    },
    {
     "data": {
      "text/plain": [
       "'/home/play/workspace/Codex CLI with codex-mini.m4a'"
      ]
     },
     "execution_count": 10,
     "metadata": {},
     "output_type": "execute_result"
    }
   ],
   "source": [
    "ys_audio.download()"
   ]
  },
  {
   "cell_type": "code",
   "execution_count": 11,
   "id": "6c780589",
   "metadata": {},
   "outputs": [],
   "source": [
    "file_path = '/home/play/workspace/Codex CLI with codex-mini.m4a'"
   ]
  },
  {
   "cell_type": "markdown",
   "id": "141c3320",
   "metadata": {},
   "source": []
  },
  {
   "cell_type": "code",
   "execution_count": 14,
   "id": "8ef4e186",
   "metadata": {},
   "outputs": [],
   "source": [
    "client = OpenAI()\n",
    "with open(file_path, \"rb\") as audio:\n",
    "    script = client.audio.transcriptions.create(\n",
    "        model='whisper-1',\n",
    "        response_format='srt',\n",
    "        file=audio\n",
    "    )"
   ]
  },
  {
   "cell_type": "code",
   "execution_count": 17,
   "id": "fd8bbfb5",
   "metadata": {},
   "outputs": [],
   "source": [
    "with open(file_path.replace(\"m4a\", 'srt'), 'w', encoding='utf-8') as f:\n",
    "    f.write(script)"
   ]
  },
  {
   "cell_type": "code",
   "execution_count": 21,
   "id": "1c45ee59",
   "metadata": {},
   "outputs": [],
   "source": [
    "def trans(text):\n",
    "    prompt=f\"\"\"\n",
    "    당신은 번역기입니다. 사용자의 입력을 영어를 한글로 번역하세요. \n",
    "    \"\"\"\n",
    "\n",
    "    response = client.chat.completions.create(\n",
    "            model='gpt-4.1-2025-04-14',\n",
    "            messages=[\n",
    "                {\"role\" : \"system\", \"content\" : prompt},\n",
    "                {'role': 'user', \"content\" : text}\n",
    "            ]\n",
    "        )\n",
    "    return response.choices[0].message.content"
   ]
  },
  {
   "cell_type": "code",
   "execution_count": 22,
   "id": "4a0321ae",
   "metadata": {},
   "outputs": [
    {
     "data": {
      "text/plain": [
       "'우리는 모두 OpenAI의 에이전트 팀에서 연구원입니다.'"
      ]
     },
     "execution_count": 22,
     "metadata": {},
     "output_type": "execute_result"
    }
   ],
   "source": [
    "trans(\"We are all researchers on the Agents team at OpenAI.\")"
   ]
  },
  {
   "cell_type": "code",
   "execution_count": 32,
   "id": "0453569f",
   "metadata": {},
   "outputs": [],
   "source": [
    "import re \n",
    "p = re.compile(\"^[a-zA-Z]+\")"
   ]
  },
  {
   "cell_type": "code",
   "execution_count": 44,
   "id": "3cc6e516",
   "metadata": {},
   "outputs": [
    {
     "data": {
      "text/plain": [
       "['aaa']"
      ]
     },
     "execution_count": 44,
     "metadata": {},
     "output_type": "execute_result"
    }
   ],
   "source": [
    "p.findall('aaa')"
   ]
  },
  {
   "cell_type": "code",
   "execution_count": 47,
   "id": "245f5b67",
   "metadata": {},
   "outputs": [
    {
     "data": {
      "text/plain": [
       "(0, '1\\n')"
      ]
     },
     "execution_count": 47,
     "metadata": {},
     "output_type": "execute_result"
    }
   ],
   "source": [
    "line"
   ]
  },
  {
   "cell_type": "code",
   "execution_count": 48,
   "id": "2434133d",
   "metadata": {},
   "outputs": [],
   "source": [
    "total = []\n",
    "with open(file_path.replace(\"m4a\", 'srt'), 'r', encoding='utf-8') as f:\n",
    "    for line in f:\n",
    "        if len(p.findall(line)) > 0:\n",
    "            tras_line = trans(line)\n",
    "            total.append(tras_line)\n",
    "        else:\n",
    "            total.append(line)"
   ]
  },
  {
   "cell_type": "code",
   "execution_count": 50,
   "id": "1c1ead70",
   "metadata": {},
   "outputs": [],
   "source": [
    "with open(\"./aaa.srt\", 'w') as f:\n",
    "    for words in total:\n",
    "        f.write(words)"
   ]
  }
 ],
 "metadata": {
  "kernelspec": {
   "display_name": "openai",
   "language": "python",
   "name": "python3"
  },
  "language_info": {
   "codemirror_mode": {
    "name": "ipython",
    "version": 3
   },
   "file_extension": ".py",
   "mimetype": "text/x-python",
   "name": "python",
   "nbconvert_exporter": "python",
   "pygments_lexer": "ipython3",
   "version": "3.12.11"
  }
 },
 "nbformat": 4,
 "nbformat_minor": 5
}
