{
 "cells": [
  {
   "cell_type": "code",
   "execution_count": 13,
   "id": "8429b555-2c15-4fe5-922f-0bcfe5edb2cb",
   "metadata": {},
   "outputs": [],
   "source": [
    "def AND(x1, x2):\n",
    "    tmp = x1*0.5 + x2*0.5\n",
    "    # return tmp\n",
    "    return 1 if tmp > 0.5 else 0"
   ]
  },
  {
   "cell_type": "code",
   "execution_count": 14,
   "id": "39a31815-3efe-4ced-a2b3-5e7b03abecc1",
   "metadata": {},
   "outputs": [
    {
     "name": "stdout",
     "output_type": "stream",
     "text": [
      "0 0 -> 0\n",
      "0 1 -> 0\n",
      "1 0 -> 0\n",
      "1 1 -> 1\n"
     ]
    }
   ],
   "source": [
    "for x1, x2 in [[0,0], [0,1], [1, 0], [1,1]]:\n",
    "    print(f\"{x1} {x2} -> {AND(x1,x2)}\")"
   ]
  },
  {
   "cell_type": "code",
   "execution_count": 17,
   "id": "d23b3cba-f891-4b88-9ed4-6894aafc5ea3",
   "metadata": {},
   "outputs": [],
   "source": [
    "def OR(x1, x2):\n",
    "    tmp = x1*0.5 + x2*0.5\n",
    "    # return tmp\n",
    "    return 1 if tmp >= 0.5 else 0"
   ]
  },
  {
   "cell_type": "code",
   "execution_count": 18,
   "id": "a97d8ab8-cdf1-46fa-9524-6a5320cc9ba3",
   "metadata": {},
   "outputs": [
    {
     "name": "stdout",
     "output_type": "stream",
     "text": [
      "0 0 -> 0\n",
      "0 1 -> 1\n",
      "1 0 -> 1\n",
      "1 1 -> 1\n"
     ]
    }
   ],
   "source": [
    "for x1, x2 in [[0,0], [0,1], [1, 0], [1,1]]:\n",
    "    print(f\"{x1} {x2} -> {OR(x1,x2)}\")"
   ]
  },
  {
   "cell_type": "code",
   "execution_count": 22,
   "id": "09176aad-228c-48ff-a518-f8ab5948784a",
   "metadata": {},
   "outputs": [],
   "source": [
    "def NAND(x1, x2):\n",
    "    tmp = x1*0.5 + x2*0.5\n",
    "    # return tmp\n",
    "    return 1 if not (1 if tmp > 0.5 else 0) else 0"
   ]
  },
  {
   "cell_type": "code",
   "execution_count": 23,
   "id": "babcb3b6-ee22-4a6d-b36a-216cd26a57d5",
   "metadata": {},
   "outputs": [
    {
     "name": "stdout",
     "output_type": "stream",
     "text": [
      "0 0 -> 1\n",
      "0 1 -> 1\n",
      "1 0 -> 1\n",
      "1 1 -> 0\n"
     ]
    }
   ],
   "source": [
    "for x1, x2 in [[0,0], [0,1], [1, 0], [1,1]]:\n",
    "    print(f\"{x1} {x2} -> {NAND(x1,x2)}\")"
   ]
  },
  {
   "cell_type": "code",
   "execution_count": 24,
   "id": "d003b433-13bc-4ecf-a4e5-82bca600fd99",
   "metadata": {},
   "outputs": [],
   "source": [
    "def XOR(x1, x2):\n",
    "    s1 = NAND(x1, x2)\n",
    "    s2 = OR(x1, x2)\n",
    "    y = AND(s1, s2)\n",
    "    return y"
   ]
  },
  {
   "cell_type": "code",
   "execution_count": 25,
   "id": "bc7fc786-e624-4701-bf18-be1b0a1695ff",
   "metadata": {},
   "outputs": [
    {
     "name": "stdout",
     "output_type": "stream",
     "text": [
      "0 0 -> 0\n",
      "0 1 -> 1\n",
      "1 0 -> 1\n",
      "1 1 -> 0\n"
     ]
    }
   ],
   "source": [
    "for x1, x2 in [[0,0], [0,1], [1, 0], [1,1]]:\n",
    "    print(f\"{x1} {x2} -> {XOR(x1,x2)}\")"
   ]
  }
 ],
 "metadata": {
  "kernelspec": {
   "display_name": "Python 3 (ipykernel)",
   "language": "python",
   "name": "python3"
  },
  "language_info": {
   "codemirror_mode": {
    "name": "ipython",
    "version": 3
   },
   "file_extension": ".py",
   "mimetype": "text/x-python",
   "name": "python",
   "nbconvert_exporter": "python",
   "pygments_lexer": "ipython3",
   "version": "3.10.8"
  }
 },
 "nbformat": 4,
 "nbformat_minor": 5
}
