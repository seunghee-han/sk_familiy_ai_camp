{
 "cells": [
  {
   "cell_type": "code",
   "execution_count": 43,
   "id": "14b11039",
   "metadata": {},
   "outputs": [],
   "source": [
    "from langchain_core.runnables import RunnableLambda, RunnablePassthrough,RunnableMap\n"
   ]
  },
  {
   "cell_type": "code",
   "execution_count": 44,
   "id": "5105fea5",
   "metadata": {},
   "outputs": [],
   "source": [
    "uppercase = RunnableLambda(lambda x : x.upper(), name='to_upper')"
   ]
  },
  {
   "cell_type": "code",
   "execution_count": 49,
   "id": "170159ac",
   "metadata": {},
   "outputs": [
    {
     "data": {
      "text/plain": [
       "AIMessage(content='Hello! How can I help you today? 😊', additional_kwargs={'refusal': None}, response_metadata={'token_usage': {'completion_tokens': 10, 'prompt_tokens': 8, 'total_tokens': 18, 'completion_tokens_details': {'accepted_prediction_tokens': 0, 'audio_tokens': 0, 'reasoning_tokens': 0, 'rejected_prediction_tokens': 0}, 'prompt_tokens_details': {'audio_tokens': 0, 'cached_tokens': 0}}, 'model_name': 'gpt-4.1-2025-04-14', 'system_fingerprint': 'fp_799e4ca3f1', 'id': 'chatcmpl-BzaYynXlGjhsHL3pSzp5Tt0g6QgB4', 'service_tier': 'default', 'finish_reason': 'stop', 'logprobs': None}, id='run--621557e6-5589-4807-88ad-556c436b0aca-0', usage_metadata={'input_tokens': 8, 'output_tokens': 10, 'total_tokens': 18, 'input_token_details': {'audio': 0, 'cache_read': 0}, 'output_token_details': {'audio': 0, 'reasoning': 0}})"
      ]
     },
     "execution_count": 49,
     "metadata": {},
     "output_type": "execute_result"
    }
   ],
   "source": [
    "from langchain_openai import ChatOpenAI\n",
    "model = ChatOpenAI(model='gpt-4.1-2025-04-14')\n",
    "import os\n",
    "\n",
    "\n",
    "chain  = uppercase | model\n",
    "chain.invoke(\"Hi\")\n"
   ]
  },
  {
   "cell_type": "code",
   "execution_count": 18,
   "metadata": {},
   "outputs": [
    {
     "data": {
      "text/plain": [
       "{'original': 'Nice to meet you',\n",
       " 'translated': AIMessage(content='\"Nice to meet you\"의 한국어 번역은:\\n\\n만나서 반갑습니다.', additional_kwargs={'refusal': None}, response_metadata={'token_usage': {'completion_tokens': 20, 'prompt_tokens': 19, 'total_tokens': 39, 'completion_tokens_details': {'accepted_prediction_tokens': 0, 'audio_tokens': 0, 'reasoning_tokens': 0, 'rejected_prediction_tokens': 0}, 'prompt_tokens_details': {'audio_tokens': 0, 'cached_tokens': 0}}, 'model_name': 'gpt-4.1-2025-04-14', 'system_fingerprint': 'fp_b3f1157249', 'id': 'chatcmpl-BzY1bP5FQbP6ur5nLWbNKBZh02erq', 'service_tier': 'default', 'finish_reason': 'stop', 'logprobs': None}, id='run--37f7ef0b-734f-4488-8334-a2c87e1c079b-0', usage_metadata={'input_tokens': 19, 'output_tokens': 20, 'total_tokens': 39, 'input_token_details': {'audio': 0, 'cache_read': 0}, 'output_token_details': {'audio': 0, 'reasoning': 0}})}"
      ]
     },
     "execution_count": 18,
     "metadata": {},
     "output_type": "execute_result"
    }
   ],
   "source": [
    "\n",
    "format_prompt = RunnableLambda(lambda x : f\"한국어로 번역할 것 : {x}\")\n",
    "pipeline = RunnableMap(\n",
    "    {\n",
    "    'original' : RunnablePassthrough(),\n",
    "    'translated' : format_prompt | model\n",
    "    }\n",
    ")\n",
    "\n",
    "pipeline.invoke(\"Nice to meet you\")\n"
   ]
  },
  {
   "cell_type": "code",
   "execution_count": 19,
   "id": "e644f0e3",
   "metadata": {},
   "outputs": [],
   "source": [
    "from langchain_experimental.text_splitter import SemanticChunker\n",
    "from langchain_openai.embeddings import OpenAIEmbeddings"
   ]
  },
  {
   "cell_type": "code",
   "execution_count": 20,
   "metadata": {},
   "outputs": [],
   "source": [
    "text = \"\"\"토트넘 홋스퍼는 지난 31일 오후 8시 30분(한국시간) 홍콩 카이탁에 위치한 카이탁 스포츠 타운에서 열린 프리시즌 아시아 투어 친선경기에서 아스널에 1-0으로 승리했다. 이로써 토트넘은 최고의 분위기 속, 한국으로 향해 오는 3일 서울월드컵경기장에서 뉴캐슬 유나이티드와 맞대결을 펼친다.\n",
    "\n",
    "\n",
    "총력을 다하겠다고 선언한 토마스 프랭크 감독. 손흥민을 벤치로 내렸다. 토트넘은 오도베르, 히샬리송, 쿠두스, 베리발, 사르, 벤탄쿠르, 스펜스, 반 더 벤, 로메로, 포로, 비카리오로 선발 라인업을 꾸렸다. 손흥민과 양민혁은 벤치에서 경기를 지켜봤다.\n",
    "\n",
    "\n",
    "토트넘은 아스널을 상대로 단단한 짜임새를 보여줬다. 오도베르와 쿠두스가 양쪽 측면에서 활발하게 공격적인 움직임을 가져갔고, 수비는 아스널의 공격을 매번 차단했다. 빌드업도 인상적이었다. 토트넘은 전반 44분 상대의 실책을 놓치지 않은 사르가 골키퍼가 나온 것을 본 이후, 그대로 중앙선 부근에서 초장거리 원더골을 a성공시키며 1-0으로 전반을 마무리했다.\n",
    "\n",
    "\n",
    "후반에도 아스널의 맹공을 잘 지켜낸 토트넘이다. 토트넘은 라인을 내리고 수비에 집중했다. 아스널은 점유율을 높이며 박스 안으로 공을 투입했지만, 결정적인 슈팅이 나오지는 않았다. 손흥민은 후반 33분 그라운드를 밟았다. 후반 38분 역습 상황, 단독 드리블 돌파 이후 침투 패스를 넣으며 가벼운 몸놀림을 보여줬다. 후반 추가시간 종료 직전에도 스프린트에 이은 날카로운 왼발 크로스를 올리기도 했다.\n",
    "\n",
    "\n",
    "이변은 없었다. 경기는 토트넘의 1-0 승리로 막을 내렸다. 경기 직후 주최 측에서 준비한 2025 홍콩 투어 기념 시상식이 진행됐다. 흥미로운 장면이 포착됐다. 손흥민이 주장 완장을 히샬리송에게 채워주는 장면이었다. 아직 프랭크 감독 체제 '공식 주장'이 확정되지 않았기에, 손흥민은 경험을 해보라는 식으로 웃으며 히샬리송에게 완장을 건넸다.\n",
    "\n",
    "\n",
    "히샬리송도 환하게 웃으며 손흥민을 포옹했다. 이후 히샬리송은 몇 분간 완장을 차고 있었다. 시간이 흐르고 주최 측에서 세리머니를 위한 시상대를 준비했다. 시상대 앞에 선수들이 모여 들었는데, 중앙에는 역시 손흥민이 있었다. 손흥민의 왼팔에 다시 주장 완장이 채워져 있었다.\n",
    "\n",
    "\n",
    "권위가 있는 대회는 아니지만, 주최 측에서 준비한 승리팀 기념 트로피를 들고 세리머니를 펼쳐야 했기 때문이었다. 이에 히샬리송은 전임 주장이자, 토트넘 레전드인 손흥민에게 다시 완장을 건넨 것으로 보인다. 이후 손흥민은 멋쩍게 웃으며 선수들과 함께 트로피를 들어 올렸고, 아스널을 꺾은 기쁨을 누렸다.\"\"\"\n"
   ]
  },
  {
   "cell_type": "code",
   "execution_count": 29,
   "metadata": {},
   "outputs": [],
   "source": [
    "text_splitter = SemanticChunker(\n",
    "    OpenAIEmbeddings(),\n",
    "    breakpoint_threshold_type=\"percentile\", # 백분위수 기준\n",
    "    breakpoint_threshold_amount=70, # 임계값 70%\n",
    ")\n"
   ]
  },
  {
   "cell_type": "code",
   "execution_count": 30,
   "metadata": {},
   "outputs": [],
   "source": [
    "docs = text_splitter.create_documents([text])"
   ]
  },
  {
   "cell_type": "code",
   "execution_count": 31,
   "id": "76795e05",
   "metadata": {},
   "outputs": [
    {
     "data": {
      "text/plain": [
       "[Document(metadata={}, page_content='토트넘 홋스퍼는 지난 31일 오후 8시 30분(한국시간) 홍콩 카이탁에 위치한 카이탁 스포츠 타운에서 열린 프리시즌 아시아 투어 친선경기에서 아스널에 1-0으로 승리했다. 이로써 토트넘은 최고의 분위기 속, 한국으로 향해 오는 3일 서울월드컵경기장에서 뉴캐슬 유나이티드와 맞대결을 펼친다. 총력을 다하겠다고 선언한 토마스 프랭크 감독.'),\n",
       " Document(metadata={}, page_content='손흥민을 벤치로 내렸다. 토트넘은 오도베르, 히샬리송, 쿠두스, 베리발, 사르, 벤탄쿠르, 스펜스, 반 더 벤, 로메로, 포로, 비카리오로 선발 라인업을 꾸렸다. 손흥민과 양민혁은 벤치에서 경기를 지켜봤다.'),\n",
       " Document(metadata={}, page_content='토트넘은 아스널을 상대로 단단한 짜임새를 보여줬다. 오도베르와 쿠두스가 양쪽 측면에서 활발하게 공격적인 움직임을 가져갔고, 수비는 아스널의 공격을 매번 차단했다. 빌드업도 인상적이었다. 토트넘은 전반 44분 상대의 실책을 놓치지 않은 사르가 골키퍼가 나온 것을 본 이후, 그대로 중앙선 부근에서 초장거리 원더골을 a성공시키며 1-0으로 전반을 마무리했다. 후반에도 아스널의 맹공을 잘 지켜낸 토트넘이다.'),\n",
       " Document(metadata={}, page_content='토트넘은 라인을 내리고 수비에 집중했다. 아스널은 점유율을 높이며 박스 안으로 공을 투입했지만, 결정적인 슈팅이 나오지는 않았다. 손흥민은 후반 33분 그라운드를 밟았다.'),\n",
       " Document(metadata={}, page_content='후반 38분 역습 상황, 단독 드리블 돌파 이후 침투 패스를 넣으며 가벼운 몸놀림을 보여줬다. 후반 추가시간 종료 직전에도 스프린트에 이은 날카로운 왼발 크로스를 올리기도 했다.'),\n",
       " Document(metadata={}, page_content='이변은 없었다.'),\n",
       " Document(metadata={}, page_content='경기는 토트넘의 1-0 승리로 막을 내렸다. 경기 직후 주최 측에서 준비한 2025 홍콩 투어 기념 시상식이 진행됐다.'),\n",
       " Document(metadata={}, page_content='흥미로운 장면이 포착됐다.'),\n",
       " Document(metadata={}, page_content=\"손흥민이 주장 완장을 히샬리송에게 채워주는 장면이었다. 아직 프랭크 감독 체제 '공식 주장'이 확정되지 않았기에, 손흥민은 경험을 해보라는 식으로 웃으며 히샬리송에게 완장을 건넸다. 히샬리송도 환하게 웃으며 손흥민을 포옹했다.\"),\n",
       " Document(metadata={}, page_content='이후 히샬리송은 몇 분간 완장을 차고 있었다. 시간이 흐르고 주최 측에서 세리머니를 위한 시상대를 준비했다. 시상대 앞에 선수들이 모여 들었는데, 중앙에는 역시 손흥민이 있었다. 손흥민의 왼팔에 다시 주장 완장이 채워져 있었다. 권위가 있는 대회는 아니지만, 주최 측에서 준비한 승리팀 기념 트로피를 들고 세리머니를 펼쳐야 했기 때문이었다. 이에 히샬리송은 전임 주장이자, 토트넘 레전드인 손흥민에게 다시 완장을 건넨 것으로 보인다. 이후 손흥민은 멋쩍게 웃으며 선수들과 함께 트로피를 들어 올렸고, 아스널을 꺾은 기쁨을 누렸다.')]"
      ]
     },
     "execution_count": 31,
     "metadata": {},
     "output_type": "execute_result"
    }
   ],
   "source": [
    "docs"
   ]
  },
  {
   "cell_type": "code",
   "execution_count": 32,
   "id": "6beb19d8",
   "metadata": {},
   "outputs": [],
   "source": [
    "text_splitter = SemanticChunker(\n",
    "    OpenAIEmbeddings(),\n",
    "    breakpoint_threshold_type=\"standard_deviation\", # 표준편차 기준\n",
    "    breakpoint_threshold_amount=1.25, # 임계값 1.25\n",
    ")\n"
   ]
  },
  {
   "cell_type": "code",
   "execution_count": 33,
   "metadata": {},
   "outputs": [],
   "source": [
    "docs2 = text_splitter.create_documents([text])\n"
   ]
  },
  {
   "cell_type": "code",
   "execution_count": 34,
   "id": "6ddc0d50",
   "metadata": {},
   "outputs": [
    {
     "data": {
      "text/plain": [
       "[Document(metadata={}, page_content='토트넘 홋스퍼는 지난 31일 오후 8시 30분(한국시간) 홍콩 카이탁에 위치한 카이탁 스포츠 타운에서 열린 프리시즌 아시아 투어 친선경기에서 아스널에 1-0으로 승리했다. 이로써 토트넘은 최고의 분위기 속, 한국으로 향해 오는 3일 서울월드컵경기장에서 뉴캐슬 유나이티드와 맞대결을 펼친다. 총력을 다하겠다고 선언한 토마스 프랭크 감독.'),\n",
       " Document(metadata={}, page_content='손흥민을 벤치로 내렸다. 토트넘은 오도베르, 히샬리송, 쿠두스, 베리발, 사르, 벤탄쿠르, 스펜스, 반 더 벤, 로메로, 포로, 비카리오로 선발 라인업을 꾸렸다. 손흥민과 양민혁은 벤치에서 경기를 지켜봤다. 토트넘은 아스널을 상대로 단단한 짜임새를 보여줬다. 오도베르와 쿠두스가 양쪽 측면에서 활발하게 공격적인 움직임을 가져갔고, 수비는 아스널의 공격을 매번 차단했다. 빌드업도 인상적이었다. 토트넘은 전반 44분 상대의 실책을 놓치지 않은 사르가 골키퍼가 나온 것을 본 이후, 그대로 중앙선 부근에서 초장거리 원더골을 a성공시키며 1-0으로 전반을 마무리했다. 후반에도 아스널의 맹공을 잘 지켜낸 토트넘이다. 토트넘은 라인을 내리고 수비에 집중했다. 아스널은 점유율을 높이며 박스 안으로 공을 투입했지만, 결정적인 슈팅이 나오지는 않았다. 손흥민은 후반 33분 그라운드를 밟았다. 후반 38분 역습 상황, 단독 드리블 돌파 이후 침투 패스를 넣으며 가벼운 몸놀림을 보여줬다. 후반 추가시간 종료 직전에도 스프린트에 이은 날카로운 왼발 크로스를 올리기도 했다.'),\n",
       " Document(metadata={}, page_content='이변은 없었다. 경기는 토트넘의 1-0 승리로 막을 내렸다. 경기 직후 주최 측에서 준비한 2025 홍콩 투어 기념 시상식이 진행됐다. 흥미로운 장면이 포착됐다.'),\n",
       " Document(metadata={}, page_content=\"손흥민이 주장 완장을 히샬리송에게 채워주는 장면이었다. 아직 프랭크 감독 체제 '공식 주장'이 확정되지 않았기에, 손흥민은 경험을 해보라는 식으로 웃으며 히샬리송에게 완장을 건넸다. 히샬리송도 환하게 웃으며 손흥민을 포옹했다. 이후 히샬리송은 몇 분간 완장을 차고 있었다. 시간이 흐르고 주최 측에서 세리머니를 위한 시상대를 준비했다. 시상대 앞에 선수들이 모여 들었는데, 중앙에는 역시 손흥민이 있었다. 손흥민의 왼팔에 다시 주장 완장이 채워져 있었다. 권위가 있는 대회는 아니지만, 주최 측에서 준비한 승리팀 기념 트로피를 들고 세리머니를 펼쳐야 했기 때문이었다. 이에 히샬리송은 전임 주장이자, 토트넘 레전드인 손흥민에게 다시 완장을 건넨 것으로 보인다. 이후 손흥민은 멋쩍게 웃으며 선수들과 함께 트로피를 들어 올렸고, 아스널을 꺾은 기쁨을 누렸다.\")]"
      ]
     },
     "execution_count": 34,
     "metadata": {},
     "output_type": "execute_result"
    }
   ],
   "source": [
    "docs2"
   ]
  },
  {
   "cell_type": "code",
   "execution_count": 35,
   "id": "c73a71a9",
   "metadata": {},
   "outputs": [],
   "source": [
    "text_splitter = SemanticChunker(\n",
    "    OpenAIEmbeddings(),\n",
    "    breakpoint_threshold_type=\"interquartile\", # 사분위수 범위 기준\n",
    "    breakpoint_threshold_amount=0.5, # 임계값 0.5\n",
    ")\n"
   ]
  },
  {
   "cell_type": "code",
   "execution_count": null,
   "metadata": {},
   "outputs": [],
   "source": [
    "docs3 = text_splitter.create_documents([text])\n"
   ]
  },
  {
   "cell_type": "code",
   "execution_count": 37,
   "id": "7b6cfb45",
   "metadata": {},
   "outputs": [
    {
     "data": {
      "text/plain": [
       "[Document(metadata={}, page_content='토트넘 홋스퍼는 지난 31일 오후 8시 30분(한국시간) 홍콩 카이탁에 위치한 카이탁 스포츠 타운에서 열린 프리시즌 아시아 투어 친선경기에서 아스널에 1-0으로 승리했다. 이로써 토트넘은 최고의 분위기 속, 한국으로 향해 오는 3일 서울월드컵경기장에서 뉴캐슬 유나이티드와 맞대결을 펼친다. 총력을 다하겠다고 선언한 토마스 프랭크 감독.'),\n",
       " Document(metadata={}, page_content='손흥민을 벤치로 내렸다. 토트넘은 오도베르, 히샬리송, 쿠두스, 베리발, 사르, 벤탄쿠르, 스펜스, 반 더 벤, 로메로, 포로, 비카리오로 선발 라인업을 꾸렸다. 손흥민과 양민혁은 벤치에서 경기를 지켜봤다. 토트넘은 아스널을 상대로 단단한 짜임새를 보여줬다. 오도베르와 쿠두스가 양쪽 측면에서 활발하게 공격적인 움직임을 가져갔고, 수비는 아스널의 공격을 매번 차단했다. 빌드업도 인상적이었다. 토트넘은 전반 44분 상대의 실책을 놓치지 않은 사르가 골키퍼가 나온 것을 본 이후, 그대로 중앙선 부근에서 초장거리 원더골을 a성공시키며 1-0으로 전반을 마무리했다. 후반에도 아스널의 맹공을 잘 지켜낸 토트넘이다.'),\n",
       " Document(metadata={}, page_content='토트넘은 라인을 내리고 수비에 집중했다. 아스널은 점유율을 높이며 박스 안으로 공을 투입했지만, 결정적인 슈팅이 나오지는 않았다. 손흥민은 후반 33분 그라운드를 밟았다.'),\n",
       " Document(metadata={}, page_content='후반 38분 역습 상황, 단독 드리블 돌파 이후 침투 패스를 넣으며 가벼운 몸놀림을 보여줬다. 후반 추가시간 종료 직전에도 스프린트에 이은 날카로운 왼발 크로스를 올리기도 했다.'),\n",
       " Document(metadata={}, page_content='이변은 없었다.'),\n",
       " Document(metadata={}, page_content='경기는 토트넘의 1-0 승리로 막을 내렸다. 경기 직후 주최 측에서 준비한 2025 홍콩 투어 기념 시상식이 진행됐다.'),\n",
       " Document(metadata={}, page_content='흥미로운 장면이 포착됐다.'),\n",
       " Document(metadata={}, page_content=\"손흥민이 주장 완장을 히샬리송에게 채워주는 장면이었다. 아직 프랭크 감독 체제 '공식 주장'이 확정되지 않았기에, 손흥민은 경험을 해보라는 식으로 웃으며 히샬리송에게 완장을 건넸다. 히샬리송도 환하게 웃으며 손흥민을 포옹했다.\"),\n",
       " Document(metadata={}, page_content='이후 히샬리송은 몇 분간 완장을 차고 있었다. 시간이 흐르고 주최 측에서 세리머니를 위한 시상대를 준비했다. 시상대 앞에 선수들이 모여 들었는데, 중앙에는 역시 손흥민이 있었다. 손흥민의 왼팔에 다시 주장 완장이 채워져 있었다. 권위가 있는 대회는 아니지만, 주최 측에서 준비한 승리팀 기념 트로피를 들고 세리머니를 펼쳐야 했기 때문이었다. 이에 히샬리송은 전임 주장이자, 토트넘 레전드인 손흥민에게 다시 완장을 건넨 것으로 보인다. 이후 손흥민은 멋쩍게 웃으며 선수들과 함께 트로피를 들어 올렸고, 아스널을 꺾은 기쁨을 누렸다.')]"
      ]
     },
     "execution_count": 37,
     "metadata": {},
     "output_type": "execute_result"
    }
   ],
   "source": [
    "docs3"
   ]
  },
  {
   "cell_type": "code",
   "execution_count": 39,
   "id": "c8ba343b",
   "metadata": {},
   "outputs": [],
   "source": [
    "from langchain_text_splitters import Language,  RecursiveCharacterTextSplitter\n",
    "\n",
    "PYTHON_CODE = \"\"\"\n",
    "def hello_world():\n",
    "    print(\"Hello, World!\")\n",
    "\n",
    "\n",
    "hello_world()\n",
    "\"\"\"\n",
    "\n",
    "\n",
    "python_splitter = RecursiveCharacterTextSplitter.from_language(\n",
    "    language=Language.PYTHON, chunk_size=50, chunk_overlap=0\n",
    ")\n"
   ]
  },
  {
   "cell_type": "code",
   "execution_count": 40,
   "id": "90082090",
   "metadata": {},
   "outputs": [],
   "source": [
    "python_docs = python_splitter.create_documents([PYTHON_CODE])"
   ]
  },
  {
   "cell_type": "code",
   "execution_count": 41,
   "metadata": {},
   "outputs": [],
   "source": [
    "from langchain_text_splitters import MarkdownHeaderTextSplitter"
   ]
  },
  {
   "cell_type": "code",
   "execution_count": 42,
   "metadata": {},
   "outputs": [],
   "source": [
    "markdown_document = \"\"\"\n",
    "# Title\n",
    "\n",
    "\n",
    "## 1. SubTitle\n",
    "\n",
    "\n",
    "Hi this is Jim\n",
    "\n",
    "\n",
    "Hi this is Joe\n",
    "\n",
    "\n",
    "### 1-1. Sub-SubTitle\n",
    "\n",
    "\n",
    "Hi this is Lance\n",
    "\n",
    "\n",
    "## 2. Baz\n",
    "\n",
    "\n",
    "Hi this is Molly\n",
    "\"\"\"\n"
   ]
  },
  {
   "cell_type": "code",
   "execution_count": null,
   "id": "3a12872d",
   "metadata": {},
   "outputs": [],
   "source": [
    "headers_to_split_on = [\n",
    "    (\"#\", \"Header 1\"), # 헤더 레벨 1은 '#'로 표시되며, 'Header 1'이라는 이름을 가집니다.\n",
    "    (\"##\", \"Header 2\"), # 헤더 레벨 2는 '##'로 표시되며, 'Header 2'라는 이름을 가집니다.\n",
    "    (\"###\", \"Header 3\"), # 헤더 레벨 3은 '###'로 표시되며, 'Header 3'이라는 이름을 가집니다.\n",
    "]\n",
    "\n",
    "markdown_splitter = MarkdownHeaderTextSplitter(\n",
    "    headers_to_split_on=headers_to_split_on\n",
    ")\n",
    "\n",
    "\n",
    "md_header_splits = markdown_splitter.split_text(markdown_document)\n",
    "\n",
    "for header in md_header_splits:\n",
    "    print(f\"{header.page_content}\")\n",
    "    print(f\"{header.metadata}\", end=\"\\n=====================\\n\")\n"
   ]
  },
  {
   "cell_type": "code",
   "execution_count": null,
   "metadata": {},
   "outputs": [],
   "source": [
    "from langchain_text_splitters import (\n",
    "    Language,\n",
    "    RecursiveCharacterTextSplitter,\n",
    "    MarkdownHeaderTextSplitter,\n",
    ")\n",
    "\n",
    "\n",
    "markdown_document_long = \"\"\"\n",
    "# Intro\n",
    "\n",
    "\n",
    "## History\n",
    "\n",
    "\n",
    "Markdown is a lightweight markup language for creating formatted text using a plain-text editor. John Gruber created Markdown in 2004 as a markup language that is appealing to human readers in its source code form.\n",
    "\n",
    "\n",
    "Markdown is widely used in blogging, instant messaging, online forums, collaborative software, documentation pages, and readme files.\n",
    "\n",
    "\n",
    "## Rise and divergence\n",
    "\n",
    "\n",
    "As Markdown popularity grew rapidly, many Markdown implementations appeared, driven mostly by the need for\n",
    "\n",
    "\n",
    "additional features such as tables, footnotes, definition lists,[note 1] and Markdown inside HTML blocks.\n",
    "\n",
    "\n",
    "#### Standardization\n",
    "\n",
    "\n",
    "From 2012, a group of people, including Jeff Atwood and John MacFarlane, launched what Atwood characterized as a standardization effort.\n",
    "\n",
    "\n",
    "# Implementations\n",
    "\n",
    "\n",
    "Implementations of Markdown are available for over a dozen programming languages.\n",
    "\"\"\""
   ]
  },
  {
   "cell_type": "code",
   "execution_count": null,
   "metadata": {},
   "outputs": [],
   "source": [
    "headers_to_split_on = [(\"#\", \"Header 1\")]\n",
    "markdown_splitter = MarkdownHeaderTextSplitter(\n",
    "    headers_to_split_on=headers_to_split_on, strip_headers=False\n",
    ")\n",
    "md_header_splits = markdown_splitter.split_text(markdown_document_long)\n",
    "\n",
    "\n",
    "chunk_size = 200 # 분할된 청크 크기를 지정\n",
    "chunk_overlap = 20 # 분할된 청크 간의 중복되는 문자 수를 지정\n",
    "text_splitter = RecursiveCharacterTextSplitter(\n",
    "    chunk_size=chunk_size, chunk_overlap=chunk_overlap\n",
    ")\n",
    "\n",
    "\n",
    "splits = text_splitter.split_documents(md_header_splits)\n"
   ]
  },
  {
   "cell_type": "code",
   "execution_count": null,
   "metadata": {},
   "outputs": [],
   "source": [
    "from langchain_text_splitters import HTMLHeaderTextSplitter\n",
    "\n",
    "\n",
    "html_string = \"\"\"\n",
    "<!DOCTYPE html>\n",
    "<html>\n",
    "<body>\n",
    "<div>\n",
    "<h1>헤더 1</h1>\n",
    "<p>헤더 1에 포함된 본문</p>\n",
    "<div>\n",
    "<h2>헤더 2-1 제목</h2>\n",
    "<p>헤더 2-1에 포함된 본문</p>\n",
    "<h3>헤더 3-1 제목</h3>\n",
    "<p>헤더 3-1에 포함된 본문</p>\n",
    "<h3>헤더 3-2 제목</h3>\n",
    "<p>헤더 3-2에 포함된 본문</p>\n",
    "</div>\n",
    "<div>\n",
    "<h2>헤더 2-2 제목2</h2>\n",
    "<p>헤더 2-2에 포함된 본문</p>\n",
    "</div>\n",
    "<br>\n",
    "<p>마지막 내용</p>\n",
    "</div>\n",
    "</body>\n",
    "</html>\n",
    "\"\"\"\n"
   ]
  },
  {
   "cell_type": "code",
   "execution_count": null,
   "metadata": {},
   "outputs": [],
   "source": [
    "# HTML 헤더 태그와 헤더의 이름을 지정\n",
    "headers_to_split_on = [\n",
    "    (\"h1\", \"Header 1\"),\n",
    "    (\"h2\", \"Header 2\"),\n",
    "    (\"h3\", \"Header 3\"),\n",
    "]\n",
    "\n",
    "\n",
    "# HTMLHeaderTextSplitter 초기화\n",
    "html_splitter = HTMLHeaderTextSplitter(\n",
    "    headers_to_split_on=headers_to_split_on\n",
    ")\n",
    "\n",
    "\n",
    "# HTML 문서 구조를 탐색하며 설정된 헤더 태그를 찾고 각 헤더 아래 내용을 분할\n",
    "html_header_splits = html_splitter.split_text(html_string)\n",
    "\n",
    "\n",
    "# 분할된 결과 출력\n",
    "for header in html_header_splits:\n",
    "    print(f\"{header.page_content}\")\n",
    "    print(f\"{header.metadata}\", end=\"\\n=====================\\n\")\n"
   ]
  },
  {
   "cell_type": "code",
   "execution_count": null,
   "metadata": {},
   "outputs": [],
   "source": []
  },
  {
   "cell_type": "code",
   "execution_count": null,
   "metadata": {},
   "outputs": [],
   "source": []
  },
  {
   "cell_type": "code",
   "execution_count": null,
   "id": "6d715b18",
   "metadata": {},
   "outputs": [],
   "source": []
  },
  {
   "cell_type": "code",
   "execution_count": null,
   "metadata": {},
   "outputs": [],
   "source": []
  },
  {
   "cell_type": "code",
   "execution_count": null,
   "metadata": {},
   "outputs": [],
   "source": []
  },
  {
   "cell_type": "code",
   "execution_count": null,
   "metadata": {},
   "outputs": [],
   "source": []
  },
  {
   "cell_type": "code",
   "execution_count": null,
   "id": "98c3e471",
   "metadata": {},
   "outputs": [],
   "source": []
  },
  {
   "cell_type": "code",
   "execution_count": null,
   "id": "42c9a090",
   "metadata": {},
   "outputs": [],
   "source": []
  },
  {
   "cell_type": "code",
   "execution_count": null,
   "id": "9edc40a0",
   "metadata": {},
   "outputs": [],
   "source": []
  },
  {
   "cell_type": "code",
   "execution_count": null,
   "id": "4c831efe",
   "metadata": {},
   "outputs": [],
   "source": []
  }
 ],
 "metadata": {
  "kernelspec": {
   "display_name": "openai",
   "language": "python",
   "name": "python3"
  },
  "language_info": {
   "codemirror_mode": {
    "name": "ipython",
    "version": 3
   },
   "file_extension": ".py",
   "mimetype": "text/x-python",
   "name": "python",
   "nbconvert_exporter": "python",
   "pygments_lexer": "ipython3",
   "version": "3.12.11"
  }
 },
 "nbformat": 4,
 "nbformat_minor": 5
}
