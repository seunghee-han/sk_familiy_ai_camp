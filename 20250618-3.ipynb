{
 "cells": [
  {
   "cell_type": "code",
   "execution_count": 2,
   "id": "58585d7a",
   "metadata": {},
   "outputs": [],
   "source": [
    "import pandas as pd \n",
    "import requests "
   ]
  },
  {
   "cell_type": "code",
   "execution_count": 6,
   "id": "1e234d77",
   "metadata": {},
   "outputs": [],
   "source": [
    "하반기  = pd.read_csv(\"./data/하반기 주유소 판매가격.csv\", encoding='euc-kr')\n",
    "상반기  = pd.read_csv(\"./data/상반기 주유소 판매가격.csv\", encoding='euc-kr')"
   ]
  },
  {
   "cell_type": "code",
   "execution_count": 8,
   "id": "03e3c573",
   "metadata": {},
   "outputs": [],
   "source": [
    "주유소 = pd.concat([상반기, 하반기], ignore_index=True)"
   ]
  },
  {
   "cell_type": "markdown",
   "id": "07ceaa59",
   "metadata": {},
   "source": [
    "각 지역(25개지역구)별 상표 순위"
   ]
  },
  {
   "cell_type": "code",
   "execution_count": 13,
   "id": "e1dcd775",
   "metadata": {},
   "outputs": [
    {
     "name": "stdout",
     "output_type": "stream",
     "text": [
      "<class 'pandas.core.frame.DataFrame'>\n",
      "RangeIndex: 181714 entries, 0 to 181713\n",
      "Data columns (total 11 columns):\n",
      " #   Column  Non-Null Count   Dtype \n",
      "---  ------  --------------   ----- \n",
      " 0   번호      181714 non-null  object\n",
      " 1   지역      181714 non-null  object\n",
      " 2   상호      181714 non-null  object\n",
      " 3   주소      181714 non-null  object\n",
      " 4   기간      181714 non-null  int64 \n",
      " 5   상표      181714 non-null  object\n",
      " 6   셀프여부    181714 non-null  object\n",
      " 7   고급휘발유   181714 non-null  int64 \n",
      " 8   휘발유     181714 non-null  int64 \n",
      " 9   경유      181714 non-null  int64 \n",
      " 10  실내등유    181714 non-null  int64 \n",
      "dtypes: int64(5), object(6)\n",
      "memory usage: 15.3+ MB\n"
     ]
    }
   ],
   "source": [
    "주유소.info()"
   ]
  },
  {
   "cell_type": "code",
   "execution_count": 17,
   "id": "780e0f24",
   "metadata": {},
   "outputs": [],
   "source": [
    "주유소.기간 = pd.to_datetime(주유소.기간.astype(str))"
   ]
  },
  {
   "cell_type": "code",
   "execution_count": 30,
   "id": "e8877906",
   "metadata": {},
   "outputs": [],
   "source": [
    "주유소_12 = 주유소[주유소.기간 == '2019-12-31'].copy()"
   ]
  },
  {
   "cell_type": "code",
   "execution_count": 24,
   "id": "7f50ed1b",
   "metadata": {},
   "outputs": [],
   "source": [
    "a = pd.DataFrame({'a' : [1,2,3]})"
   ]
  },
  {
   "cell_type": "code",
   "execution_count": 26,
   "id": "0ffa1bbd",
   "metadata": {},
   "outputs": [],
   "source": [
    "b = a"
   ]
  },
  {
   "cell_type": "code",
   "execution_count": 28,
   "id": "82de1b96",
   "metadata": {},
   "outputs": [],
   "source": [
    "b.iloc[0] = 100"
   ]
  },
  {
   "cell_type": "code",
   "execution_count": 29,
   "id": "1db118bc",
   "metadata": {},
   "outputs": [
    {
     "data": {
      "text/html": [
       "<div>\n",
       "<style scoped>\n",
       "    .dataframe tbody tr th:only-of-type {\n",
       "        vertical-align: middle;\n",
       "    }\n",
       "\n",
       "    .dataframe tbody tr th {\n",
       "        vertical-align: top;\n",
       "    }\n",
       "\n",
       "    .dataframe thead th {\n",
       "        text-align: right;\n",
       "    }\n",
       "</style>\n",
       "<table border=\"1\" class=\"dataframe\">\n",
       "  <thead>\n",
       "    <tr style=\"text-align: right;\">\n",
       "      <th></th>\n",
       "      <th>a</th>\n",
       "    </tr>\n",
       "  </thead>\n",
       "  <tbody>\n",
       "    <tr>\n",
       "      <th>0</th>\n",
       "      <td>100</td>\n",
       "    </tr>\n",
       "    <tr>\n",
       "      <th>1</th>\n",
       "      <td>2</td>\n",
       "    </tr>\n",
       "    <tr>\n",
       "      <th>2</th>\n",
       "      <td>3</td>\n",
       "    </tr>\n",
       "  </tbody>\n",
       "</table>\n",
       "</div>"
      ],
      "text/plain": [
       "     a\n",
       "0  100\n",
       "1    2\n",
       "2    3"
      ]
     },
     "execution_count": 29,
     "metadata": {},
     "output_type": "execute_result"
    }
   ],
   "source": [
    "a"
   ]
  },
  {
   "cell_type": "code",
   "execution_count": null,
   "id": "4c2de61c",
   "metadata": {},
   "outputs": [],
   "source": [
    "주유소_12.isnull().sum()"
   ]
  },
  {
   "cell_type": "code",
   "execution_count": 37,
   "id": "37509351",
   "metadata": {},
   "outputs": [],
   "source": [
    "집계 = 주유소_12.groupby(['지역', '상표'], as_index=False)[['번호']].count().sort_values(by=['지역', '번호'], ascending=[True, False])"
   ]
  },
  {
   "cell_type": "code",
   "execution_count": 42,
   "id": "acaa414c",
   "metadata": {},
   "outputs": [
    {
     "data": {
      "text/html": [
       "<div>\n",
       "<style scoped>\n",
       "    .dataframe tbody tr th:only-of-type {\n",
       "        vertical-align: middle;\n",
       "    }\n",
       "\n",
       "    .dataframe tbody tr th {\n",
       "        vertical-align: top;\n",
       "    }\n",
       "\n",
       "    .dataframe thead th {\n",
       "        text-align: right;\n",
       "    }\n",
       "</style>\n",
       "<table border=\"1\" class=\"dataframe\">\n",
       "  <thead>\n",
       "    <tr style=\"text-align: right;\">\n",
       "      <th></th>\n",
       "      <th>상표</th>\n",
       "      <th>번호</th>\n",
       "    </tr>\n",
       "    <tr>\n",
       "      <th>지역</th>\n",
       "      <th></th>\n",
       "      <th></th>\n",
       "    </tr>\n",
       "  </thead>\n",
       "  <tbody>\n",
       "    <tr>\n",
       "      <th>서울 강남구</th>\n",
       "      <td>SK에너지</td>\n",
       "      <td>16</td>\n",
       "    </tr>\n",
       "    <tr>\n",
       "      <th>서울 강동구</th>\n",
       "      <td>SK에너지</td>\n",
       "      <td>7</td>\n",
       "    </tr>\n",
       "    <tr>\n",
       "      <th>서울 강북구</th>\n",
       "      <td>SK에너지</td>\n",
       "      <td>5</td>\n",
       "    </tr>\n",
       "    <tr>\n",
       "      <th>서울 강서구</th>\n",
       "      <td>SK에너지</td>\n",
       "      <td>13</td>\n",
       "    </tr>\n",
       "    <tr>\n",
       "      <th>서울 관악구</th>\n",
       "      <td>SK에너지</td>\n",
       "      <td>5</td>\n",
       "    </tr>\n",
       "    <tr>\n",
       "      <th>서울 광진구</th>\n",
       "      <td>SK에너지</td>\n",
       "      <td>5</td>\n",
       "    </tr>\n",
       "    <tr>\n",
       "      <th>서울 구로구</th>\n",
       "      <td>S-OIL</td>\n",
       "      <td>6</td>\n",
       "    </tr>\n",
       "    <tr>\n",
       "      <th>서울 금천구</th>\n",
       "      <td>SK에너지</td>\n",
       "      <td>4</td>\n",
       "    </tr>\n",
       "    <tr>\n",
       "      <th>서울 노원구</th>\n",
       "      <td>GS칼텍스</td>\n",
       "      <td>6</td>\n",
       "    </tr>\n",
       "    <tr>\n",
       "      <th>서울 도봉구</th>\n",
       "      <td>S-OIL</td>\n",
       "      <td>6</td>\n",
       "    </tr>\n",
       "    <tr>\n",
       "      <th>서울 동대문구</th>\n",
       "      <td>SK에너지</td>\n",
       "      <td>8</td>\n",
       "    </tr>\n",
       "    <tr>\n",
       "      <th>서울 동작구</th>\n",
       "      <td>현대오일뱅크</td>\n",
       "      <td>3</td>\n",
       "    </tr>\n",
       "    <tr>\n",
       "      <th>서울 마포구</th>\n",
       "      <td>SK에너지</td>\n",
       "      <td>6</td>\n",
       "    </tr>\n",
       "    <tr>\n",
       "      <th>서울 서대문구</th>\n",
       "      <td>SK에너지</td>\n",
       "      <td>7</td>\n",
       "    </tr>\n",
       "    <tr>\n",
       "      <th>서울 서초구</th>\n",
       "      <td>GS칼텍스</td>\n",
       "      <td>14</td>\n",
       "    </tr>\n",
       "    <tr>\n",
       "      <th>서울 성동구</th>\n",
       "      <td>SK에너지</td>\n",
       "      <td>7</td>\n",
       "    </tr>\n",
       "    <tr>\n",
       "      <th>서울 성북구</th>\n",
       "      <td>GS칼텍스</td>\n",
       "      <td>7</td>\n",
       "    </tr>\n",
       "    <tr>\n",
       "      <th>서울 송파구</th>\n",
       "      <td>SK에너지</td>\n",
       "      <td>13</td>\n",
       "    </tr>\n",
       "    <tr>\n",
       "      <th>서울 양천구</th>\n",
       "      <td>SK에너지</td>\n",
       "      <td>13</td>\n",
       "    </tr>\n",
       "    <tr>\n",
       "      <th>서울 영등포구</th>\n",
       "      <td>SK에너지</td>\n",
       "      <td>14</td>\n",
       "    </tr>\n",
       "    <tr>\n",
       "      <th>서울 용산구</th>\n",
       "      <td>SK에너지</td>\n",
       "      <td>9</td>\n",
       "    </tr>\n",
       "    <tr>\n",
       "      <th>서울 은평구</th>\n",
       "      <td>GS칼텍스</td>\n",
       "      <td>6</td>\n",
       "    </tr>\n",
       "    <tr>\n",
       "      <th>서울 종로구</th>\n",
       "      <td>SK에너지</td>\n",
       "      <td>4</td>\n",
       "    </tr>\n",
       "    <tr>\n",
       "      <th>서울 중구</th>\n",
       "      <td>SK에너지</td>\n",
       "      <td>4</td>\n",
       "    </tr>\n",
       "    <tr>\n",
       "      <th>서울 중랑구</th>\n",
       "      <td>SK에너지</td>\n",
       "      <td>5</td>\n",
       "    </tr>\n",
       "  </tbody>\n",
       "</table>\n",
       "</div>"
      ],
      "text/plain": [
       "             상표  번호\n",
       "지역                 \n",
       "서울 강남구    SK에너지  16\n",
       "서울 강동구    SK에너지   7\n",
       "서울 강북구    SK에너지   5\n",
       "서울 강서구    SK에너지  13\n",
       "서울 관악구    SK에너지   5\n",
       "서울 광진구    SK에너지   5\n",
       "서울 구로구    S-OIL   6\n",
       "서울 금천구    SK에너지   4\n",
       "서울 노원구    GS칼텍스   6\n",
       "서울 도봉구    S-OIL   6\n",
       "서울 동대문구   SK에너지   8\n",
       "서울 동작구   현대오일뱅크   3\n",
       "서울 마포구    SK에너지   6\n",
       "서울 서대문구   SK에너지   7\n",
       "서울 서초구    GS칼텍스  14\n",
       "서울 성동구    SK에너지   7\n",
       "서울 성북구    GS칼텍스   7\n",
       "서울 송파구    SK에너지  13\n",
       "서울 양천구    SK에너지  13\n",
       "서울 영등포구   SK에너지  14\n",
       "서울 용산구    SK에너지   9\n",
       "서울 은평구    GS칼텍스   6\n",
       "서울 종로구    SK에너지   4\n",
       "서울 중구     SK에너지   4\n",
       "서울 중랑구    SK에너지   5"
      ]
     },
     "execution_count": 42,
     "metadata": {},
     "output_type": "execute_result"
    }
   ],
   "source": [
    "집계.sort_values(by=['번호'], ascending=False).groupby(\"지역\").first()"
   ]
  },
  {
   "cell_type": "code",
   "execution_count": 51,
   "id": "d5772b40",
   "metadata": {},
   "outputs": [],
   "source": [
    "url = \"https://finance.naver.com/marketindex/worldDailyQuote.naver?marketindexCd=OIL_DU&fdtc=2&page={}\""
   ]
  },
  {
   "cell_type": "code",
   "execution_count": null,
   "id": "f3f65918",
   "metadata": {},
   "outputs": [],
   "source": [
    "total = []\n",
    "for   idx   in range(197, 235):\n",
    "    total.append(pd.read_html(requests.get(url.format(idx)).text)[0])\n",
    "두바이유 = pd.concat(total)"
   ]
  },
  {
   "cell_type": "code",
   "execution_count": null,
   "id": "a9388785",
   "metadata": {},
   "outputs": [],
   "source": [
    "두바이유 = pd.concat([  pd.read_html(requests.get(url.format(idx)).text)[0]  for   idx   in range(197, 235)])"
   ]
  },
  {
   "cell_type": "code",
   "execution_count": 65,
   "id": "68a14a2a",
   "metadata": {},
   "outputs": [],
   "source": [
    "두바이유.날짜 = pd.to_datetime(두바이유.날짜)"
   ]
  },
  {
   "cell_type": "code",
   "execution_count": 71,
   "id": "cc036955",
   "metadata": {},
   "outputs": [],
   "source": [
    "금천구 = 주유소.loc[주유소.지역 == '서울 금천구', ['상호', '기간', '휘발유']]"
   ]
  },
  {
   "cell_type": "code",
   "execution_count": 73,
   "id": "5b0f8fe3",
   "metadata": {},
   "outputs": [],
   "source": [
    "금천구_피봇  = 금천구.pivot(index='기간', columns=['상호'], values='휘발유')"
   ]
  },
  {
   "cell_type": "code",
   "execution_count": 76,
   "id": "755d0cd7",
   "metadata": {},
   "outputs": [],
   "source": [
    "두바이유.set_index(\"날짜\", inplace=True)"
   ]
  },
  {
   "cell_type": "code",
   "execution_count": 80,
   "id": "ef4670f0",
   "metadata": {},
   "outputs": [
    {
     "data": {
      "text/plain": [
       "(주)진우에너지 백운주유소      -0.059629\n",
       "(주)태영유업 독산고개        -0.068938\n",
       "KH에너지(주)직영시흥대로주유소   -0.064850\n",
       "SK에너지(주) 박미주유소      -0.323332\n",
       "SK에너지(주) 이가주유소      -0.306869\n",
       "경복에너지주유소            -0.055869\n",
       "구광주유소               -0.072092\n",
       "남서울경복에너지            -0.058301\n",
       "대득에너지(금천셀프주유소)      -0.065367\n",
       "명보주유소               -0.072616\n",
       "백산주유소               -0.041918\n",
       "순환도로                -0.127021\n",
       "지에스칼텍스(주)일신주유소      -0.094224\n",
       "파실 때                 1.000000\n",
       "Name: 파실 때, dtype: float64"
      ]
     },
     "execution_count": 80,
     "metadata": {},
     "output_type": "execute_result"
    }
   ],
   "source": [
    "pd.merge(금천구_피봇, 두바이유['파실 때'], left_index=True, right_index=True, how='left').corr()['파실 때']"
   ]
  },
  {
   "cell_type": "code",
   "execution_count": null,
   "id": "1da5d5aa",
   "metadata": {},
   "outputs": [],
   "source": []
  }
 ],
 "metadata": {
  "kernelspec": {
   "display_name": "pandas",
   "language": "python",
   "name": "python3"
  },
  "language_info": {
   "codemirror_mode": {
    "name": "ipython",
    "version": 3
   },
   "file_extension": ".py",
   "mimetype": "text/x-python",
   "name": "python",
   "nbconvert_exporter": "python",
   "pygments_lexer": "ipython3",
   "version": "3.12.11"
  }
 },
 "nbformat": 4,
 "nbformat_minor": 5
}
